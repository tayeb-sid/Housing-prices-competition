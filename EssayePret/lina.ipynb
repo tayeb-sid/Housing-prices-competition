{
 "cells": [
  {
   "cell_type": "code",
   "execution_count": 966,
   "metadata": {},
   "outputs": [],
   "source": [
    "import pandas as pd"
   ]
  },
  {
   "cell_type": "code",
   "execution_count": 967,
   "metadata": {},
   "outputs": [],
   "source": [
    "train=pd.read_csv('home-data-for-ml-course\\\\train.csv')\n",
    "test=pd.read_csv('home-data-for-ml-course\\\\test.csv')\n",
    "\n",
    "train.columns = train.columns.str.strip()\n",
    "test.columns = test.columns.str.strip()\n",
    "\n",
    "Y_train=train['SalePrice']\n",
    "train.drop(columns=['SalePrice'],inplace=True)\n"
   ]
  },
  {
   "cell_type": "code",
   "execution_count": 968,
   "metadata": {},
   "outputs": [
    {
     "name": "stdout",
     "output_type": "stream",
     "text": [
      "(2919, 79)\n"
     ]
    }
   ],
   "source": [
    "data=pd.concat([train,test],axis=0,ignore_index=True)\n",
    "Ids= data['Id']\n",
    "data.drop(columns=['Id'],inplace=True)\n",
    "print(data.shape)"
   ]
  },
  {
   "cell_type": "code",
   "execution_count": 969,
   "metadata": {},
   "outputs": [],
   "source": [
    "data[[\"LotFrontage\", \"MasVnrArea\", \"GarageYrBlt\"]] = data[[\"LotFrontage\", \"MasVnrArea\", \"GarageYrBlt\"]].apply(pd.to_numeric, errors=\"coerce\")\n",
    "\n",
    "data_categorical_cols = [feature for feature in data.columns if data[feature].dtype == \"object\"] \n",
    "\n",
    "data_nominal_cols = [\"MSZoning\", \"Street\", \"Alley\", \"LandContour\", \"LotConfig\", \"Neighborhood\", \"Condition1\", \"Condition2\", \n",
    "                    \"BldgType\", \"HouseStyle\", \"RoofStyle\", \"RoofMatl\", \"Exterior1st\", \"Exterior2nd\", \"MasVnrType\", \"Foundation\", \"Heating\",\n",
    "                    \"CentralAir\", 'Electrical',\"GarageType\", \"MiscFeature\", \"SaleType\", \"SaleCondition\"]\n",
    "\n",
    "data_ordinal_cols = [ 'LotShape','Utilities','LandSlope','ExterQual','ExterCond','BsmtQual','BsmtCond','BsmtExposure','BsmtFinType1',\n",
    "                    'BsmtFinType2','HeatingQC','KitchenQual','Functional','FireplaceQu','GarageFinish','GarageQual',\n",
    "                    'GarageCond','PavedDrive','PoolQC','Fence']\n",
    "\n",
    "data_numerical_cols = [feature for feature in data.columns if feature not in data_categorical_cols]\n",
    "data_numerical_cols_without_SalePrice = [feature for feature in data.columns if feature not in data_categorical_cols and feature!='SalePrice']\n",
    "\n",
    "data_discrete_numerical_cols = [ 'OverallQual','OverallCond','BsmtFullBath','BsmtHalfBath',\n",
    "  'FullBath','HalfBath','BedroomAbvGr','KitchenAbvGr','TotRmsAbvGrd','Fireplaces','GarageCars','MoSold', \"MSSubClass\"] \n",
    "\n",
    "data_continuous_numerical_cols = ['LotFrontage','LotArea','YearBuilt','YearRemodAdd','MasVnrArea','BsmtFinSF1','BsmtFinSF2',\n",
    "                                  'BsmtUnfSF','TotalBsmtSF','1stFlrSF','2ndFlrSF','LowQualFinSF','GrLivArea','GarageYrBlt',\n",
    "                                  'GarageArea','WoodDeckSF','OpenPorchSF','EnclosedPorch','3SsnPorch','ScreenPorch','PoolArea',\n",
    "                                  'MiscVal','YrSold','SalePrice']\n",
    "for col in data_numerical_cols_without_SalePrice:\n",
    "    train[col] = pd.to_numeric(train[col], errors='coerce')  \n",
    "    test[col] = pd.to_numeric(test[col], errors='coerce')\n",
    "  # Remove spaces from all categorical features\n",
    "for col in data_categorical_cols:\n",
    "    train[col] = train[col].str.strip().replace(\" \", \"\")\n",
    "    test[col] = test[col].str.strip().replace(\" \", \"\")\n",
    "\n",
    "  \n",
    "def update_cols():\n",
    "    global data_nominal_cols, data_ordinal_cols,data_continuous_numerical_cols,data_discrete_numerical_cols,data_categorical_cols,data_numerical_cols\n",
    "    data_categorical_cols=[col for col in data.columns if col in data_categorical_cols]\n",
    "    data_numerical_cols=[col for col in data.columns if col in data_numerical_cols]\n",
    "    data_nominal_cols=[col for col in data.columns if col in data_nominal_cols]\n",
    "    data_ordinal_cols=[col for col in data.columns if col in data_ordinal_cols]\n",
    "    data_continuous_numerical_cols=[col for col in data.columns if col in data_continuous_numerical_cols]\n",
    "    data_discrete_numerical_cols=[col for col in data.columns if col in data_discrete_numerical_cols]\n"
   ]
  },
  {
   "cell_type": "markdown",
   "metadata": {},
   "source": [
    "Missing Values"
   ]
  },
  {
   "cell_type": "code",
   "execution_count": 970,
   "metadata": {},
   "outputs": [
    {
     "data": {
      "text/plain": [
       "PoolQC          2909\n",
       "MiscFeature     2814\n",
       "Alley           2721\n",
       "Fence           2348\n",
       "MasVnrType      1766\n",
       "FireplaceQu     1420\n",
       "LotFrontage      486\n",
       "GarageYrBlt      159\n",
       "GarageFinish     159\n",
       "GarageQual       159\n",
       "dtype: int64"
      ]
     },
     "execution_count": 970,
     "metadata": {},
     "output_type": "execute_result"
    }
   ],
   "source": [
    "data.isnull().sum().sort_values(ascending=False).head(10)"
   ]
  },
  {
   "cell_type": "code",
   "execution_count": 971,
   "metadata": {},
   "outputs": [
    {
     "name": "stdout",
     "output_type": "stream",
     "text": [
      "(2919, 73)\n"
     ]
    }
   ],
   "source": [
    "# dropping columns with too many null values\n",
    "data.drop(columns=['PoolQC','MiscFeature','Alley','Fence','MasVnrType','FireplaceQu'],inplace=True)\n",
    "update_cols()\n",
    "print(data.shape)"
   ]
  },
  {
   "cell_type": "code",
   "execution_count": 972,
   "metadata": {},
   "outputs": [
    {
     "name": "stdout",
     "output_type": "stream",
     "text": [
      "['Utilities', 'Street', 'PoolArea', 'Condition2', '3SsnPorch', 'LowQualFinSF', 'RoofMatl', 'Heating', 'MiscVal', 'KitchenAbvGr', 'LandSlope']\n"
     ]
    },
    {
     "data": {
      "text/html": [
       "<div>\n",
       "<style scoped>\n",
       "    .dataframe tbody tr th:only-of-type {\n",
       "        vertical-align: middle;\n",
       "    }\n",
       "\n",
       "    .dataframe tbody tr th {\n",
       "        vertical-align: top;\n",
       "    }\n",
       "\n",
       "    .dataframe thead th {\n",
       "        text-align: right;\n",
       "    }\n",
       "</style>\n",
       "<table border=\"1\" class=\"dataframe\">\n",
       "  <thead>\n",
       "    <tr style=\"text-align: right;\">\n",
       "      <th></th>\n",
       "      <th>Feature</th>\n",
       "      <th>Most Common Value</th>\n",
       "      <th>Percentage</th>\n",
       "    </tr>\n",
       "  </thead>\n",
       "  <tbody>\n",
       "    <tr>\n",
       "      <th>7</th>\n",
       "      <td>Utilities</td>\n",
       "      <td>AllPub</td>\n",
       "      <td>99.90</td>\n",
       "    </tr>\n",
       "    <tr>\n",
       "      <th>4</th>\n",
       "      <td>Street</td>\n",
       "      <td>Pave</td>\n",
       "      <td>99.59</td>\n",
       "    </tr>\n",
       "    <tr>\n",
       "      <th>67</th>\n",
       "      <td>PoolArea</td>\n",
       "      <td>0</td>\n",
       "      <td>99.55</td>\n",
       "    </tr>\n",
       "    <tr>\n",
       "      <th>12</th>\n",
       "      <td>Condition2</td>\n",
       "      <td>Norm</td>\n",
       "      <td>98.97</td>\n",
       "    </tr>\n",
       "    <tr>\n",
       "      <th>65</th>\n",
       "      <td>3SsnPorch</td>\n",
       "      <td>0</td>\n",
       "      <td>98.73</td>\n",
       "    </tr>\n",
       "    <tr>\n",
       "      <th>42</th>\n",
       "      <td>LowQualFinSF</td>\n",
       "      <td>0</td>\n",
       "      <td>98.63</td>\n",
       "    </tr>\n",
       "    <tr>\n",
       "      <th>20</th>\n",
       "      <td>RoofMatl</td>\n",
       "      <td>CompShg</td>\n",
       "      <td>98.53</td>\n",
       "    </tr>\n",
       "    <tr>\n",
       "      <th>36</th>\n",
       "      <td>Heating</td>\n",
       "      <td>GasA</td>\n",
       "      <td>98.46</td>\n",
       "    </tr>\n",
       "    <tr>\n",
       "      <th>68</th>\n",
       "      <td>MiscVal</td>\n",
       "      <td>0</td>\n",
       "      <td>96.47</td>\n",
       "    </tr>\n",
       "    <tr>\n",
       "      <th>49</th>\n",
       "      <td>KitchenAbvGr</td>\n",
       "      <td>1</td>\n",
       "      <td>95.41</td>\n",
       "    </tr>\n",
       "    <tr>\n",
       "      <th>9</th>\n",
       "      <td>LandSlope</td>\n",
       "      <td>Gtl</td>\n",
       "      <td>95.17</td>\n",
       "    </tr>\n",
       "    <tr>\n",
       "      <th>45</th>\n",
       "      <td>BsmtHalfBath</td>\n",
       "      <td>0.0</td>\n",
       "      <td>93.94</td>\n",
       "    </tr>\n",
       "    <tr>\n",
       "      <th>38</th>\n",
       "      <td>CentralAir</td>\n",
       "      <td>Y</td>\n",
       "      <td>93.29</td>\n",
       "    </tr>\n",
       "    <tr>\n",
       "      <th>52</th>\n",
       "      <td>Functional</td>\n",
       "      <td>Typ</td>\n",
       "      <td>93.08</td>\n",
       "    </tr>\n",
       "    <tr>\n",
       "      <th>39</th>\n",
       "      <td>Electrical</td>\n",
       "      <td>SBrkr</td>\n",
       "      <td>91.50</td>\n",
       "    </tr>\n",
       "    <tr>\n",
       "      <th>66</th>\n",
       "      <td>ScreenPorch</td>\n",
       "      <td>0</td>\n",
       "      <td>91.23</td>\n",
       "    </tr>\n",
       "    <tr>\n",
       "      <th>60</th>\n",
       "      <td>GarageCond</td>\n",
       "      <td>TA</td>\n",
       "      <td>90.92</td>\n",
       "    </tr>\n",
       "    <tr>\n",
       "      <th>61</th>\n",
       "      <td>PavedDrive</td>\n",
       "      <td>Y</td>\n",
       "      <td>90.48</td>\n",
       "    </tr>\n",
       "  </tbody>\n",
       "</table>\n",
       "</div>"
      ],
      "text/plain": [
       "         Feature Most Common Value  Percentage\n",
       "7      Utilities            AllPub       99.90\n",
       "4         Street              Pave       99.59\n",
       "67      PoolArea                 0       99.55\n",
       "12    Condition2              Norm       98.97\n",
       "65     3SsnPorch                 0       98.73\n",
       "42  LowQualFinSF                 0       98.63\n",
       "20      RoofMatl           CompShg       98.53\n",
       "36       Heating              GasA       98.46\n",
       "68       MiscVal                 0       96.47\n",
       "49  KitchenAbvGr                 1       95.41\n",
       "9      LandSlope               Gtl       95.17\n",
       "45  BsmtHalfBath               0.0       93.94\n",
       "38    CentralAir                 Y       93.29\n",
       "52    Functional               Typ       93.08\n",
       "39    Electrical             SBrkr       91.50\n",
       "66   ScreenPorch                 0       91.23\n",
       "60    GarageCond                TA       90.92\n",
       "61    PavedDrive                 Y       90.48"
      ]
     },
     "execution_count": 972,
     "metadata": {},
     "output_type": "execute_result"
    }
   ],
   "source": [
    "common_value_threshold=95\n",
    "def most_commun(threashold=80):\n",
    "    dict=[]\n",
    "    for col in data.columns:\n",
    "        most_commun_value=data[col].mode()[0]\n",
    "        most_commun_value_percentage=round((data[col]==most_commun_value).mean(),4)\n",
    "        dict.append({'Feature': col,'Most Common Value': most_commun_value,'Percentage': most_commun_value_percentage*100})    \n",
    "    dict= pd.DataFrame(dict)\n",
    "    return dict[dict['Percentage']>threashold].sort_values(by='Percentage',ascending=False)\n",
    "\n",
    "\n",
    "cols_with_too_many_same_values=list(most_commun(common_value_threshold)['Feature'])\n",
    "print(cols_with_too_many_same_values)\n",
    "most_commun(90)\n"
   ]
  },
  {
   "cell_type": "code",
   "execution_count": 973,
   "metadata": {},
   "outputs": [
    {
     "name": "stdout",
     "output_type": "stream",
     "text": [
      "(2919, 62)\n"
     ]
    }
   ],
   "source": [
    "# dropping features that have mostly one value\n",
    "data.drop(columns=cols_with_too_many_same_values,inplace=True)\n",
    "update_cols()\n",
    "print(data.shape)\n",
    "\n"
   ]
  },
  {
   "cell_type": "code",
   "execution_count": 974,
   "metadata": {},
   "outputs": [
    {
     "name": "stdout",
     "output_type": "stream",
     "text": [
      "Numerical:  31 Categorical:  31\n"
     ]
    },
    {
     "data": {
      "text/plain": [
       "(2919, 62)"
      ]
     },
     "execution_count": 974,
     "metadata": {},
     "output_type": "execute_result"
    }
   ],
   "source": [
    "numerical_cols = list(data.select_dtypes(include=['number']).columns)\n",
    "categorical_cols= list(data.select_dtypes(include=['object']).columns)\n",
    "print('Numerical: ',len(numerical_cols),'Categorical: ',len(categorical_cols))\n",
    "\n",
    "data.shape"
   ]
  },
  {
   "cell_type": "code",
   "execution_count": 975,
   "metadata": {},
   "outputs": [
    {
     "name": "stdout",
     "output_type": "stream",
     "text": [
      "data before imputing:  1727\n",
      "data after imputing:  0\n"
     ]
    }
   ],
   "source": [
    "from sklearn.impute import SimpleImputer\n",
    "print('data before imputing: ',data.isnull().sum().sum())\n",
    "\n",
    "update_cols()\n",
    "\n",
    "mode_imputer = SimpleImputer(strategy='most_frequent')\n",
    "mean_imputer = SimpleImputer(strategy='mean')\n",
    "\n",
    "data[categorical_cols]=mode_imputer.fit_transform(data[categorical_cols])\n",
    "data[data_discrete_numerical_cols]=mode_imputer.fit_transform(data[data_discrete_numerical_cols])\n",
    "data[data_continuous_numerical_cols]=mean_imputer.fit_transform(data[data_continuous_numerical_cols])\n",
    "\n",
    "print('data after imputing: ',data.isnull().sum().sum())\n",
    "\n"
   ]
  },
  {
   "cell_type": "markdown",
   "metadata": {},
   "source": [
    "Encoding "
   ]
  },
  {
   "cell_type": "code",
   "execution_count": 976,
   "metadata": {},
   "outputs": [
    {
     "data": {
      "text/plain": [
       "(2919, 62)"
      ]
     },
     "execution_count": 976,
     "metadata": {},
     "output_type": "execute_result"
    }
   ],
   "source": [
    "from sklearn.preprocessing import OneHotEncoder,LabelEncoder\n",
    "\n",
    "encoder = LabelEncoder()\n",
    "\n",
    "for col in data_categorical_cols:\n",
    "    data[col] = encoder.fit_transform(data[col])\n",
    "\n",
    "data.shape\n",
    "\n"
   ]
  },
  {
   "cell_type": "markdown",
   "metadata": {},
   "source": [
    "Correlation"
   ]
  },
  {
   "cell_type": "code",
   "execution_count": 977,
   "metadata": {},
   "outputs": [
    {
     "name": "stdout",
     "output_type": "stream",
     "text": [
      "(YearBuilt, GarageYrBlt, 0.7900)\n",
      "(TotalBsmtSF, 1stFlrSF, 0.8016)\n",
      "(GrLivArea, TotRmsAbvGrd, 0.8084)\n",
      "(GarageCars, GarageArea, 0.8897)\n"
     ]
    }
   ],
   "source": [
    "import numpy as np\n",
    "pair_corr_threshold=0.75\n",
    "\n",
    "corr_matrix = data[numerical_cols].corr()\n",
    "\n",
    "upper_triangle = np.triu(np.ones(corr_matrix.shape), k=1).astype(bool)\n",
    "high_corr_pairs = [\n",
    "    (corr_matrix.index[i], corr_matrix.columns[j], corr_matrix.iat[i, j])\n",
    "    for i in range(corr_matrix.shape[0]) \n",
    "    for j in range(corr_matrix.shape[1]) \n",
    "    if upper_triangle[i, j] and abs(corr_matrix.iat[i, j]) > pair_corr_threshold  # Threshold for high correlation\n",
    "]\n",
    "\n",
    "for f1, f2, correlation in high_corr_pairs:\n",
    "    print(f\"({f1}, {f2}, {correlation:.4f})\")\n",
    "\n",
    "\n",
    "cols_to_drop=['GarageYrBlt','TotalBsmtSF','GarageCars','TotRmsAbvGrd']\n"
   ]
  },
  {
   "cell_type": "code",
   "execution_count": 978,
   "metadata": {},
   "outputs": [
    {
     "name": "stdout",
     "output_type": "stream",
     "text": [
      "1 Features with less than  0.012 with SalePrice\n"
     ]
    },
    {
     "data": {
      "text/html": [
       "<div>\n",
       "<style scoped>\n",
       "    .dataframe tbody tr th:only-of-type {\n",
       "        vertical-align: middle;\n",
       "    }\n",
       "\n",
       "    .dataframe tbody tr th {\n",
       "        vertical-align: top;\n",
       "    }\n",
       "\n",
       "    .dataframe thead th {\n",
       "        text-align: right;\n",
       "    }\n",
       "</style>\n",
       "<table border=\"1\" class=\"dataframe\">\n",
       "  <thead>\n",
       "    <tr style=\"text-align: right;\">\n",
       "      <th></th>\n",
       "      <th>Feature</th>\n",
       "      <th>Correlation</th>\n",
       "    </tr>\n",
       "  </thead>\n",
       "  <tbody>\n",
       "    <tr>\n",
       "      <th>62</th>\n",
       "      <td>BsmtFinSF2</td>\n",
       "      <td>0.011378</td>\n",
       "    </tr>\n",
       "  </tbody>\n",
       "</table>\n",
       "</div>"
      ],
      "text/plain": [
       "       Feature  Correlation\n",
       "62  BsmtFinSF2     0.011378"
      ]
     },
     "execution_count": 978,
     "metadata": {},
     "output_type": "execute_result"
    }
   ],
   "source": [
    "corr_threshold=0.012\n",
    "data['SalePrice']=Y_train\n",
    "correlation_with_target = data.loc[:1460,:].corrwith(data.loc[:1460, 'SalePrice'])\n",
    "\n",
    "correlation_with_target_df = correlation_with_target.abs().sort_values(ascending=False).reset_index()\n",
    "correlation_with_target_df.columns = ['Feature', 'Correlation']\n",
    "\n",
    "data.drop(columns='SalePrice',inplace=True)\n",
    "low_corr_features= correlation_with_target_df[correlation_with_target_df['Correlation'] <= corr_threshold].sort_values(by='Correlation',ascending=False)\n",
    "cols_to_drop.extend(list(low_corr_features['Feature']))\n",
    "print((len(cols_to_drop)-4),'Features with less than ', corr_threshold, 'with SalePrice')\n",
    "\n",
    "low_corr_features"
   ]
  },
  {
   "cell_type": "code",
   "execution_count": 979,
   "metadata": {},
   "outputs": [
    {
     "name": "stdout",
     "output_type": "stream",
     "text": [
      "Columns to drop:  ['GarageYrBlt', 'TotalBsmtSF', 'GarageCars', 'TotRmsAbvGrd', 'BsmtFinSF2']\n",
      "before:  (2919, 62)\n",
      "after:  (2919, 57)\n"
     ]
    }
   ],
   "source": [
    "print('Columns to drop: ', cols_to_drop)\n",
    "print(\"before: \",data.shape)\n",
    "data.drop(columns=cols_to_drop,inplace=True)\n",
    "print(\"after: \",data.shape)\n",
    "update_cols()"
   ]
  },
  {
   "cell_type": "markdown",
   "metadata": {},
   "source": [
    "Feature Engineering"
   ]
  },
  {
   "cell_type": "code",
   "execution_count": 980,
   "metadata": {},
   "outputs": [
    {
     "name": "stdout",
     "output_type": "stream",
     "text": [
      "(2919, 57)\n",
      "(2919, 56)\n"
     ]
    }
   ],
   "source": [
    "print(data.shape)\n",
    "\n",
    "data['TotalBath'] = (data['FullBath'] + (0.5 * data['HalfBath']) +\n",
    "                     data['BsmtFullBath'] + (0.5 * data['BsmtHalfBath']))\n",
    "data['TotalPorchSF'] = (data['OpenPorchSF'] + data['EnclosedPorch'] +\n",
    "                         data['ScreenPorch'] + data['WoodDeckSF'])\n",
    "data['HouseAge'] = data['YrSold'] - data['YearBuilt']\n",
    "data['RemodAge'] = data['YrSold'] - data['YearRemodAdd']\n",
    "data['HasGarage'] = data['GarageArea'].apply(lambda x: 1 if x > 0 else 0)\n",
    "\n",
    "data['Quality_LivingArea'] = data['OverallQual'] * data['GrLivArea']\n",
    "data['Baths_per_Bedroom'] = data['TotalBath'] / (data['BedroomAbvGr'] + 1)\n",
    "\n",
    "data.drop(columns=['GrLivArea', 'FullBath', 'HalfBath', 'BsmtFullBath', 'BsmtHalfBath',  \n",
    "                   'EnclosedPorch', 'WoodDeckSF',  \n",
    "                    'YearRemodAdd' ], inplace=True)\n",
    "\n",
    "print(data.shape)\n",
    "update_cols()"
   ]
  },
  {
   "cell_type": "code",
   "execution_count": null,
   "metadata": {},
   "outputs": [
    {
     "name": "stdout",
     "output_type": "stream",
     "text": [
      "158 outliers found\n",
      "[13, 47, 54, 59, 71, 73, 81, 94, 105, 113, 116, 123, 167, 172, 177, 186, 190, 197, 198, 200, 209, 225, 232, 250, 252, 272, 276, 279, 287, 290, 293, 298, 313, 314, 336, 340, 350, 352, 360, 361, 367, 370, 373, 385, 386, 401, 412, 427, 441, 452, 458, 467, 471, 472, 476, 488, 496, 504, 511, 518, 520, 524, 530, 551, 557, 561, 564, 584, 585, 589, 596, 602, 606, 619, 625, 626, 636, 648, 662, 674, 692, 707, 724, 736, 744, 756, 764, 765, 770, 786, 796, 799, 804, 809, 829, 831, 834, 849, 853, 855, 860, 876, 888, 889, 908, 913, 920, 935, 945, 982, 996, 1007, 1009, 1013, 1027, 1038, 1056, 1058, 1068, 1071, 1095, 1108, 1123, 1128, 1140, 1152, 1155, 1156, 1169, 1170, 1172, 1183, 1185, 1191, 1229, 1246, 1256, 1260, 1274, 1282, 1283, 1285, 1288, 1294, 1299, 1302, 1321, 1329, 1352, 1372, 1387, 1397, 1406, 1409, 1415, 1421, 1422, 1444]\n",
      "data before removing:  (2919, 58)\n",
      "data after removing:  (2761, 58)\n",
      "training rows after removing outliers:  1302\n"
     ]
    }
   ],
   "source": [
    "data['Id']=Ids\n",
    "data['SalePrice']=Y_train\n",
    "\n",
    "\n",
    "Q1 = data.iloc[0:1460,:][data_numerical_cols].quantile(0.25)\n",
    "Q3 = data.iloc[0:1460,:][data_numerical_cols].quantile(0.75)\n",
    "IQR = Q3 - Q1\n",
    "\n",
    "k = 5\n",
    "outlier_mask = ((data.iloc[0:1460,:][data_numerical_cols] < (Q1 - k * IQR)) | \n",
    "                (data.iloc[0:1460,:][data_numerical_cols] > (Q3 + k * IQR))).any(axis=1)\n",
    "outlier_ids = data.loc[data.index[:1460][outlier_mask], 'Id'].tolist()\n",
    "outliers_removed=len(outlier_ids)\n",
    "print(outliers_removed, \"outliers found\")\n",
    "print(outlier_ids)\n",
    "\n",
    "print('data before removing: ',data.shape)\n",
    "data.drop(data[data['Id'].isin(outlier_ids)].index, inplace=True)\n",
    "Y_train=data.iloc[:1460-len(outlier_ids)]['SalePrice']\n",
    "print('data after removing: ',data.shape)\n",
    "print('training rows after removing outliers: ',Y_train.shape[0])\n",
    "data.drop(columns=['Id','SalePrice'],inplace=True)\n",
    "update_cols()\n"
   ]
  },
  {
   "cell_type": "code",
   "execution_count": 982,
   "metadata": {},
   "outputs": [],
   "source": [
    "data.iloc[:(1460-outliers_removed),:].to_csv('Xtrain.csv',index=False)\n",
    "data.iloc[(1460-outliers_removed):,:].to_csv('Xtest.csv',index=False)\n",
    "Y_train.to_csv('Ytrain.csv',index=False)\n",
    "\n"
   ]
  }
 ],
 "metadata": {
  "kernelspec": {
   "display_name": "Python 3",
   "language": "python",
   "name": "python3"
  },
  "language_info": {
   "codemirror_mode": {
    "name": "ipython",
    "version": 3
   },
   "file_extension": ".py",
   "mimetype": "text/x-python",
   "name": "python",
   "nbconvert_exporter": "python",
   "pygments_lexer": "ipython3",
   "version": "3.10.0"
  }
 },
 "nbformat": 4,
 "nbformat_minor": 2
}
