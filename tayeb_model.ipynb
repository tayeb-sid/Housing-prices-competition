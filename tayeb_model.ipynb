{
 "cells": [
  {
   "cell_type": "code",
   "execution_count": 236,
   "metadata": {},
   "outputs": [],
   "source": [
    "from sklearn.linear_model import LinearRegression\n",
    "from sklearn.ensemble import RandomForestRegressor\n",
    "from sklearn.svm import SVR\n",
    "from sklearn.tree import DecisionTreeRegressor\n",
    "from sklearn.metrics import mean_squared_error, r2_score\n",
    "import numpy as np\n",
    "import pandas as pd"
   ]
  },
  {
   "cell_type": "code",
   "execution_count": 237,
   "metadata": {},
   "outputs": [],
   "source": [
    "def save_predictions_to_csv(y_pred, file_name):\n",
    "    df = pd.DataFrame(range(1461, 2920), columns=['Id'])\n",
    "    df[\"SalePrice\"] = y_pred\n",
    "    df.to_csv(file_name, index=False)\n",
    "    print(f\"Predictions saved to {file_name}\")"
   ]
  },
  {
   "cell_type": "code",
   "execution_count": null,
   "metadata": {},
   "outputs": [
    {
     "data": {
      "text/plain": [
       "(2919, 31)"
      ]
     },
     "execution_count": 238,
     "metadata": {},
     "output_type": "execute_result"
    }
   ],
   "source": [
    "data=pd.read_csv(\"tayeb_data.csv\")\n",
    "data.shape\n"
   ]
  },
  {
   "cell_type": "code",
   "execution_count": 239,
   "metadata": {},
   "outputs": [
    {
     "name": "stdout",
     "output_type": "stream",
     "text": [
      "(1460, 31) (1460, 1) (1459, 31)\n"
     ]
    }
   ],
   "source": [
    "x_train= data.iloc[0:1460,:]\n",
    "y_train=pd.read_csv(\"Y_train.csv\")\n",
    "x_test=data.iloc[1460:,:]\n",
    "print(x_train.shape,y_train.shape,x_test.shape)"
   ]
  },
  {
   "cell_type": "markdown",
   "metadata": {},
   "source": [
    "Linear regression"
   ]
  },
  {
   "cell_type": "code",
   "execution_count": 240,
   "metadata": {},
   "outputs": [
    {
     "name": "stdout",
     "output_type": "stream",
     "text": [
      "Training MSE: 1149159503.1521618\n",
      "Training RMSE: 33899.25520055215\n",
      "Training R² Score: 0.8177900705564056\n"
     ]
    }
   ],
   "source": [
    "model = LinearRegression()\n",
    "model.fit(x_train,y_train)\n",
    "y_pred=model.predict(x_test)\n",
    "\n",
    "mse = mean_squared_error(y_train, model.predict(x_train))\n",
    "rmse = np.sqrt(mse)  \n",
    "r2 = r2_score(y_train, model.predict(x_train)) \n",
    "\n",
    "print(f\"Training MSE: {mse}\")\n",
    "print(f\"Training RMSE: {rmse}\")\n",
    "print(f\"Training R² Score: {r2}\")"
   ]
  },
  {
   "cell_type": "code",
   "execution_count": null,
   "metadata": {},
   "outputs": [],
   "source": [
    "save_predictions_to_csv(y_pred,\"tayeb_lr.csv\")"
   ]
  },
  {
   "cell_type": "code",
   "execution_count": 241,
   "metadata": {},
   "outputs": [
    {
     "name": "stderr",
     "output_type": "stream",
     "text": [
      "c:\\Users\\User\\AppData\\Local\\Programs\\Python\\Python310\\lib\\site-packages\\sklearn\\base.py:1474: DataConversionWarning: A column-vector y was passed when a 1d array was expected. Please change the shape of y to (n_samples,), for example using ravel().\n",
      "  return fit_method(estimator, *args, **kwargs)\n"
     ]
    },
    {
     "name": "stdout",
     "output_type": "stream",
     "text": [
      "Training MSE (Random Forest): 116411314.74234\n",
      "Training RMSE (Random Forest): 10789.407525084034\n",
      "Training R² Score (Random Forest): 0.981541903114881\n"
     ]
    }
   ],
   "source": [
    "model_rf = RandomForestRegressor()\n",
    "model_rf.fit(x_train, y_train)\n",
    "y_pred_rf = model_rf.predict(x_test)\n",
    "\n",
    "mse_rf = mean_squared_error(y_train, model_rf.predict(x_train))\n",
    "rmse_rf = np.sqrt(mse_rf)\n",
    "r2_rf = r2_score(y_train, model_rf.predict(x_train))\n",
    "\n",
    "print(f\"Training MSE (Random Forest): {mse_rf}\")\n",
    "print(f\"Training RMSE (Random Forest): {rmse_rf}\")\n",
    "print(f\"Training R² Score (Random Forest): {r2_rf}\")\n",
    "\n",
    "\n"
   ]
  },
  {
   "cell_type": "code",
   "execution_count": 242,
   "metadata": {},
   "outputs": [
    {
     "name": "stdout",
     "output_type": "stream",
     "text": [
      "Predictions saved to tayeb_rf.csv\n"
     ]
    }
   ],
   "source": [
    "save_predictions_to_csv(y_pred_rf,\"tayeb_rf.csv\")"
   ]
  },
  {
   "cell_type": "markdown",
   "metadata": {},
   "source": [
    "SVR"
   ]
  },
  {
   "cell_type": "code",
   "execution_count": 243,
   "metadata": {},
   "outputs": [
    {
     "name": "stderr",
     "output_type": "stream",
     "text": [
      "c:\\Users\\User\\AppData\\Local\\Programs\\Python\\Python310\\lib\\site-packages\\sklearn\\utils\\validation.py:1300: DataConversionWarning: A column-vector y was passed when a 1d array was expected. Please change the shape of y to (n_samples, ), for example using ravel().\n",
      "  y = column_or_1d(y, warn=True)\n"
     ]
    },
    {
     "name": "stdout",
     "output_type": "stream",
     "text": [
      "Training MSE (SVR): 6616284098.450069\n",
      "Training RMSE (SVR): 81340.54400143922\n",
      "Training R² Score (SVR): -0.04907339272791389\n"
     ]
    }
   ],
   "source": [
    "model_svr = SVR()\n",
    "model_svr.fit(x_train, y_train)\n",
    "y_pred_svr = model_svr.predict(x_test)\n",
    "\n",
    "mse_svr = mean_squared_error(y_train, model_svr.predict(x_train))\n",
    "rmse_svr = np.sqrt(mse_svr)\n",
    "r2_svr = r2_score(y_train, model_svr.predict(x_train))\n",
    "\n",
    "print(f\"Training MSE (SVR): {mse_svr}\")\n",
    "print(f\"Training RMSE (SVR): {rmse_svr}\")\n",
    "print(f\"Training R² Score (SVR): {r2_svr}\")\n"
   ]
  },
  {
   "cell_type": "markdown",
   "metadata": {},
   "source": [
    "Decision Trees"
   ]
  },
  {
   "cell_type": "code",
   "execution_count": 244,
   "metadata": {},
   "outputs": [
    {
     "name": "stdout",
     "output_type": "stream",
     "text": [
      "Training MSE (Decision Tree): 42856.16438356164\n",
      "Training RMSE (Decision Tree): 207.01730455100036\n",
      "Training R² Score (Decision Tree): 0.9999932047564615\n"
     ]
    }
   ],
   "source": [
    "model_dt = DecisionTreeRegressor()\n",
    "\n",
    "model_dt.fit(x_train, y_train)\n",
    "\n",
    "y_pred_dt = model_dt.predict(x_test)\n",
    "\n",
    "mse_dt = mean_squared_error(y_train, model_dt.predict(x_train))\n",
    "rmse_dt = np.sqrt(mse_dt)\n",
    "r2_dt = r2_score(y_train, model_dt.predict(x_train))\n",
    "\n",
    "print(f\"Training MSE (Decision Tree): {mse_dt}\")\n",
    "print(f\"Training RMSE (Decision Tree): {rmse_dt}\")\n",
    "print(f\"Training R² Score (Decision Tree): {r2_dt}\")\n"
   ]
  },
  {
   "cell_type": "code",
   "execution_count": 245,
   "metadata": {},
   "outputs": [
    {
     "name": "stdout",
     "output_type": "stream",
     "text": [
      "Predictions saved to tayeb_dt.csv\n"
     ]
    }
   ],
   "source": [
    "save_predictions_to_csv(y_pred_dt,\"tayeb_dt.csv\")\n"
   ]
  }
 ],
 "metadata": {
  "kernelspec": {
   "display_name": "Python 3",
   "language": "python",
   "name": "python3"
  },
  "language_info": {
   "codemirror_mode": {
    "name": "ipython",
    "version": 3
   },
   "file_extension": ".py",
   "mimetype": "text/x-python",
   "name": "python",
   "nbconvert_exporter": "python",
   "pygments_lexer": "ipython3",
   "version": "3.10.0"
  }
 },
 "nbformat": 4,
 "nbformat_minor": 2
}
