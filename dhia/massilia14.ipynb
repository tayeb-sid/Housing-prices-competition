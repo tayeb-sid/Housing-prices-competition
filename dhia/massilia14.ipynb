{
 "cells": [
  {
   "cell_type": "code",
   "execution_count": 441,
   "id": "13454511-4906-4377-8013-ea475bc4e02f",
   "metadata": {},
   "outputs": [],
   "source": [
    "import pandas as pd\n",
    "import seaborn as sns\n"
   ]
  },
  {
   "cell_type": "code",
   "execution_count": 442,
   "id": "3774c57b-4017-4df0-b223-7a917f2d5e79",
   "metadata": {},
   "outputs": [
    {
     "name": "stdout",
     "output_type": "stream",
     "text": [
      "2919\n"
     ]
    }
   ],
   "source": [
    "\n",
    "train = pd.read_csv('train.csv')\n",
    "test = pd.read_csv('test.csv')\n",
    "\n",
    "# Sauvegarder la colonne 'SalePrice' avant de la supprimer\n",
    "sale_price = train['SalePrice']\n",
    "test_ids = test['Id']\n",
    "\n",
    "# Supprimer la colonne 'SalePrice' dans train et garder 'Id' dans test\n",
    "train = train.drop(columns=['SalePrice'])\n",
    "df = pd.concat([train, test], axis=0, ignore_index=True)\n",
    "print(df.shape[0])\n"
   ]
  },
  {
   "cell_type": "code",
   "execution_count": 443,
   "id": "e19291a4-a716-402c-8883-a84134691679",
   "metadata": {},
   "outputs": [],
   "source": [
    "df = df.drop(columns=['Id'])"
   ]
  },
  {
   "cell_type": "code",
   "execution_count": 444,
   "id": "9cc90896-4a0a-4682-bc2d-3f17b001d502",
   "metadata": {},
   "outputs": [
    {
     "name": "stdout",
     "output_type": "stream",
     "text": [
      "PoolQC          2909\n",
      "MiscFeature     2814\n",
      "Alley           2721\n",
      "Fence           2348\n",
      "MasVnrType      1766\n",
      "FireplaceQu     1420\n",
      "LotFrontage      486\n",
      "GarageYrBlt      159\n",
      "GarageFinish     159\n",
      "GarageQual       159\n",
      "GarageCond       159\n",
      "GarageType       157\n",
      "BsmtExposure      82\n",
      "BsmtCond          82\n",
      "BsmtQual          81\n",
      "BsmtFinType2      80\n",
      "BsmtFinType1      79\n",
      "MasVnrArea        23\n",
      "MSZoning           4\n",
      "BsmtHalfBath       2\n",
      "Utilities          2\n",
      "BsmtFullBath       2\n",
      "Functional         2\n",
      "TotalBsmtSF        1\n",
      "BsmtFinSF1         1\n",
      "SaleType           1\n",
      "BsmtFinSF2         1\n",
      "GarageCars         1\n",
      "Exterior2nd        1\n",
      "Exterior1st        1\n",
      "GarageArea         1\n",
      "KitchenQual        1\n",
      "BsmtUnfSF          1\n",
      "Electrical         1\n",
      "Fireplaces         0\n",
      "TotRmsAbvGrd       0\n",
      "MSSubClass         0\n",
      "BedroomAbvGr       0\n",
      "PavedDrive         0\n",
      "WoodDeckSF         0\n",
      "dtype: int64\n"
     ]
    }
   ],
   "source": [
    "print(df.isnull().sum().sort_values(ascending=False).head(40))\n"
   ]
  },
  {
   "cell_type": "code",
   "execution_count": 445,
   "id": "4ca4ab03-8f0c-4f7f-ba65-e4e8044cb066",
   "metadata": {},
   "outputs": [],
   "source": [
    "df.drop(columns=['PoolQC', 'MiscFeature', 'Alley', 'Fence', 'MasVnrType'], inplace=True)\n"
   ]
  },
  {
   "cell_type": "code",
   "execution_count": 446,
   "id": "503bd8ff-18f1-41e6-ace9-f162f5a48636",
   "metadata": {},
   "outputs": [
    {
     "name": "stdout",
     "output_type": "stream",
     "text": [
      "La feature  contient des valeurs différentes\n",
      "BsmtFullBath\n",
      "0.0    58.450463\n",
      "1.0    40.178265\n",
      "2.0     1.302708\n",
      "3.0     0.068564\n",
      "Name: proportion, dtype: float64\n"
     ]
    }
   ],
   "source": [
    "# Vérification si la variable a des valeurs uniques ou constantes\n",
    "if len(df['BsmtFullBath'].unique()) == 1:\n",
    "    print(\"La feature a la même valeur sur toutes les lignes\")\n",
    "else:\n",
    "    print(\"La feature  contient des valeurs différentes\")\n",
    "\n",
    "# Affichage des pourcentages des différentes valeurs\n",
    "pourcentages = df['BsmtFullBath'].value_counts(normalize=True) * 100\n",
    "print(pourcentages)"
   ]
  },
  {
   "cell_type": "code",
   "execution_count": 447,
   "id": "018ffcc6-861b-4195-8e23-0d203e499259",
   "metadata": {},
   "outputs": [],
   "source": [
    "df['BsmtFullBath'].fillna(df['BsmtFullBath'].mode()[0], inplace=True)"
   ]
  },
  {
   "cell_type": "code",
   "execution_count": 448,
   "id": "d3e6f2be-8e37-478f-8fbb-75f2c7c9fa23",
   "metadata": {},
   "outputs": [
    {
     "name": "stdout",
     "output_type": "stream",
     "text": [
      "La feature  contient des valeurs différentes\n",
      "BsmtHalfBath\n",
      "0.0    94.000686\n",
      "1.0     5.862187\n",
      "2.0     0.137127\n",
      "Name: proportion, dtype: float64\n"
     ]
    }
   ],
   "source": [
    "# Vérification si la variable a des valeurs uniques ou constantes\n",
    "if len(df['BsmtHalfBath'].unique()) == 1:\n",
    "    print(\"La feature a la même valeur sur toutes les lignes\")\n",
    "else:\n",
    "    print(\"La feature  contient des valeurs différentes\")\n",
    "\n",
    "# Affichage des pourcentages des différentes valeurs\n",
    "pourcentages = df['BsmtHalfBath'].value_counts(normalize=True) * 100\n",
    "print(pourcentages)"
   ]
  },
  {
   "cell_type": "code",
   "execution_count": 449,
   "id": "0476cb85-acae-4af3-a3d1-88fc199c75f7",
   "metadata": {},
   "outputs": [],
   "source": [
    "df['BsmtFullBath'].fillna(df['BsmtFullBath'].mode()[0], inplace=True)"
   ]
  },
  {
   "cell_type": "code",
   "execution_count": 450,
   "id": "821481f9-1f6a-4cf5-b4b0-7f131185ed3c",
   "metadata": {},
   "outputs": [],
   "source": [
    "import pandas as pd\n",
    "\n",
    "# Exemple de DataFrame\n",
    "# df = pd.read_csv('ton_fichier.csv')\n",
    "\n",
    "# Liste des colonnes spécifiques avec des valeurs manquantes à traiter\n",
    "cols_to_fill = ['BsmtHalfBath' ,\n",
    "    'Functional', 'Utilities', 'BsmtUnfSF', \n",
    "    'GarageArea', 'Exterior1st', 'Exterior2nd', 'TotalBsmtSF', 'GarageCars', \n",
    "    'Electrical', 'KitchenQual', 'SaleType', 'BsmtFinSF1', 'BsmtFinSF2'\n",
    "]\n",
    "\n",
    "# Remplacer les valeurs manquantes par le mode dans les colonnes spécifiées\n",
    "for col in cols_to_fill:\n",
    "    if col in df.columns:  # Vérifie si la colonne existe dans le DataFrame\n",
    "        mode_value = df[col].mode()[0]  # On prend le premier mode trouvé\n",
    "        df[col].fillna(mode_value, inplace=True)\n",
    "\n",
    "\n"
   ]
  },
  {
   "cell_type": "code",
   "execution_count": 451,
   "id": "159386ac-f6ed-4286-b710-8a466fb7b074",
   "metadata": {},
   "outputs": [
    {
     "name": "stdout",
     "output_type": "stream",
     "text": [
      "FireplaceQu      1420\n",
      "LotFrontage       486\n",
      "GarageYrBlt       159\n",
      "GarageFinish      159\n",
      "GarageQual        159\n",
      "GarageCond        159\n",
      "GarageType        157\n",
      "BsmtExposure       82\n",
      "BsmtCond           82\n",
      "BsmtQual           81\n",
      "BsmtFinType2       80\n",
      "BsmtFinType1       79\n",
      "MasVnrArea         23\n",
      "MSZoning            4\n",
      "Functional          0\n",
      "KitchenAbvGr        0\n",
      "BedroomAbvGr        0\n",
      "HalfBath            0\n",
      "FullBath            0\n",
      "BsmtHalfBath        0\n",
      "BsmtFullBath        0\n",
      "KitchenQual         0\n",
      "GrLivArea           0\n",
      "TotRmsAbvGrd        0\n",
      "MSSubClass          0\n",
      "Fireplaces          0\n",
      "2ndFlrSF            0\n",
      "GarageCars          0\n",
      "GarageArea          0\n",
      "PavedDrive          0\n",
      "WoodDeckSF          0\n",
      "OpenPorchSF         0\n",
      "EnclosedPorch       0\n",
      "3SsnPorch           0\n",
      "ScreenPorch         0\n",
      "PoolArea            0\n",
      "MiscVal             0\n",
      "MoSold              0\n",
      "YrSold              0\n",
      "SaleType            0\n",
      "dtype: int64\n"
     ]
    }
   ],
   "source": [
    "print(df.isnull().sum().sort_values(ascending=False).head(40))"
   ]
  },
  {
   "cell_type": "code",
   "execution_count": null,
   "id": "aa564468-4aeb-418e-89eb-8cd08c5b4ea2",
   "metadata": {},
   "outputs": [],
   "source": []
  },
  {
   "cell_type": "code",
   "execution_count": null,
   "id": "291824aa-7231-4148-a7e1-59fee9e098e7",
   "metadata": {},
   "outputs": [],
   "source": []
  },
  {
   "cell_type": "code",
   "execution_count": null,
   "id": "558a7407-a1b1-4953-a086-93c3ea695bf6",
   "metadata": {},
   "outputs": [],
   "source": []
  },
  {
   "cell_type": "code",
   "execution_count": null,
   "id": "a37d7c71-8c98-4027-9cc0-cc7d08ee78f9",
   "metadata": {},
   "outputs": [],
   "source": []
  },
  {
   "cell_type": "code",
   "execution_count": 452,
   "id": "313e940b-6691-4b60-ad6a-f378d12656e0",
   "metadata": {},
   "outputs": [
    {
     "name": "stdout",
     "output_type": "stream",
     "text": [
      "La feature  contient des valeurs différentes\n",
      "FireplaceQu\n",
      "Gd    49.633089\n",
      "TA    39.492995\n",
      "Fa     4.936624\n",
      "Po     3.068712\n",
      "Ex     2.868579\n",
      "Name: proportion, dtype: float64\n"
     ]
    }
   ],
   "source": [
    "# Vérification si la variable a des valeurs uniques ou constantes\n",
    "if len(df['FireplaceQu'].unique()) == 1:\n",
    "    print(\"La feature a la même valeur sur toutes les lignes\")\n",
    "else:\n",
    "    print(\"La feature  contient des valeurs différentes\")\n",
    "\n",
    "# Affichage des pourcentages des différentes valeurs\n",
    "pourcentages = df['FireplaceQu'].value_counts(normalize=True) * 100\n",
    "print(pourcentages)"
   ]
  },
  {
   "cell_type": "code",
   "execution_count": null,
   "id": "55977bf3-41b5-4d30-9577-2a00d61a75f7",
   "metadata": {},
   "outputs": [],
   "source": []
  },
  {
   "cell_type": "code",
   "execution_count": null,
   "id": "9b96c08b-1987-4a15-9c1c-c017840589f2",
   "metadata": {},
   "outputs": [],
   "source": []
  },
  {
   "cell_type": "code",
   "execution_count": 453,
   "id": "2cc6beb0-2e0d-4c58-9747-a14de6416b09",
   "metadata": {},
   "outputs": [
    {
     "name": "stdout",
     "output_type": "stream",
     "text": [
      "La feature  contient des valeurs différentes\n",
      "FireplaceQu\n",
      "Gd    49.633089\n",
      "TA    39.492995\n",
      "Fa     4.936624\n",
      "Po     3.068712\n",
      "Ex     2.868579\n",
      "Name: proportion, dtype: float64\n"
     ]
    }
   ],
   "source": [
    "# Vérification si la variable a des valeurs uniques ou constantes\n",
    "if len(df['FireplaceQu'].unique()) == 1:\n",
    "    print(\"La feature a la même valeur sur toutes les lignes\")\n",
    "else:\n",
    "    print(\"La feature  contient des valeurs différentes\")\n",
    "\n",
    "# Affichage des pourcentages des différentes valeurs\n",
    "pourcentages = df['FireplaceQu'].value_counts(normalize=True) * 100\n",
    "print(pourcentages)"
   ]
  },
  {
   "cell_type": "code",
   "execution_count": 454,
   "id": "4d402be0-ce95-40b9-8aa9-e696b7f9f1e8",
   "metadata": {},
   "outputs": [],
   "source": [
    "df['FireplaceQu'].fillna(df['FireplaceQu'].mode()[0], inplace=True)"
   ]
  },
  {
   "cell_type": "code",
   "execution_count": 455,
   "id": "d539940d-4cd9-4a77-81bb-af52c2be9ac4",
   "metadata": {},
   "outputs": [
    {
     "name": "stdout",
     "output_type": "stream",
     "text": [
      "La feature  contient des valeurs différentes\n",
      "LotFrontage\n",
      "60.0     11.344020\n",
      "80.0      5.630908\n",
      "70.0      5.466502\n",
      "50.0      4.808878\n",
      "75.0      4.315660\n",
      "           ...    \n",
      "152.0     0.041102\n",
      "138.0     0.041102\n",
      "182.0     0.041102\n",
      "168.0     0.041102\n",
      "133.0     0.041102\n",
      "Name: proportion, Length: 128, dtype: float64\n"
     ]
    }
   ],
   "source": [
    "# Vérification si la variable a des valeurs uniques ou constantes\n",
    "if len(df['LotFrontage'].unique()) == 1:\n",
    "    print(\"La feature a la même valeur sur toutes les lignes\")\n",
    "else:\n",
    "    print(\"La feature  contient des valeurs différentes\")\n",
    "\n",
    "# Affichage des pourcentages des différentes valeurs \n",
    "pourcentages = df['LotFrontage'].value_counts(normalize=True) * 100\n",
    "print(pourcentages)"
   ]
  },
  {
   "cell_type": "code",
   "execution_count": 456,
   "id": "21aa412e-687a-49a8-a1fc-6c194498abc2",
   "metadata": {},
   "outputs": [],
   "source": [
    "df['LotFrontage'].fillna(df['LotFrontage'].median(), inplace=True)\n"
   ]
  },
  {
   "cell_type": "code",
   "execution_count": 457,
   "id": "01e141a1-9cb1-4d84-bede-722b94038152",
   "metadata": {},
   "outputs": [
    {
     "name": "stdout",
     "output_type": "stream",
     "text": [
      "La feature  contient des valeurs différentes\n",
      "GarageYrBlt\n",
      "2005.0    5.144928\n",
      "2006.0    4.166667\n",
      "2007.0    4.166667\n",
      "2004.0    3.586957\n",
      "2003.0    3.333333\n",
      "            ...   \n",
      "1908.0    0.036232\n",
      "1896.0    0.036232\n",
      "1933.0    0.036232\n",
      "1906.0    0.036232\n",
      "1919.0    0.036232\n",
      "Name: proportion, Length: 103, dtype: float64\n"
     ]
    }
   ],
   "source": [
    "# Vérification si la variable a des valeurs uniques ou constantes\n",
    "if len(df['GarageYrBlt'].unique()) == 1:\n",
    "    print(\"La feature a la même valeur sur toutes les lignes\")\n",
    "else:\n",
    "    print(\"La feature  contient des valeurs différentes\")\n",
    "\n",
    "# Affichage des pourcentages des différentes valeurs \n",
    "pourcentages = df['GarageYrBlt'].value_counts(normalize=True) * 100\n",
    "print(pourcentages)"
   ]
  },
  {
   "cell_type": "code",
   "execution_count": 458,
   "id": "161d7ea5-b8a6-4e85-a15e-5145bc72b6f3",
   "metadata": {},
   "outputs": [],
   "source": [
    "df['GarageYrBlt'].fillna(df['GarageYrBlt'].median(), inplace=True)"
   ]
  },
  {
   "cell_type": "code",
   "execution_count": 459,
   "id": "df1d55eb-bdc0-4990-b7ec-197ae68c8c53",
   "metadata": {},
   "outputs": [
    {
     "name": "stdout",
     "output_type": "stream",
     "text": [
      "La feature  contient des valeurs différentes\n",
      "GarageType\n",
      "Attchd     62.382332\n",
      "Detchd     28.204200\n",
      "BuiltIn     6.734251\n",
      "Basment     1.303403\n",
      "2Types      0.832730\n",
      "CarPort     0.543085\n",
      "Name: proportion, dtype: float64\n"
     ]
    }
   ],
   "source": [
    "# Vérification si la variable a des valeurs uniques ou constantes\n",
    "if len(df['GarageType'].unique()) == 1:\n",
    "    print(\"La feature a la même valeur sur toutes les lignes\")\n",
    "else:\n",
    "    print(\"La feature  contient des valeurs différentes\")\n",
    "\n",
    "# Affichage des pourcentages des différentes valeurs\n",
    "pourcentages = df['GarageType'].value_counts(normalize=True) * 100\n",
    "print(pourcentages)"
   ]
  },
  {
   "cell_type": "code",
   "execution_count": 460,
   "id": "cba961b8-663b-44bd-b603-a05ed32a5da5",
   "metadata": {},
   "outputs": [],
   "source": [
    "df['GarageType'].fillna(df['GarageType'].mode()[0], inplace=True)"
   ]
  },
  {
   "cell_type": "code",
   "execution_count": 461,
   "id": "7b5b770d-5f76-464f-8ea8-1d3cd33d210d",
   "metadata": {},
   "outputs": [
    {
     "name": "stdout",
     "output_type": "stream",
     "text": [
      "La feature  contient des valeurs différentes\n",
      "GarageCond\n",
      "TA    96.159420\n",
      "Fa     2.681159\n",
      "Gd     0.543478\n",
      "Po     0.507246\n",
      "Ex     0.108696\n",
      "Name: proportion, dtype: float64\n"
     ]
    }
   ],
   "source": [
    "# Vérification si la variable a des valeurs uniques ou constantes\n",
    "if len(df['GarageCond'].unique()) == 1:\n",
    "    print(\"La feature a la même valeur sur toutes les lignes\")\n",
    "else:\n",
    "    print(\"La feature  contient des valeurs différentes\")\n",
    "\n",
    "# Affichage des pourcentages des différentes valeurs \n",
    "pourcentages = df['GarageCond'].value_counts(normalize=True) * 100\n",
    "print(pourcentages)"
   ]
  },
  {
   "cell_type": "code",
   "execution_count": 462,
   "id": "03150851-c7a8-4920-ba0b-d0a121671016",
   "metadata": {},
   "outputs": [],
   "source": [
    "df['GarageCond'].fillna(df['GarageCond'].mode()[0], inplace=True)"
   ]
  },
  {
   "cell_type": "code",
   "execution_count": 463,
   "id": "6312ba52-bd4d-4524-bba0-d278c62cb38e",
   "metadata": {},
   "outputs": [
    {
     "name": "stdout",
     "output_type": "stream",
     "text": [
      "La feature  contient des valeurs différentes\n",
      "GarageFinish\n",
      "Unf    44.565217\n",
      "RFn    29.384058\n",
      "Fin    26.050725\n",
      "Name: proportion, dtype: float64\n"
     ]
    }
   ],
   "source": [
    "# Vérification si la variable a des valeurs uniques ou constantes\n",
    "if len(df['GarageFinish'].unique()) == 1:\n",
    "    print(\"La feature a la même valeur sur toutes les lignes\")\n",
    "else:\n",
    "    print(\"La feature  contient des valeurs différentes\")\n",
    "\n",
    "# Affichage des pourcentages des différentes valeurs \n",
    "pourcentages = df['GarageFinish'].value_counts(normalize=True) * 100\n",
    "print(pourcentages)"
   ]
  },
  {
   "cell_type": "code",
   "execution_count": 464,
   "id": "99032a94-dc1e-4d94-b213-4f911c443902",
   "metadata": {},
   "outputs": [
    {
     "name": "stdout",
     "output_type": "stream",
     "text": [
      "La feature  contient des valeurs différentes\n",
      "GarageQual\n",
      "TA    94.347826\n",
      "Fa     4.492754\n",
      "Gd     0.869565\n",
      "Po     0.181159\n",
      "Ex     0.108696\n",
      "Name: proportion, dtype: float64\n"
     ]
    }
   ],
   "source": [
    "# Vérification si la variable a des valeurs uniques ou constantes\n",
    "if len(df['GarageQual'].unique()) == 1:\n",
    "    print(\"La feature a la même valeur sur toutes les lignes\")\n",
    "else:\n",
    "    print(\"La feature  contient des valeurs différentes\")\n",
    "\n",
    "# Affichage des pourcentages des différentes valeurs \n",
    "pourcentages = df['GarageQual'].value_counts(normalize=True) * 100\n",
    "print(pourcentages)\n"
   ]
  },
  {
   "cell_type": "code",
   "execution_count": 465,
   "id": "20013684-b188-4e91-bb71-42a75a010a05",
   "metadata": {},
   "outputs": [],
   "source": [
    "df['GarageQual'].fillna(df['GarageQual'].mode()[0], inplace=True)"
   ]
  },
  {
   "cell_type": "code",
   "execution_count": 466,
   "id": "fc15c2f7-0c98-4bf8-8967-8428d955a8ee",
   "metadata": {},
   "outputs": [
    {
     "name": "stdout",
     "output_type": "stream",
     "text": [
      "La feature  contient des valeurs différentes\n",
      "BsmtFinType1\n",
      "Unf    29.964789\n",
      "GLQ    29.894366\n",
      "ALQ    15.105634\n",
      "Rec    10.140845\n",
      "BLQ     9.471831\n",
      "LwQ     5.422535\n",
      "Name: proportion, dtype: float64\n"
     ]
    }
   ],
   "source": [
    "# Vérification si la variable a des valeurs uniques ou constantes\n",
    "if len(df['BsmtFinType1'].unique()) == 1:\n",
    "    print(\"La feature a la même valeur sur toutes les lignes\")\n",
    "else:\n",
    "    print(\"La feature  contient des valeurs différentes\")\n",
    "\n",
    "# Affichage des pourcentages des différentes valeurs\n",
    "pourcentages = df['BsmtFinType1'].value_counts(normalize=True) * 100\n",
    "print(pourcentages)"
   ]
  },
  {
   "cell_type": "code",
   "execution_count": null,
   "id": "ecaea199-f6a1-4496-88d1-bb6d5fa8f109",
   "metadata": {},
   "outputs": [],
   "source": []
  },
  {
   "cell_type": "code",
   "execution_count": 467,
   "id": "ef888c06-c178-4f25-bf52-bca560f7fb02",
   "metadata": {},
   "outputs": [
    {
     "name": "stdout",
     "output_type": "stream",
     "text": [
      "La feature  contient des valeurs différentes\n",
      "BsmtFinType2\n",
      "Unf    87.812610\n",
      "Rec     3.698485\n",
      "LwQ     3.064459\n",
      "BLQ     2.395210\n",
      "ALQ     1.831631\n",
      "GLQ     1.197605\n",
      "Name: proportion, dtype: float64\n"
     ]
    }
   ],
   "source": [
    "# Vérification si la variable a des valeurs uniques ou constantes\n",
    "if len(df['BsmtFinType2'].unique()) == 1:\n",
    "    print(\"La feature a la même valeur sur toutes les lignes\")\n",
    "else:\n",
    "    print(\"La feature  contient des valeurs différentes\")\n",
    "\n",
    "# Affichage des pourcentages des différentes valeurs\n",
    "pourcentages = df['BsmtFinType2'].value_counts(normalize=True) * 100\n",
    "print(pourcentages)"
   ]
  },
  {
   "cell_type": "code",
   "execution_count": 468,
   "id": "35367de7-4cd4-4a57-8939-2d6eab341465",
   "metadata": {},
   "outputs": [],
   "source": [
    "df['BsmtFinType2'].fillna(df['BsmtFinType2'].mode()[0], inplace=True)"
   ]
  },
  {
   "cell_type": "code",
   "execution_count": 469,
   "id": "56a8a386-672b-4706-9301-6f0631bf3e06",
   "metadata": {},
   "outputs": [
    {
     "name": "stdout",
     "output_type": "stream",
     "text": [
      "La feature  contient des valeurs différentes\n",
      "BsmtExposure\n",
      "No    67.113148\n",
      "Av    14.733874\n",
      "Gd     9.728587\n",
      "Mn     8.424392\n",
      "Name: proportion, dtype: float64\n"
     ]
    }
   ],
   "source": [
    "# Vérification si la variable a des valeurs uniques ou constantes\n",
    "if len(df['BsmtExposure'].unique()) == 1:\n",
    "    print(\"La feature a la même valeur sur toutes les lignes\")\n",
    "else:\n",
    "    print(\"La feature  contient des valeurs différentes\")\n",
    "\n",
    "# Affichage des pourcentages des différentes valeurs \n",
    "pourcentages = df['BsmtExposure'].value_counts(normalize=True) * 100\n",
    "print(pourcentages)"
   ]
  },
  {
   "cell_type": "code",
   "execution_count": 470,
   "id": "7601b988-94a5-4d56-8d27-d8412cd4038d",
   "metadata": {},
   "outputs": [],
   "source": [
    "df['BsmtExposure'].fillna(df['BsmtExposure'].mode()[0], inplace=True)"
   ]
  },
  {
   "cell_type": "code",
   "execution_count": 471,
   "id": "2d23c3b1-3729-4fcc-b942-8ecae6a34a30",
   "metadata": {},
   "outputs": [
    {
     "name": "stdout",
     "output_type": "stream",
     "text": [
      "La feature  contient des valeurs différentes\n",
      "BsmtFinType1\n",
      "Unf    29.964789\n",
      "GLQ    29.894366\n",
      "ALQ    15.105634\n",
      "Rec    10.140845\n",
      "BLQ     9.471831\n",
      "LwQ     5.422535\n",
      "Name: proportion, dtype: float64\n"
     ]
    }
   ],
   "source": [
    "# Vérification si la variable a des valeurs uniques ou constantes\n",
    "if len(df['BsmtFinType1'].unique()) == 1:\n",
    "    print(\"La feature a la même valeur sur toutes les lignes\")\n",
    "else:\n",
    "    print(\"La feature  contient des valeurs différentes\")\n",
    "\n",
    "# Affichage des pourcentages des différentes valeurs \n",
    "pourcentages = df['BsmtFinType1'].value_counts(normalize=True) * 100\n",
    "print(pourcentages)"
   ]
  },
  {
   "cell_type": "code",
   "execution_count": 472,
   "id": "a16678ac-c261-41bd-9623-b9d162ebc5fe",
   "metadata": {},
   "outputs": [
    {
     "name": "stdout",
     "output_type": "stream",
     "text": [
      "La feature  contient des valeurs différentes\n",
      "BsmtQual\n",
      "TA    45.207893\n",
      "Gd    42.600423\n",
      "Ex     9.090909\n",
      "Fa     3.100775\n",
      "Name: proportion, dtype: float64\n"
     ]
    }
   ],
   "source": [
    "# Vérification si la variable a des valeurs uniques ou constantes\n",
    "if len(df['BsmtQual'].unique()) == 1:\n",
    "    print(\"La feature a la même valeur sur toutes les lignes\")\n",
    "else:\n",
    "    print(\"La feature  contient des valeurs différentes\")\n",
    "\n",
    "# Affichage des pourcentages des différentes valeurs\n",
    "pourcentages = df['BsmtQual'].value_counts(normalize=True) * 100\n",
    "print(pourcentages)"
   ]
  },
  {
   "cell_type": "code",
   "execution_count": 473,
   "id": "2f8d0f2f-f82b-44dc-bca9-000080552c89",
   "metadata": {},
   "outputs": [
    {
     "name": "stdout",
     "output_type": "stream",
     "text": [
      "La feature  contient des valeurs différentes\n",
      "BsmtCond\n",
      "TA    91.857596\n",
      "Gd     4.300317\n",
      "Fa     3.665844\n",
      "Po     0.176243\n",
      "Name: proportion, dtype: float64\n"
     ]
    }
   ],
   "source": [
    "# Vérification si la variable a des valeurs uniques ou constantes\n",
    "if len(df['BsmtCond'].unique()) == 1:\n",
    "    print(\"La feature a la même valeur sur toutes les lignes\")\n",
    "else:\n",
    "    print(\"La feature  contient des valeurs différentes\")\n",
    "\n",
    "# Affichage des pourcentages des différentes valeurs \n",
    "pourcentages = df['BsmtCond'].value_counts(normalize=True) * 100\n",
    "print(pourcentages)"
   ]
  },
  {
   "cell_type": "code",
   "execution_count": 474,
   "id": "d36b0f04-777c-4b51-8f55-ab68f8424efb",
   "metadata": {},
   "outputs": [],
   "source": [
    "df['BsmtCond'].fillna(df['BsmtCond'].mode()[0], inplace=True)"
   ]
  },
  {
   "cell_type": "code",
   "execution_count": 475,
   "id": "15e83b24-01f0-40d2-890b-3729b11ff0ea",
   "metadata": {},
   "outputs": [
    {
     "name": "stdout",
     "output_type": "stream",
     "text": [
      "GarageFinish    159\n",
      "BsmtQual         81\n",
      "BsmtFinType1     79\n",
      "MasVnrArea       23\n",
      "MSZoning          4\n",
      "MSSubClass        0\n",
      "BedroomAbvGr      0\n",
      "Functional        0\n",
      "TotRmsAbvGrd      0\n",
      "KitchenQual       0\n",
      "dtype: int64\n"
     ]
    }
   ],
   "source": [
    "print(df.isnull().sum().sort_values(ascending=False).head(10))"
   ]
  },
  {
   "cell_type": "code",
   "execution_count": 476,
   "id": "23aaa94d-8eb6-4ba1-b24e-6cdcc23a5962",
   "metadata": {},
   "outputs": [
    {
     "name": "stdout",
     "output_type": "stream",
     "text": [
      "La feature  contient des valeurs différentes\n",
      "MasVnrArea\n",
      "0.0      60.013812\n",
      "120.0     0.517956\n",
      "176.0     0.448895\n",
      "200.0     0.448895\n",
      "216.0     0.414365\n",
      "           ...    \n",
      "137.0     0.034530\n",
      "274.0     0.034530\n",
      "415.0     0.034530\n",
      "760.0     0.034530\n",
      "382.0     0.034530\n",
      "Name: proportion, Length: 444, dtype: float64\n"
     ]
    }
   ],
   "source": [
    "# Vérification si la variable a des valeurs uniques ou constantes\n",
    "if len(df['MasVnrArea'].unique()) == 1:\n",
    "    print(\"La feature a la même valeur sur toutes les lignes\")\n",
    "else:\n",
    "    print(\"La feature  contient des valeurs différentes\")\n",
    "\n",
    "# Affichage des pourcentages des différentes valeurs \n",
    "pourcentages = df['MasVnrArea'].value_counts(normalize=True) * 100\n",
    "print(pourcentages)"
   ]
  },
  {
   "cell_type": "code",
   "execution_count": 477,
   "id": "1fc34273-3e17-4e90-9fd0-d89914ef18c3",
   "metadata": {},
   "outputs": [],
   "source": [
    "df['MasVnrArea'].fillna(df['MasVnrArea'].mode()[0], inplace=True)"
   ]
  },
  {
   "cell_type": "code",
   "execution_count": 478,
   "id": "421443fa-222f-4fd4-955a-2568da3b7dc5",
   "metadata": {},
   "outputs": [
    {
     "name": "stdout",
     "output_type": "stream",
     "text": [
      "GarageFinish    159\n",
      "BsmtQual         81\n",
      "BsmtFinType1     79\n",
      "MSZoning          4\n",
      "HalfBath          0\n",
      "Functional        0\n",
      "TotRmsAbvGrd      0\n",
      "KitchenQual       0\n",
      "KitchenAbvGr      0\n",
      "BedroomAbvGr      0\n",
      "dtype: int64\n"
     ]
    }
   ],
   "source": [
    "\n",
    "print(df.isnull().sum().sort_values(ascending=False).head(10))"
   ]
  },
  {
   "cell_type": "code",
   "execution_count": 479,
   "id": "d86117d7-6689-4563-8e64-a20ceaf35248",
   "metadata": {},
   "outputs": [
    {
     "name": "stdout",
     "output_type": "stream",
     "text": [
      "La feature  contient des valeurs différentes\n",
      "Electrical\n",
      "SBrkr    91.538198\n",
      "FuseA     6.440562\n",
      "FuseF     1.712915\n",
      "FuseP     0.274066\n",
      "Mix       0.034258\n",
      "Name: proportion, dtype: float64\n"
     ]
    }
   ],
   "source": [
    "# Vérification si la variable a des valeurs uniques ou constantes\n",
    "if len(df['Electrical'].unique()) == 1:\n",
    "    print(\"La feature a la même valeur sur toutes les lignes\")\n",
    "else:\n",
    "    print(\"La feature  contient des valeurs différentes\")\n",
    "\n",
    "# Affichage des pourcentages des différentes valeurs\n",
    "pourcentages = df['Electrical'].value_counts(normalize=True) * 100\n",
    "\n",
    "\n",
    "print(pourcentages)"
   ]
  },
  {
   "cell_type": "code",
   "execution_count": 480,
   "id": "e206c705-628d-438f-b7e4-07674a0322ad",
   "metadata": {},
   "outputs": [],
   "source": [
    "df['Electrical'].fillna(df['Electrical'].mode()[0], inplace=True)"
   ]
  },
  {
   "cell_type": "code",
   "execution_count": 481,
   "id": "4621e1e7-698d-413d-a9ba-4fc0b981837d",
   "metadata": {},
   "outputs": [
    {
     "name": "stdout",
     "output_type": "stream",
     "text": [
      "GarageFinish    159\n",
      "BsmtQual         81\n",
      "BsmtFinType1     79\n",
      "MSZoning          4\n",
      "HalfBath          0\n",
      "Functional        0\n",
      "TotRmsAbvGrd      0\n",
      "KitchenQual       0\n",
      "KitchenAbvGr      0\n",
      "BedroomAbvGr      0\n",
      "dtype: int64\n"
     ]
    }
   ],
   "source": [
    "print(df.isnull().sum().sort_values(ascending=False).head(10))"
   ]
  },
  {
   "cell_type": "code",
   "execution_count": 482,
   "id": "d435dd8b-1b81-424c-ac9b-62d0e92148a7",
   "metadata": {},
   "outputs": [
    {
     "name": "stdout",
     "output_type": "stream",
     "text": [
      "Index(['MSZoning', 'Street', 'LotShape', 'LandContour', 'Utilities',\n",
      "       'LotConfig', 'LandSlope', 'Neighborhood', 'Condition1', 'Condition2',\n",
      "       'BldgType', 'HouseStyle', 'RoofStyle', 'RoofMatl', 'Exterior1st',\n",
      "       'Exterior2nd', 'ExterQual', 'ExterCond', 'Foundation', 'BsmtQual',\n",
      "       'BsmtCond', 'BsmtExposure', 'BsmtFinType1', 'BsmtFinType2', 'Heating',\n",
      "       'HeatingQC', 'CentralAir', 'Electrical', 'KitchenQual', 'Functional',\n",
      "       'FireplaceQu', 'GarageType', 'GarageFinish', 'GarageQual', 'GarageCond',\n",
      "       'PavedDrive', 'SaleType', 'SaleCondition'],\n",
      "      dtype='object')\n",
      "38\n"
     ]
    }
   ],
   "source": [
    "CatData = df.select_dtypes(include=['object', 'category'])\n",
    "print(CatData.columns)\n",
    "print(len(CatData.columns))\n"
   ]
  },
  {
   "cell_type": "code",
   "execution_count": 483,
   "id": "d70253d3-83eb-4720-a0a0-7f74db9fc66f",
   "metadata": {},
   "outputs": [
    {
     "name": "stdout",
     "output_type": "stream",
     "text": [
      "La feature  contient des valeurs différentes\n",
      "LotFrontage\n",
      "68.0     18.156903\n",
      "60.0      9.455293\n",
      "80.0      4.693388\n",
      "70.0      4.556355\n",
      "50.0      4.008222\n",
      "           ...    \n",
      "152.0     0.034258\n",
      "138.0     0.034258\n",
      "182.0     0.034258\n",
      "168.0     0.034258\n",
      "133.0     0.034258\n",
      "Name: proportion, Length: 128, dtype: float64\n"
     ]
    }
   ],
   "source": [
    "# Vérification si la variable a des valeurs uniques ou constantes\n",
    "if len(df['LotFrontage'].unique()) == 1:\n",
    "    print(\"La feature a la même valeur sur toutes les lignes\")\n",
    "else:\n",
    "    print(\"La feature  contient des valeurs différentes\")\n",
    "\n",
    "# Affichage des pourcentages des différentes valeurs de 'LotConfig'\n",
    "pourcentages = df['LotFrontage'].value_counts(normalize=True) * 100\n",
    "\n",
    "\n",
    "print(pourcentages)"
   ]
  },
  {
   "cell_type": "code",
   "execution_count": 484,
   "id": "3ef6d391-f8a1-4532-8420-2ebb8e8f1127",
   "metadata": {},
   "outputs": [
    {
     "name": "stdout",
     "output_type": "stream",
     "text": [
      "La feature  contient des valeurs différentes\n",
      "MSZoning\n",
      "RL         77.701544\n",
      "RM         15.780446\n",
      "FV          4.768439\n",
      "RH          0.891938\n",
      "C (all)     0.857633\n",
      "Name: proportion, dtype: float64\n"
     ]
    }
   ],
   "source": [
    "# Vérification si la variable a des valeurs uniques ou constantes\n",
    "if len(df['MSZoning'].unique()) == 1:\n",
    "    print(\"La feature a la même valeur sur toutes les lignes\")\n",
    "else:\n",
    "    print(\"La feature  contient des valeurs différentes\")\n",
    "\n",
    "# Affichage des pourcentages des différentes valeurs\n",
    "pourcentages = df['MSZoning'].value_counts(normalize=True) * 100\n",
    "print(pourcentages)\n"
   ]
  },
  {
   "cell_type": "code",
   "execution_count": 485,
   "id": "8930455e-b5da-4189-929b-f765a3d312bc",
   "metadata": {},
   "outputs": [],
   "source": [
    "df['MSZoning'] = df['MSZoning'].fillna(df['MSZoning'].mode())"
   ]
  },
  {
   "cell_type": "code",
   "execution_count": 486,
   "id": "5382f9ff-3622-4228-abf3-9c8d100d8068",
   "metadata": {},
   "outputs": [
    {
     "name": "stdout",
     "output_type": "stream",
     "text": [
      "   MSSubClass  LotFrontage  LotArea Street LotShape LandContour Utilities  \\\n",
      "0          60         65.0     8450   Pave      Reg         Lvl    AllPub   \n",
      "1          20         80.0     9600   Pave      Reg         Lvl    AllPub   \n",
      "2          60         68.0    11250   Pave      IR1         Lvl    AllPub   \n",
      "3          70         60.0     9550   Pave      IR1         Lvl    AllPub   \n",
      "4          60         84.0    14260   Pave      IR1         Lvl    AllPub   \n",
      "\n",
      "  LotConfig LandSlope Neighborhood  ... MiscVal MoSold YrSold SaleType  \\\n",
      "0    Inside       Gtl      CollgCr  ...       0      2   2008       WD   \n",
      "1       FR2       Gtl      Veenker  ...       0      5   2007       WD   \n",
      "2    Inside       Gtl      CollgCr  ...       0      9   2008       WD   \n",
      "3    Corner       Gtl      Crawfor  ...       0      2   2006       WD   \n",
      "4       FR2       Gtl      NoRidge  ...       0     12   2008       WD   \n",
      "\n",
      "   SaleCondition  MSZoning_C (all)  MSZoning_FV  MSZoning_RH MSZoning_RL  \\\n",
      "0         Normal                 0            0            0           1   \n",
      "1         Normal                 0            0            0           1   \n",
      "2         Normal                 0            0            0           1   \n",
      "3        Abnorml                 0            0            0           1   \n",
      "4         Normal                 0            0            0           1   \n",
      "\n",
      "  MSZoning_RM  \n",
      "0           0  \n",
      "1           0  \n",
      "2           0  \n",
      "3           0  \n",
      "4           0  \n",
      "\n",
      "[5 rows x 78 columns]\n"
     ]
    }
   ],
   "source": [
    "# Appliquer One-Hot Encoding à la colonne 'MSZoning' et garder le même nom de DataFrame\n",
    "df = pd.get_dummies(df, columns=['MSZoning'], drop_first=False)\n",
    "\n",
    "# Convertir les valeurs booléennes en entiers (0 et 1)\n",
    "df = df.apply(lambda x: x.astype(int) if x.dtype == 'bool' else x)\n",
    "\n",
    "# Afficher le DataFrame encodé\n",
    "print(df.head())\n"
   ]
  },
  {
   "cell_type": "code",
   "execution_count": 487,
   "id": "152834d9-c30d-4250-83d8-acf327d92b80",
   "metadata": {},
   "outputs": [
    {
     "name": "stdout",
     "output_type": "stream",
     "text": [
      "Index(['Street', 'LotShape', 'LandContour', 'Utilities', 'LotConfig',\n",
      "       'LandSlope', 'Neighborhood', 'Condition1', 'Condition2', 'BldgType',\n",
      "       'HouseStyle', 'RoofStyle', 'RoofMatl', 'Exterior1st', 'Exterior2nd',\n",
      "       'ExterQual', 'ExterCond', 'Foundation', 'BsmtQual', 'BsmtCond',\n",
      "       'BsmtExposure', 'BsmtFinType1', 'BsmtFinType2', 'Heating', 'HeatingQC',\n",
      "       'CentralAir', 'Electrical', 'KitchenQual', 'Functional', 'FireplaceQu',\n",
      "       'GarageType', 'GarageFinish', 'GarageQual', 'GarageCond', 'PavedDrive',\n",
      "       'SaleType', 'SaleCondition'],\n",
      "      dtype='object')\n",
      "37\n"
     ]
    }
   ],
   "source": [
    "\n",
    "CatData = df.select_dtypes(include=['object', 'category'])\n",
    "print(CatData.columns)\n",
    "print(len(CatData.columns))"
   ]
  },
  {
   "cell_type": "code",
   "execution_count": 488,
   "id": "d4b733e1-0d11-4513-91c6-0120af195734",
   "metadata": {},
   "outputs": [
    {
     "name": "stdout",
     "output_type": "stream",
     "text": [
      "La feature  contient des valeurs différentes\n",
      "Street\n",
      "Pave    99.5889\n",
      "Grvl     0.4111\n",
      "Name: proportion, dtype: float64\n"
     ]
    }
   ],
   "source": [
    "# Vérification si la variable a des valeurs uniques ou constantes\n",
    "if len(df['Street'].unique()) == 1:\n",
    "    print(\"La feature a la même valeur sur toutes les lignes\")\n",
    "else:\n",
    "    print(\"La feature  contient des valeurs différentes\")\n",
    "\n",
    "# Affichage des pourcentages des différentes valeurs de 'LotConfig'\n",
    "pourcentages = df['Street'].value_counts(normalize=True) * 100\n",
    "print(pourcentages)\n"
   ]
  },
  {
   "cell_type": "code",
   "execution_count": 489,
   "id": "caa120d2-f6c9-4c2a-8667-ccad5583dae0",
   "metadata": {},
   "outputs": [
    {
     "name": "stdout",
     "output_type": "stream",
     "text": [
      "   MSSubClass  LotFrontage  LotArea LotShape LandContour Utilities LotConfig  \\\n",
      "0          60         65.0     8450      Reg         Lvl    AllPub    Inside   \n",
      "1          20         80.0     9600      Reg         Lvl    AllPub       FR2   \n",
      "2          60         68.0    11250      IR1         Lvl    AllPub    Inside   \n",
      "3          70         60.0     9550      IR1         Lvl    AllPub    Corner   \n",
      "4          60         84.0    14260      IR1         Lvl    AllPub       FR2   \n",
      "\n",
      "  LandSlope Neighborhood Condition1  ... YrSold SaleType SaleCondition  \\\n",
      "0       Gtl      CollgCr       Norm  ...   2008       WD        Normal   \n",
      "1       Gtl      Veenker      Feedr  ...   2007       WD        Normal   \n",
      "2       Gtl      CollgCr       Norm  ...   2008       WD        Normal   \n",
      "3       Gtl      Crawfor       Norm  ...   2006       WD       Abnorml   \n",
      "4       Gtl      NoRidge       Norm  ...   2008       WD        Normal   \n",
      "\n",
      "   MSZoning_C (all)  MSZoning_FV  MSZoning_RH  MSZoning_RL MSZoning_RM  \\\n",
      "0                 0            0            0            1           0   \n",
      "1                 0            0            0            1           0   \n",
      "2                 0            0            0            1           0   \n",
      "3                 0            0            0            1           0   \n",
      "4                 0            0            0            1           0   \n",
      "\n",
      "  Street_Grvl Street_Pave  \n",
      "0           0           1  \n",
      "1           0           1  \n",
      "2           0           1  \n",
      "3           0           1  \n",
      "4           0           1  \n",
      "\n",
      "[5 rows x 79 columns]\n"
     ]
    }
   ],
   "source": [
    "# Appliquer One-Hot Encoding à la colonne  et garder le même nom de DataFrame\n",
    "df = pd.get_dummies(df, columns=['Street'], drop_first=False)\n",
    "\n",
    "# Convertir les valeurs booléennes en entiers (0 et 1)\n",
    "df = df.apply(lambda x: x.astype(int) if x.dtype == 'bool' else x)\n",
    "\n",
    "# Afficher le DataFrame encodé\n",
    "print(df.head())"
   ]
  },
  {
   "cell_type": "code",
   "execution_count": 490,
   "id": "b7ad2d45-1d1e-431e-a084-53c53cd68fb1",
   "metadata": {},
   "outputs": [
    {
     "name": "stdout",
     "output_type": "stream",
     "text": [
      "La feature  contient des valeurs différentes\n",
      "LotShape\n",
      "Reg    63.686194\n",
      "IR1    33.162042\n",
      "IR2     2.603631\n",
      "IR3     0.548133\n",
      "Name: proportion, dtype: float64\n"
     ]
    }
   ],
   "source": [
    "# Vérification si la variable a des valeurs uniques ou constantes\n",
    "if len(df['LotShape'].unique()) == 1:\n",
    "    print(\"La feature a la même valeur sur toutes les lignes\")\n",
    "else:\n",
    "    print(\"La feature  contient des valeurs différentes\")\n",
    "\n",
    "# Affichage des pourcentages des différentes valeurs \n",
    "pourcentages = df['LotShape'].value_counts(normalize=True) * 100\n",
    "print(pourcentages)"
   ]
  },
  {
   "cell_type": "code",
   "execution_count": 491,
   "id": "f10806a1-1642-47e9-b5ae-d55846b52845",
   "metadata": {},
   "outputs": [
    {
     "data": {
      "text/plain": [
       "0       4\n",
       "1       4\n",
       "2       3\n",
       "3       3\n",
       "4       3\n",
       "       ..\n",
       "2914    4\n",
       "2915    4\n",
       "2916    4\n",
       "2917    4\n",
       "2918    4\n",
       "Name: LotShape, Length: 2919, dtype: int64"
      ]
     },
     "execution_count": 491,
     "metadata": {},
     "output_type": "execute_result"
    }
   ],
   "source": [
    "Lotshape_map = {\n",
    "    'Reg': 4,\n",
    "    'IR1': 3,\n",
    "    'IR2': 2,\n",
    "    'IR3': 1,\n",
    "}\n",
    "\n",
    "df['LotShape'] = df['LotShape'].map(Lotshape_map)\n",
    "df['LotShape']"
   ]
  },
  {
   "cell_type": "code",
   "execution_count": null,
   "id": "24784005-f947-4cd2-83ea-1cc056c68cc9",
   "metadata": {},
   "outputs": [],
   "source": []
  },
  {
   "cell_type": "code",
   "execution_count": null,
   "id": "2242ffd4-fdf9-41bb-85cf-c82a78003d9a",
   "metadata": {},
   "outputs": [],
   "source": []
  },
  {
   "cell_type": "code",
   "execution_count": 492,
   "id": "275e008a-a119-46ef-88d5-83d5125cd880",
   "metadata": {},
   "outputs": [
    {
     "data": {
      "text/plain": [
       "0       1\n",
       "1       1\n",
       "2       1\n",
       "3       1\n",
       "4       1\n",
       "       ..\n",
       "2914    1\n",
       "2915    1\n",
       "2916    1\n",
       "2917    1\n",
       "2918    1\n",
       "Name: LandContour, Length: 2919, dtype: int64"
      ]
     },
     "execution_count": 492,
     "metadata": {},
     "output_type": "execute_result"
    }
   ],
   "source": [
    "# 5 LandContour: Flatness of the property        TRANSFORMER EN CHIFFRE HIERARCHIQUE (1 2 3 4)\n",
    "LandContour_map = {\n",
    "    'Lvl': 1,\n",
    "    'Bnk': 2,\n",
    "    'HLS': 3,\n",
    "    'Low': 4\n",
    "}\n",
    "\n",
    "df['LandContour'] = df['LandContour'].map(LandContour_map)\n",
    "df['LandContour']"
   ]
  },
  {
   "cell_type": "code",
   "execution_count": 493,
   "id": "05a42a9c-8219-4ac5-84bb-5321d703fe44",
   "metadata": {},
   "outputs": [
    {
     "name": "stdout",
     "output_type": "stream",
     "text": [
      "La feature  contient des valeurs différentes\n",
      "Utilities\n",
      "AllPub    99.965742\n",
      "NoSeWa     0.034258\n",
      "Name: proportion, dtype: float64\n"
     ]
    }
   ],
   "source": [
    "# Vérification si la variable a des valeurs uniques ou constantes\n",
    "if len(df['Utilities'].unique()) == 1:\n",
    "    print(\"La feature a la même valeur sur toutes les lignes\")\n",
    "else:\n",
    "    print(\"La feature  contient des valeurs différentes\")\n",
    "\n",
    "# Affichage des pourcentages des différentes valeurs \n",
    "pourcentages = df['Utilities'].value_counts(normalize=True) * 100\n",
    "print(pourcentages)"
   ]
  },
  {
   "cell_type": "code",
   "execution_count": 494,
   "id": "88557635-3bb0-4225-8082-5212433d6f68",
   "metadata": {},
   "outputs": [],
   "source": [
    "df = df.drop(columns=['Utilities'])"
   ]
  },
  {
   "cell_type": "code",
   "execution_count": 495,
   "id": "d30251d2-add9-4e21-995e-b07155ec599c",
   "metadata": {},
   "outputs": [
    {
     "name": "stdout",
     "output_type": "stream",
     "text": [
      "Index(['LotConfig', 'LandSlope', 'Neighborhood', 'Condition1', 'Condition2',\n",
      "       'BldgType', 'HouseStyle', 'RoofStyle', 'RoofMatl', 'Exterior1st',\n",
      "       'Exterior2nd', 'ExterQual', 'ExterCond', 'Foundation', 'BsmtQual',\n",
      "       'BsmtCond', 'BsmtExposure', 'BsmtFinType1', 'BsmtFinType2', 'Heating',\n",
      "       'HeatingQC', 'CentralAir', 'Electrical', 'KitchenQual', 'Functional',\n",
      "       'FireplaceQu', 'GarageType', 'GarageFinish', 'GarageQual', 'GarageCond',\n",
      "       'PavedDrive', 'SaleType', 'SaleCondition'],\n",
      "      dtype='object')\n",
      "33\n"
     ]
    }
   ],
   "source": [
    "\n",
    "CatData = df.select_dtypes(include=['object', 'category'])\n",
    "print(CatData.columns)\n",
    "print(len(CatData.columns))"
   ]
  },
  {
   "cell_type": "code",
   "execution_count": 496,
   "id": "3363c39d-79d8-495a-85db-cd23eceae65e",
   "metadata": {},
   "outputs": [
    {
     "name": "stdout",
     "output_type": "stream",
     "text": [
      "La feature  contient des valeurs différentes\n",
      "LotConfig\n",
      "Inside     73.072970\n",
      "Corner     17.505995\n",
      "CulDSac     6.029462\n",
      "FR2         2.911956\n",
      "FR3         0.479616\n",
      "Name: proportion, dtype: float64\n"
     ]
    }
   ],
   "source": [
    "# Vérification si la variable a des valeurs uniques ou constantes\n",
    "if len(df['LotConfig'].unique()) == 1:\n",
    "    print(\"La feature a la même valeur sur toutes les lignes\")\n",
    "else:\n",
    "    print(\"La feature  contient des valeurs différentes\")\n",
    "\n",
    "# Affichage des pourcentages des différentes valeurs \n",
    "pourcentages = df['LotConfig'].value_counts(normalize=True) * 100\n",
    "print(pourcentages)"
   ]
  },
  {
   "cell_type": "code",
   "execution_count": 497,
   "id": "17e185eb-0b71-4ab9-ade6-7f7205f0715f",
   "metadata": {},
   "outputs": [
    {
     "name": "stdout",
     "output_type": "stream",
     "text": [
      "   MSSubClass  LotFrontage  LotArea  LotShape  LandContour LandSlope  \\\n",
      "0          60         65.0     8450         4            1       Gtl   \n",
      "1          20         80.0     9600         4            1       Gtl   \n",
      "2          60         68.0    11250         3            1       Gtl   \n",
      "3          70         60.0     9550         3            1       Gtl   \n",
      "4          60         84.0    14260         3            1       Gtl   \n",
      "\n",
      "  Neighborhood Condition1 Condition2 BldgType  ... MSZoning_RH  MSZoning_RL  \\\n",
      "0      CollgCr       Norm       Norm     1Fam  ...           0            1   \n",
      "1      Veenker      Feedr       Norm     1Fam  ...           0            1   \n",
      "2      CollgCr       Norm       Norm     1Fam  ...           0            1   \n",
      "3      Crawfor       Norm       Norm     1Fam  ...           0            1   \n",
      "4      NoRidge       Norm       Norm     1Fam  ...           0            1   \n",
      "\n",
      "   MSZoning_RM  Street_Grvl  Street_Pave LotConfig_Corner LotConfig_CulDSac  \\\n",
      "0            0            0            1                0                 0   \n",
      "1            0            0            1                0                 0   \n",
      "2            0            0            1                0                 0   \n",
      "3            0            0            1                1                 0   \n",
      "4            0            0            1                0                 0   \n",
      "\n",
      "  LotConfig_FR2 LotConfig_FR3  LotConfig_Inside  \n",
      "0             0             0                 1  \n",
      "1             1             0                 0  \n",
      "2             0             0                 1  \n",
      "3             0             0                 0  \n",
      "4             1             0                 0  \n",
      "\n",
      "[5 rows x 82 columns]\n"
     ]
    }
   ],
   "source": [
    "# Appliquer One-Hot Encoding \n",
    "df = pd.get_dummies(df, columns=['LotConfig'], drop_first=False)\n",
    "\n",
    "# Convertir les valeurs booléennes en entiers (0 et 1)\n",
    "df = df.apply(lambda x: x.astype(int) if x.dtype == 'bool' else x)\n",
    "\n",
    "# Afficher le DataFrame\n",
    "print(df.head())"
   ]
  },
  {
   "cell_type": "code",
   "execution_count": 498,
   "id": "1597abf0-acfa-4244-ae74-4a4f671807d8",
   "metadata": {},
   "outputs": [
    {
     "name": "stdout",
     "output_type": "stream",
     "text": [
      "La feature  contient des valeurs différentes\n",
      "LandSlope\n",
      "Gtl    95.169579\n",
      "Mod     4.282288\n",
      "Sev     0.548133\n",
      "Name: proportion, dtype: float64\n"
     ]
    }
   ],
   "source": [
    "# Vérification si la variable a des valeurs uniques ou constantes\n",
    "if len(df['LandSlope'].unique()) == 1:\n",
    "    print(\"La feature a la même valeur sur toutes les lignes\")\n",
    "else:\n",
    "    print(\"La feature  contient des valeurs différentes\")\n",
    "\n",
    "# Affichage des pourcentages des différentes valeurs \n",
    "pourcentages = df['LandSlope'].value_counts(normalize=True) * 100\n",
    "print(pourcentages)"
   ]
  },
  {
   "cell_type": "code",
   "execution_count": 499,
   "id": "b96d2b62-afa7-4580-a4ca-86a841097021",
   "metadata": {},
   "outputs": [
    {
     "data": {
      "text/plain": [
       "0       3\n",
       "1       3\n",
       "2       3\n",
       "3       3\n",
       "4       3\n",
       "       ..\n",
       "2914    3\n",
       "2915    3\n",
       "2916    3\n",
       "2917    3\n",
       "2918    2\n",
       "Name: LandSlope, Length: 2919, dtype: int64"
      ]
     },
     "execution_count": 499,
     "metadata": {},
     "output_type": "execute_result"
    }
   ],
   "source": [
    "landslope_map = {\n",
    "    'Gtl': 3,  # Gentle slope (pente douce)\n",
    "    'Mod': 2,  # Moderate slope (pente modérée)\n",
    "    'Sev': 1   # Severe slope (pente sévère)\n",
    "}\n",
    "\n",
    "# Appliquer le mappage à la colonne 'LandSlope'\n",
    "df['LandSlope'] = df['LandSlope'].map(landslope_map)\n",
    "df['LandSlope']"
   ]
  },
  {
   "cell_type": "code",
   "execution_count": null,
   "id": "ed6ad6f4-53c4-4c1d-bf01-7fe450344287",
   "metadata": {},
   "outputs": [],
   "source": [
    "\n"
   ]
  },
  {
   "cell_type": "code",
   "execution_count": 500,
   "id": "5d3d270f-4122-485a-aae2-fead8a8aefdf",
   "metadata": {},
   "outputs": [
    {
     "name": "stdout",
     "output_type": "stream",
     "text": [
      "   MSSubClass  LotFrontage  LotArea  LotShape  LandContour  LandSlope  \\\n",
      "0          60         65.0     8450         4            1          3   \n",
      "1          20         80.0     9600         4            1          3   \n",
      "2          60         68.0    11250         3            1          3   \n",
      "3          70         60.0     9550         3            1          3   \n",
      "4          60         84.0    14260         3            1          3   \n",
      "\n",
      "  Condition1 Condition2 BldgType HouseStyle  ...  Neighborhood_NoRidge  \\\n",
      "0       Norm       Norm     1Fam     2Story  ...                     0   \n",
      "1      Feedr       Norm     1Fam     1Story  ...                     0   \n",
      "2       Norm       Norm     1Fam     2Story  ...                     0   \n",
      "3       Norm       Norm     1Fam     2Story  ...                     0   \n",
      "4       Norm       Norm     1Fam     2Story  ...                     1   \n",
      "\n",
      "   Neighborhood_NridgHt  Neighborhood_OldTown  Neighborhood_SWISU  \\\n",
      "0                     0                     0                   0   \n",
      "1                     0                     0                   0   \n",
      "2                     0                     0                   0   \n",
      "3                     0                     0                   0   \n",
      "4                     0                     0                   0   \n",
      "\n",
      "  Neighborhood_Sawyer Neighborhood_SawyerW Neighborhood_Somerst  \\\n",
      "0                   0                    0                    0   \n",
      "1                   0                    0                    0   \n",
      "2                   0                    0                    0   \n",
      "3                   0                    0                    0   \n",
      "4                   0                    0                    0   \n",
      "\n",
      "  Neighborhood_StoneBr  Neighborhood_Timber Neighborhood_Veenker  \n",
      "0                    0                    0                    0  \n",
      "1                    0                    0                    1  \n",
      "2                    0                    0                    0  \n",
      "3                    0                    0                    0  \n",
      "4                    0                    0                    0  \n",
      "\n",
      "[5 rows x 106 columns]\n"
     ]
    }
   ],
   "source": [
    "# Appliquer One-Hot Encoding \n",
    "df = pd.get_dummies(df, columns=['Neighborhood'], drop_first=False)\n",
    "\n",
    "# Convertir les valeurs booléennes en entiers (0 et 1)\n",
    "\n",
    "df = df.apply(lambda x: x.astype(int) if x.dtype == 'bool' else x)\n",
    "\n",
    "# Afficher le DataFrame\n",
    "print(df.head())"
   ]
  },
  {
   "cell_type": "code",
   "execution_count": 501,
   "id": "3c3f4587-ab56-472d-9630-cc0806027944",
   "metadata": {},
   "outputs": [
    {
     "name": "stdout",
     "output_type": "stream",
     "text": [
      "La feature  contient des valeurs différentes\n",
      "Condition1\n",
      "Norm      86.022610\n",
      "Feedr      5.618362\n",
      "Artery     3.151764\n",
      "RRAn       1.712915\n",
      "PosN       1.336074\n",
      "RRAe       0.959233\n",
      "PosA       0.685166\n",
      "RRNn       0.308325\n",
      "RRNe       0.205550\n",
      "Name: proportion, dtype: float64\n"
     ]
    }
   ],
   "source": [
    "# Vérification si la variable a des valeurs uniques ou constantes\n",
    "if len(df['Condition1'].unique()) == 1:\n",
    "    print(\"La feature a la même valeur sur toutes les lignes\")\n",
    "else:\n",
    "    print(\"La feature  contient des valeurs différentes\")\n",
    "\n",
    "# Affichage des pourcentages des différentes valeurs \n",
    "pourcentages = df['Condition1'].value_counts(normalize=True) * 100\n",
    "print(pourcentages)"
   ]
  },
  {
   "cell_type": "code",
   "execution_count": 502,
   "id": "d8d6a741-21da-4969-a5ce-3cab8f608d1d",
   "metadata": {},
   "outputs": [
    {
     "name": "stdout",
     "output_type": "stream",
     "text": [
      "   MSSubClass  LotFrontage  LotArea  LotShape  LandContour  LandSlope  \\\n",
      "0          60         65.0     8450         4            1          3   \n",
      "1          20         80.0     9600         4            1          3   \n",
      "2          60         68.0    11250         3            1          3   \n",
      "3          70         60.0     9550         3            1          3   \n",
      "4          60         84.0    14260         3            1          3   \n",
      "\n",
      "  Condition2 BldgType HouseStyle  OverallQual  ...  Neighborhood_Veenker  \\\n",
      "0       Norm     1Fam     2Story            7  ...                     0   \n",
      "1       Norm     1Fam     1Story            6  ...                     1   \n",
      "2       Norm     1Fam     2Story            7  ...                     0   \n",
      "3       Norm     1Fam     2Story            7  ...                     0   \n",
      "4       Norm     1Fam     2Story            8  ...                     0   \n",
      "\n",
      "   Condition1_Artery  Condition1_Feedr Condition1_Norm Condition1_PosA  \\\n",
      "0                  0                 0               1               0   \n",
      "1                  0                 1               0               0   \n",
      "2                  0                 0               1               0   \n",
      "3                  0                 0               1               0   \n",
      "4                  0                 0               1               0   \n",
      "\n",
      "  Condition1_PosN Condition1_RRAe  Condition1_RRAn Condition1_RRNe  \\\n",
      "0               0               0                0               0   \n",
      "1               0               0                0               0   \n",
      "2               0               0                0               0   \n",
      "3               0               0                0               0   \n",
      "4               0               0                0               0   \n",
      "\n",
      "  Condition1_RRNn  \n",
      "0               0  \n",
      "1               0  \n",
      "2               0  \n",
      "3               0  \n",
      "4               0  \n",
      "\n",
      "[5 rows x 114 columns]\n"
     ]
    }
   ],
   "source": [
    "# Appliquer One-Hot Encoding \n",
    "df = pd.get_dummies(df, columns=['Condition1'], drop_first=False)\n",
    "\n",
    "# Convertir les valeurs booléennes en entiers (0 et 1)\n",
    "\n",
    "df = df.apply(lambda x: x.astype(int) if x.dtype == 'bool' else x)\n",
    "\n",
    "# Afficher le DataFrame\n",
    "print(df.head())"
   ]
  },
  {
   "cell_type": "code",
   "execution_count": 503,
   "id": "11c47786-f002-4f64-8af9-04e435658330",
   "metadata": {},
   "outputs": [
    {
     "name": "stdout",
     "output_type": "stream",
     "text": [
      "La feature  contient des valeurs différentes\n",
      "Condition2\n",
      "Norm      98.972251\n",
      "Feedr      0.445358\n",
      "Artery     0.171292\n",
      "PosN       0.137033\n",
      "PosA       0.137033\n",
      "RRNn       0.068517\n",
      "RRAn       0.034258\n",
      "RRAe       0.034258\n",
      "Name: proportion, dtype: float64\n"
     ]
    }
   ],
   "source": [
    "# Vérification si la variable a des valeurs uniques ou constantes\n",
    "if len(df['Condition2'].unique()) == 1:\n",
    "    print(\"La feature a la même valeur sur toutes les lignes\")\n",
    "else:\n",
    "    print(\"La feature  contient des valeurs différentes\")\n",
    "\n",
    "# Affichage des pourcentages des différentes valeurs \n",
    "pourcentages = df['Condition2'].value_counts(normalize=True) * 100\n",
    "print(pourcentages)"
   ]
  },
  {
   "cell_type": "code",
   "execution_count": 504,
   "id": "931e4b81-1915-418a-94f2-3a2c46fd2f8a",
   "metadata": {},
   "outputs": [
    {
     "name": "stdout",
     "output_type": "stream",
     "text": [
      "   MSSubClass  LotFrontage  LotArea  LotShape  LandContour  LandSlope  \\\n",
      "0          60         65.0     8450         4            1          3   \n",
      "1          20         80.0     9600         4            1          3   \n",
      "2          60         68.0    11250         3            1          3   \n",
      "3          70         60.0     9550         3            1          3   \n",
      "4          60         84.0    14260         3            1          3   \n",
      "\n",
      "  BldgType HouseStyle  OverallQual  OverallCond  ...  Condition1_RRNe  \\\n",
      "0     1Fam     2Story            7            5  ...                0   \n",
      "1     1Fam     1Story            6            8  ...                0   \n",
      "2     1Fam     2Story            7            5  ...                0   \n",
      "3     1Fam     2Story            7            5  ...                0   \n",
      "4     1Fam     2Story            8            5  ...                0   \n",
      "\n",
      "   Condition1_RRNn Condition2_Artery Condition2_Feedr Condition2_Norm  \\\n",
      "0                0                 0                0               1   \n",
      "1                0                 0                0               1   \n",
      "2                0                 0                0               1   \n",
      "3                0                 0                0               1   \n",
      "4                0                 0                0               1   \n",
      "\n",
      "  Condition2_PosA  Condition2_PosN Condition2_RRAe Condition2_RRAn  \\\n",
      "0               0                0               0               0   \n",
      "1               0                0               0               0   \n",
      "2               0                0               0               0   \n",
      "3               0                0               0               0   \n",
      "4               0                0               0               0   \n",
      "\n",
      "  Condition2_RRNn  \n",
      "0               0  \n",
      "1               0  \n",
      "2               0  \n",
      "3               0  \n",
      "4               0  \n",
      "\n",
      "[5 rows x 121 columns]\n"
     ]
    }
   ],
   "source": [
    "# Appliquer One-Hot Encoding \n",
    "df = pd.get_dummies(df, columns=['Condition2'], drop_first=False)\n",
    "\n",
    "# Convertir les valeurs booléennes en entiers (0 et 1)\n",
    "\n",
    "df = df.apply(lambda x: x.astype(int) if x.dtype == 'bool' else x)\n",
    "\n",
    "# Afficher le DataFrame\n",
    "print(df.head())"
   ]
  },
  {
   "cell_type": "code",
   "execution_count": 505,
   "id": "d9c413fb-640f-4a33-8d49-6d0b1c14e2af",
   "metadata": {},
   "outputs": [
    {
     "name": "stdout",
     "output_type": "stream",
     "text": [
      "La feature  contient des valeurs différentes\n",
      "BldgType\n",
      "1Fam      83.076396\n",
      "TwnhsE     7.776636\n",
      "Duplex     3.734156\n",
      "Twnhs      3.288798\n",
      "2fmCon     2.124015\n",
      "Name: proportion, dtype: float64\n"
     ]
    }
   ],
   "source": [
    "# Vérification si la variable a des valeurs uniques ou constantes\n",
    "if len(df['BldgType'].unique()) == 1:\n",
    "    print(\"La feature a la même valeur sur toutes les lignes\")\n",
    "else:\n",
    "    print(\"La feature  contient des valeurs différentes\")\n",
    "\n",
    "# Affichage des pourcentages des différentes valeurs \n",
    "pourcentages = df['BldgType'].value_counts(normalize=True) * 100\n",
    "print(pourcentages)"
   ]
  },
  {
   "cell_type": "code",
   "execution_count": 506,
   "id": "a19c92a9-97dc-4bbf-9030-b0846872cb82",
   "metadata": {},
   "outputs": [
    {
     "name": "stdout",
     "output_type": "stream",
     "text": [
      "   MSSubClass  LotFrontage  LotArea  LotShape  LandContour  LandSlope  \\\n",
      "0          60         65.0     8450         4            1          3   \n",
      "1          20         80.0     9600         4            1          3   \n",
      "2          60         68.0    11250         3            1          3   \n",
      "3          70         60.0     9550         3            1          3   \n",
      "4          60         84.0    14260         3            1          3   \n",
      "\n",
      "  HouseStyle  OverallQual  OverallCond  YearBuilt  ...  Condition2_PosA  \\\n",
      "0     2Story            7            5       2003  ...                0   \n",
      "1     1Story            6            8       1976  ...                0   \n",
      "2     2Story            7            5       2001  ...                0   \n",
      "3     2Story            7            5       1915  ...                0   \n",
      "4     2Story            8            5       2000  ...                0   \n",
      "\n",
      "  Condition2_PosN Condition2_RRAe Condition2_RRAn Condition2_RRNn  \\\n",
      "0               0               0               0               0   \n",
      "1               0               0               0               0   \n",
      "2               0               0               0               0   \n",
      "3               0               0               0               0   \n",
      "4               0               0               0               0   \n",
      "\n",
      "   BldgType_1Fam BldgType_2fmCon BldgType_Duplex BldgType_Twnhs  \\\n",
      "0              1               0               0              0   \n",
      "1              1               0               0              0   \n",
      "2              1               0               0              0   \n",
      "3              1               0               0              0   \n",
      "4              1               0               0              0   \n",
      "\n",
      "  BldgType_TwnhsE  \n",
      "0               0  \n",
      "1               0  \n",
      "2               0  \n",
      "3               0  \n",
      "4               0  \n",
      "\n",
      "[5 rows x 125 columns]\n"
     ]
    }
   ],
   "source": [
    "\n",
    "# Appliquer One-Hot Encoding \n",
    "df = pd.get_dummies(df, columns=['BldgType'], drop_first=False)\n",
    "\n",
    "# Convertir les valeurs booléennes en entiers (0 et 1)\n",
    "\n",
    "df = df.apply(lambda x: x.astype(int) if x.dtype == 'bool' else x)\n",
    "\n",
    "# Afficher le DataFrame\n",
    "print(df.head())\n"
   ]
  },
  {
   "cell_type": "code",
   "execution_count": 507,
   "id": "eea5809c-5ffa-4519-90dc-e6cce22d6c53",
   "metadata": {},
   "outputs": [
    {
     "name": "stdout",
     "output_type": "stream",
     "text": [
      "La feature  contient des valeurs différentes\n",
      "HouseStyle\n",
      "1Story    50.393971\n",
      "2Story    29.873244\n",
      "1.5Fin    10.757109\n",
      "SLvl       4.385063\n",
      "SFoyer     2.843440\n",
      "2.5Unf     0.822199\n",
      "1.5Unf     0.650908\n",
      "2.5Fin     0.274066\n",
      "Name: proportion, dtype: float64\n"
     ]
    }
   ],
   "source": [
    "# Vérification si la variable a des valeurs uniques ou constantes\n",
    "if len(df['HouseStyle'].unique()) == 1:\n",
    "    print(\"La feature a la même valeur sur toutes les lignes\")\n",
    "else:\n",
    "    print(\"La feature  contient des valeurs différentes\")\n",
    "\n",
    "# Affichage des pourcentages des différentes valeurs \n",
    "pourcentages = df['HouseStyle'].value_counts(normalize=True) * 100\n",
    "print(pourcentages)"
   ]
  },
  {
   "cell_type": "code",
   "execution_count": 508,
   "id": "94d39845-a351-454e-983a-53e86a473cde",
   "metadata": {},
   "outputs": [
    {
     "name": "stdout",
     "output_type": "stream",
     "text": [
      "   MSSubClass  LotFrontage  LotArea  LotShape  LandContour  LandSlope  \\\n",
      "0          60         65.0     8450         4            1          3   \n",
      "1          20         80.0     9600         4            1          3   \n",
      "2          60         68.0    11250         3            1          3   \n",
      "3          70         60.0     9550         3            1          3   \n",
      "4          60         84.0    14260         3            1          3   \n",
      "\n",
      "   OverallQual  OverallCond  YearBuilt  YearRemodAdd  ... BldgType_Twnhs  \\\n",
      "0            7            5       2003          2003  ...              0   \n",
      "1            6            8       1976          1976  ...              0   \n",
      "2            7            5       2001          2002  ...              0   \n",
      "3            7            5       1915          1970  ...              0   \n",
      "4            8            5       2000          2000  ...              0   \n",
      "\n",
      "  BldgType_TwnhsE HouseStyle_1.5Fin HouseStyle_1.5Unf  HouseStyle_1Story  \\\n",
      "0               0                 0                 0                  0   \n",
      "1               0                 0                 0                  1   \n",
      "2               0                 0                 0                  0   \n",
      "3               0                 0                 0                  0   \n",
      "4               0                 0                 0                  0   \n",
      "\n",
      "  HouseStyle_2.5Fin HouseStyle_2.5Unf HouseStyle_2Story HouseStyle_SFoyer  \\\n",
      "0                 0                 0                 1                 0   \n",
      "1                 0                 0                 0                 0   \n",
      "2                 0                 0                 1                 0   \n",
      "3                 0                 0                 1                 0   \n",
      "4                 0                 0                 1                 0   \n",
      "\n",
      "  HouseStyle_SLvl  \n",
      "0               0  \n",
      "1               0  \n",
      "2               0  \n",
      "3               0  \n",
      "4               0  \n",
      "\n",
      "[5 rows x 132 columns]\n"
     ]
    }
   ],
   "source": [
    "# Appliquer One-Hot Encoding \n",
    "df = pd.get_dummies(df, columns=['HouseStyle'], drop_first=False)\n",
    "\n",
    "# Convertir les valeurs booléennes en entiers (0 et 1)\n",
    "\n",
    "df = df.apply(lambda x: x.astype(int) if x.dtype == 'bool' else x)\n",
    "\n",
    "# Afficher le DataFrame\n",
    "print(df.head())"
   ]
  },
  {
   "cell_type": "code",
   "execution_count": 509,
   "id": "46ac3c13-7339-4a5c-8f72-181003396aa5",
   "metadata": {},
   "outputs": [
    {
     "name": "stdout",
     "output_type": "stream",
     "text": [
      "   MSSubClass  LotFrontage  LotArea  LotShape  LandContour  LandSlope  \\\n",
      "0          60         65.0     8450         4            1          3   \n",
      "1          20         80.0     9600         4            1          3   \n",
      "2          60         68.0    11250         3            1          3   \n",
      "3          70         60.0     9550         3            1          3   \n",
      "4          60         84.0    14260         3            1          3   \n",
      "\n",
      "   OverallQual  OverallCond  YearBuilt  YearRemodAdd  ... HouseStyle_2.5Unf  \\\n",
      "0            7            5       2003          2003  ...                 0   \n",
      "1            6            8       1976          1976  ...                 0   \n",
      "2            7            5       2001          2002  ...                 0   \n",
      "3            7            5       1915          1970  ...                 0   \n",
      "4            8            5       2000          2000  ...                 0   \n",
      "\n",
      "  HouseStyle_2Story HouseStyle_SFoyer  HouseStyle_SLvl RoofStyle_Flat  \\\n",
      "0                 1                 0                0              0   \n",
      "1                 0                 0                0              0   \n",
      "2                 1                 0                0              0   \n",
      "3                 1                 0                0              0   \n",
      "4                 1                 0                0              0   \n",
      "\n",
      "  RoofStyle_Gable RoofStyle_Gambrel RoofStyle_Hip RoofStyle_Mansard  \\\n",
      "0               1                 0             0                 0   \n",
      "1               1                 0             0                 0   \n",
      "2               1                 0             0                 0   \n",
      "3               1                 0             0                 0   \n",
      "4               1                 0             0                 0   \n",
      "\n",
      "  RoofStyle_Shed  \n",
      "0              0  \n",
      "1              0  \n",
      "2              0  \n",
      "3              0  \n",
      "4              0  \n",
      "\n",
      "[5 rows x 137 columns]\n"
     ]
    }
   ],
   "source": [
    "# Appliquer One-Hot Encoding \n",
    "df = pd.get_dummies(df, columns=['RoofStyle'], drop_first=False)\n",
    "\n",
    "# Convertir les valeurs booléennes en entiers (0 et 1)\n",
    "\n",
    "df = df.apply(lambda x: x.astype(int) if x.dtype == 'bool' else x)\n",
    "\n",
    "# Afficher le DataFrame\n",
    "print(df.head())"
   ]
  },
  {
   "cell_type": "code",
   "execution_count": 510,
   "id": "096e635e-aeca-4cfd-8cbc-6157bbd25d78",
   "metadata": {},
   "outputs": [
    {
     "name": "stdout",
     "output_type": "stream",
     "text": [
      "   MSSubClass  LotFrontage  LotArea  LotShape  LandContour  LandSlope  \\\n",
      "0          60         65.0     8450         4            1          3   \n",
      "1          20         80.0     9600         4            1          3   \n",
      "2          60         68.0    11250         3            1          3   \n",
      "3          70         60.0     9550         3            1          3   \n",
      "4          60         84.0    14260         3            1          3   \n",
      "\n",
      "   OverallQual  OverallCond  YearBuilt  YearRemodAdd  ... RoofStyle_Mansard  \\\n",
      "0            7            5       2003          2003  ...                 0   \n",
      "1            6            8       1976          1976  ...                 0   \n",
      "2            7            5       2001          2002  ...                 0   \n",
      "3            7            5       1915          1970  ...                 0   \n",
      "4            8            5       2000          2000  ...                 0   \n",
      "\n",
      "  RoofStyle_Shed  RoofMatl_ClyTile RoofMatl_CompShg RoofMatl_Membran  \\\n",
      "0              0                 0                1                0   \n",
      "1              0                 0                1                0   \n",
      "2              0                 0                1                0   \n",
      "3              0                 0                1                0   \n",
      "4              0                 0                1                0   \n",
      "\n",
      "  RoofMatl_Metal RoofMatl_Roll RoofMatl_Tar&Grv RoofMatl_WdShake  \\\n",
      "0              0             0                0                0   \n",
      "1              0             0                0                0   \n",
      "2              0             0                0                0   \n",
      "3              0             0                0                0   \n",
      "4              0             0                0                0   \n",
      "\n",
      "  RoofMatl_WdShngl  \n",
      "0                0  \n",
      "1                0  \n",
      "2                0  \n",
      "3                0  \n",
      "4                0  \n",
      "\n",
      "[5 rows x 144 columns]\n"
     ]
    }
   ],
   "source": [
    "# Appliquer One-Hot Encoding \n",
    "df = pd.get_dummies(df, columns=['RoofMatl'], drop_first=False)\n",
    "\n",
    "# Convertir les valeurs booléennes en entiers (0 et 1)\n",
    "\n",
    "df = df.apply(lambda x: x.astype(int) if x.dtype == 'bool' else x)\n",
    "\n",
    "# Afficher le DataFrame\n",
    "print(df.head())"
   ]
  },
  {
   "cell_type": "code",
   "execution_count": 511,
   "id": "519011b0-f92c-41e1-add4-67f9dbbf3f68",
   "metadata": {},
   "outputs": [
    {
     "name": "stdout",
     "output_type": "stream",
     "text": [
      "   MSSubClass  LotFrontage  LotArea  LotShape  LandContour  LandSlope  \\\n",
      "0          60         65.0     8450         4            1          3   \n",
      "1          20         80.0     9600         4            1          3   \n",
      "2          60         68.0    11250         3            1          3   \n",
      "3          70         60.0     9550         3            1          3   \n",
      "4          60         84.0    14260         3            1          3   \n",
      "\n",
      "   OverallQual  OverallCond  YearBuilt  YearRemodAdd  ... Exterior1st_CemntBd  \\\n",
      "0            7            5       2003          2003  ...                   0   \n",
      "1            6            8       1976          1976  ...                   0   \n",
      "2            7            5       2001          2002  ...                   0   \n",
      "3            7            5       1915          1970  ...                   0   \n",
      "4            8            5       2000          2000  ...                   0   \n",
      "\n",
      "   Exterior1st_HdBoard Exterior1st_ImStucc Exterior1st_MetalSd  \\\n",
      "0                    0                   0                   0   \n",
      "1                    0                   0                   1   \n",
      "2                    0                   0                   0   \n",
      "3                    0                   0                   0   \n",
      "4                    0                   0                   0   \n",
      "\n",
      "  Exterior1st_Plywood Exterior1st_Stone Exterior1st_Stucco  \\\n",
      "0                   0                 0                  0   \n",
      "1                   0                 0                  0   \n",
      "2                   0                 0                  0   \n",
      "3                   0                 0                  0   \n",
      "4                   0                 0                  0   \n",
      "\n",
      "  Exterior1st_VinylSd Exterior1st_Wd Sdng  Exterior1st_WdShing  \n",
      "0                   1                   0                    0  \n",
      "1                   0                   0                    0  \n",
      "2                   1                   0                    0  \n",
      "3                   0                   1                    0  \n",
      "4                   1                   0                    0  \n",
      "\n",
      "[5 rows x 158 columns]\n"
     ]
    }
   ],
   "source": [
    "# Appliquer One-Hot Encoding \n",
    "df = pd.get_dummies(df, columns=['Exterior1st'], drop_first=False)\n",
    "\n",
    "# Convertir les valeurs booléennes en entiers (0 et 1)\n",
    "\n",
    "df = df.apply(lambda x: x.astype(int) if x.dtype == 'bool' else x)\n",
    "\n",
    "# Afficher le DataFrame\n",
    "print(df.head())"
   ]
  },
  {
   "cell_type": "code",
   "execution_count": 512,
   "id": "928e7506-f405-4ea7-ae44-81053ed35676",
   "metadata": {},
   "outputs": [
    {
     "name": "stdout",
     "output_type": "stream",
     "text": [
      "   MSSubClass  LotFrontage  LotArea  LotShape  LandContour  LandSlope  \\\n",
      "0          60         65.0     8450         4            1          3   \n",
      "1          20         80.0     9600         4            1          3   \n",
      "2          60         68.0    11250         3            1          3   \n",
      "3          70         60.0     9550         3            1          3   \n",
      "4          60         84.0    14260         3            1          3   \n",
      "\n",
      "   OverallQual  OverallCond  YearBuilt  YearRemodAdd  ...  \\\n",
      "0            7            5       2003          2003  ...   \n",
      "1            6            8       1976          1976  ...   \n",
      "2            7            5       2001          2002  ...   \n",
      "3            7            5       1915          1970  ...   \n",
      "4            8            5       2000          2000  ...   \n",
      "\n",
      "   Exterior2nd_HdBoard Exterior2nd_ImStucc Exterior2nd_MetalSd  \\\n",
      "0                    0                   0                   0   \n",
      "1                    0                   0                   1   \n",
      "2                    0                   0                   0   \n",
      "3                    0                   0                   0   \n",
      "4                    0                   0                   0   \n",
      "\n",
      "  Exterior2nd_Other Exterior2nd_Plywood Exterior2nd_Stone Exterior2nd_Stucco  \\\n",
      "0                 0                   0                 0                  0   \n",
      "1                 0                   0                 0                  0   \n",
      "2                 0                   0                 0                  0   \n",
      "3                 0                   0                 0                  0   \n",
      "4                 0                   0                 0                  0   \n",
      "\n",
      "  Exterior2nd_VinylSd  Exterior2nd_Wd Sdng Exterior2nd_Wd Shng  \n",
      "0                   1                    0                   0  \n",
      "1                   0                    0                   0  \n",
      "2                   1                    0                   0  \n",
      "3                   0                    0                   1  \n",
      "4                   1                    0                   0  \n",
      "\n",
      "[5 rows x 173 columns]\n"
     ]
    }
   ],
   "source": [
    "# Appliquer One-Hot Encoding \n",
    "df = pd.get_dummies(df, columns=['Exterior2nd'], drop_first=False)\n",
    "\n",
    "# Convertir les valeurs booléennes en entiers (0 et 1)\n",
    "\n",
    "df = df.apply(lambda x: x.astype(int) if x.dtype == 'bool' else x)\n",
    "\n",
    "# Afficher le DataFrame\n",
    "print(df.head())\n"
   ]
  },
  {
   "cell_type": "code",
   "execution_count": 513,
   "id": "1c64aac3-d812-48bb-ae60-553ae09697b0",
   "metadata": {},
   "outputs": [],
   "source": [
    "ExterQual_mapping = {\n",
    "    'Ex': 4,\n",
    "    'Gd': 3,\n",
    "    'TA': 2,\n",
    "    'Fa': 1,\n",
    "    'Po': 0\n",
    "}\n",
    "\n",
    "df['ExterQual'] = df['ExterQual'].map(ExterQual_mapping)"
   ]
  },
  {
   "cell_type": "code",
   "execution_count": 514,
   "id": "7a21e3d9-7247-4118-807f-cb5b76d88c58",
   "metadata": {},
   "outputs": [],
   "source": [
    "ExterCond_mapping = {\n",
    "    'Ex': 4,\n",
    "    'Gd': 3,\n",
    "    'TA': 2,\n",
    "    'Fa': 1,\n",
    "    'Po': 0\n",
    "}\n",
    "\n",
    "df['ExterCond'] = df['ExterCond'].map(ExterCond_mapping)"
   ]
  },
  {
   "cell_type": "code",
   "execution_count": 515,
   "id": "b2b8e7f3-a805-4b7e-a057-7bb5a18bceed",
   "metadata": {},
   "outputs": [
    {
     "name": "stdout",
     "output_type": "stream",
     "text": [
      "   MSSubClass  LotFrontage  LotArea  LotShape  LandContour  LandSlope  \\\n",
      "0          60         65.0     8450         4            1          3   \n",
      "1          20         80.0     9600         4            1          3   \n",
      "2          60         68.0    11250         3            1          3   \n",
      "3          70         60.0     9550         3            1          3   \n",
      "4          60         84.0    14260         3            1          3   \n",
      "\n",
      "   OverallQual  OverallCond  YearBuilt  YearRemodAdd  ...  Exterior2nd_Stucco  \\\n",
      "0            7            5       2003          2003  ...                   0   \n",
      "1            6            8       1976          1976  ...                   0   \n",
      "2            7            5       2001          2002  ...                   0   \n",
      "3            7            5       1915          1970  ...                   0   \n",
      "4            8            5       2000          2000  ...                   0   \n",
      "\n",
      "   Exterior2nd_VinylSd  Exterior2nd_Wd Sdng Exterior2nd_Wd Shng  \\\n",
      "0                    1                    0                   0   \n",
      "1                    0                    0                   0   \n",
      "2                    1                    0                   0   \n",
      "3                    0                    0                   1   \n",
      "4                    1                    0                   0   \n",
      "\n",
      "  Foundation_BrkTil Foundation_CBlock Foundation_PConc  Foundation_Slab  \\\n",
      "0                 0                 0                1                0   \n",
      "1                 0                 1                0                0   \n",
      "2                 0                 0                1                0   \n",
      "3                 1                 0                0                0   \n",
      "4                 0                 0                1                0   \n",
      "\n",
      "  Foundation_Stone  Foundation_Wood  \n",
      "0                0                0  \n",
      "1                0                0  \n",
      "2                0                0  \n",
      "3                0                0  \n",
      "4                0                0  \n",
      "\n",
      "[5 rows x 178 columns]\n"
     ]
    }
   ],
   "source": [
    "# Appliquer One-Hot Encoding \n",
    "df = pd.get_dummies(df, columns=['Foundation'], drop_first=False)\n",
    "\n",
    "# Convertir les valeurs booléennes en entiers (0 et 1)\n",
    "\n",
    "df = df.apply(lambda x: x.astype(int) if x.dtype == 'bool' else x)\n",
    "\n",
    "# Afficher le DataFrame\n",
    "print(df.head())"
   ]
  },
  {
   "cell_type": "code",
   "execution_count": 516,
   "id": "259bc837-efde-4d92-bf4d-d3d868fe1a6e",
   "metadata": {},
   "outputs": [],
   "source": [
    "BsmtQual_mapping = {\n",
    "    'Ex': 5,\n",
    "    'Gd': 4,\n",
    "    'TA': 3,\n",
    "    'Fa': 2,\n",
    "    'Po': 1,\n",
    "    'NA': 0\n",
    "}\n",
    "df['BsmtQual'] = df['BsmtQual'].map(BsmtQual_mapping)\n",
    "df['BsmtQual'] = df['BsmtQual'].fillna(df['BsmtQual'].median())\n"
   ]
  },
  {
   "cell_type": "code",
   "execution_count": 517,
   "id": "cb16e9a3-48da-4ab4-96f5-2469d2360d1a",
   "metadata": {},
   "outputs": [],
   "source": [
    "BsmtCond_mapping = {\n",
    "    'Ex': 5,\n",
    "    'Gd': 4,\n",
    "    'TA': 3,\n",
    "    'Fa': 2,\n",
    "    'Po': 1,\n",
    "    'NA': 0\n",
    "}\n",
    "df['BsmtCond'] = df['BsmtCond'].map(BsmtCond_mapping)"
   ]
  },
  {
   "cell_type": "code",
   "execution_count": 518,
   "id": "d73ef0ef-3097-4036-b239-693c56e678da",
   "metadata": {},
   "outputs": [],
   "source": [
    "exposure_mapping = {\n",
    "    'Gd': 4,\n",
    "    'Av': 3,\n",
    "    'Mn': 2,\n",
    "    'No': 1,\n",
    "    'NA': 0\n",
    "}\n",
    "df['BsmtExposure'] = df['BsmtExposure'].map(exposure_mapping)\n",
    "df['BsmtExposure'] = df['BsmtExposure'].fillna(df['BsmtExposure'].median())"
   ]
  },
  {
   "cell_type": "code",
   "execution_count": 519,
   "id": "783dc52e-e026-468e-8acc-486e2a16f70c",
   "metadata": {},
   "outputs": [
    {
     "data": {
      "text/plain": [
       "0       6.0\n",
       "1       5.0\n",
       "2       6.0\n",
       "3       5.0\n",
       "4       6.0\n",
       "       ... \n",
       "2914    1.0\n",
       "2915    3.0\n",
       "2916    5.0\n",
       "2917    6.0\n",
       "2918    2.0\n",
       "Name: BsmtFinType1, Length: 2919, dtype: float64"
      ]
     },
     "execution_count": 519,
     "metadata": {},
     "output_type": "execute_result"
    }
   ],
   "source": [
    "fin_type1_mapping = {\n",
    "    'GLQ': 6,\n",
    "    'ALQ': 5,\n",
    "    'BLQ': 4,\n",
    "    'Rec': 3,\n",
    "    'LwQ': 2,\n",
    "    'Unf': 1,\n",
    "    'NA': 0\n",
    "}\n",
    "\n",
    "df['BsmtFinType1'] = df['BsmtFinType1'].map(fin_type1_mapping)\n",
    "df['BsmtFinType1'] = df['BsmtFinType1'].fillna(df['BsmtFinType1'].median())\n",
    "df['BsmtFinType1']"
   ]
  },
  {
   "cell_type": "code",
   "execution_count": 520,
   "id": "a242f937-5864-48f8-96a6-a768d533c64a",
   "metadata": {},
   "outputs": [],
   "source": [
    "#'BsmtFinType2', 'Heating', 'HeatingQC','CentralAir', 'Electrical', 'KitchenQual', 'Functional', 'FireplaceQu','GarageType', 'GarageFinish', 'GarageQual', 'GarageCond', 'PavedDrive','SaleType', 'SaleCondition']"
   ]
  },
  {
   "cell_type": "code",
   "execution_count": 521,
   "id": "c0d034c7-7467-4004-b3fe-ffe56b8d1795",
   "metadata": {},
   "outputs": [
    {
     "name": "stdout",
     "output_type": "stream",
     "text": [
      "Index(['BsmtFinType2', 'Heating', 'HeatingQC', 'CentralAir', 'Electrical',\n",
      "       'KitchenQual', 'Functional', 'FireplaceQu', 'GarageType',\n",
      "       'GarageFinish', 'GarageQual', 'GarageCond', 'PavedDrive', 'SaleType',\n",
      "       'SaleCondition'],\n",
      "      dtype='object')\n",
      "15\n"
     ]
    }
   ],
   "source": [
    "CatData = df.select_dtypes(include=['object', 'category'])\n",
    "print(CatData.columns)\n",
    "print(len(CatData.columns))"
   ]
  },
  {
   "cell_type": "code",
   "execution_count": 522,
   "id": "2ba9214d-821e-490f-bc90-cbee8b6f872e",
   "metadata": {},
   "outputs": [
    {
     "data": {
      "text/plain": [
       "0       1\n",
       "1       1\n",
       "2       1\n",
       "3       1\n",
       "4       1\n",
       "       ..\n",
       "2914    1\n",
       "2915    1\n",
       "2916    1\n",
       "2917    1\n",
       "2918    1\n",
       "Name: BsmtFinType2, Length: 2919, dtype: int64"
      ]
     },
     "execution_count": 522,
     "metadata": {},
     "output_type": "execute_result"
    }
   ],
   "source": [
    "fin_type2_mapping = {\n",
    "    'GLQ': 6,\n",
    "    'ALQ': 5,\n",
    "    'BLQ': 4,\n",
    "    'Rec': 3,\n",
    "    'LwQ': 2,\n",
    "    'Unf': 1,\n",
    "    'NA': 0\n",
    "}\n",
    "df['BsmtFinType2'] = df['BsmtFinType2'].map(fin_type2_mapping)\n",
    "df['BsmtFinType2']"
   ]
  },
  {
   "cell_type": "code",
   "execution_count": 523,
   "id": "5c39ca77-4f9f-4cfb-bf3c-dc6adfe22a78",
   "metadata": {},
   "outputs": [
    {
     "name": "stdout",
     "output_type": "stream",
     "text": [
      "   MSSubClass  LotFrontage  LotArea  LotShape  LandContour  LandSlope  \\\n",
      "0          60         65.0     8450         4            1          3   \n",
      "1          20         80.0     9600         4            1          3   \n",
      "2          60         68.0    11250         3            1          3   \n",
      "3          70         60.0     9550         3            1          3   \n",
      "4          60         84.0    14260         3            1          3   \n",
      "\n",
      "   OverallQual  OverallCond  YearBuilt  YearRemodAdd  ...  Foundation_PConc  \\\n",
      "0            7            5       2003          2003  ...                 1   \n",
      "1            6            8       1976          1976  ...                 0   \n",
      "2            7            5       2001          2002  ...                 1   \n",
      "3            7            5       1915          1970  ...                 0   \n",
      "4            8            5       2000          2000  ...                 1   \n",
      "\n",
      "   Foundation_Slab  Foundation_Stone  Foundation_Wood  Heating_Floor  \\\n",
      "0                0                 0                0              0   \n",
      "1                0                 0                0              0   \n",
      "2                0                 0                0              0   \n",
      "3                0                 0                0              0   \n",
      "4                0                 0                0              0   \n",
      "\n",
      "   Heating_GasA  Heating_GasW  Heating_Grav  Heating_OthW  Heating_Wall  \n",
      "0             1             0             0             0             0  \n",
      "1             1             0             0             0             0  \n",
      "2             1             0             0             0             0  \n",
      "3             1             0             0             0             0  \n",
      "4             1             0             0             0             0  \n",
      "\n",
      "[5 rows x 183 columns]\n"
     ]
    }
   ],
   "source": [
    "# Appliquer One-Hot Encoding \n",
    "df = pd.get_dummies(df, columns=['Heating'], drop_first=False)\n",
    "\n",
    "# Convertir les valeurs booléennes en entiers (0 et 1)\n",
    "\n",
    "df = df.apply(lambda x: x.astype(int) if x.dtype == 'bool' else x)\n",
    "\n",
    "# Afficher le DataFrame\n",
    "print(df.head())"
   ]
  },
  {
   "cell_type": "code",
   "execution_count": 524,
   "id": "9e15a2c0-ed6e-4165-807b-269fe7e95b38",
   "metadata": {},
   "outputs": [],
   "source": [
    "heatingqc_mapping = {\n",
    "    'Ex': 4,\n",
    "    'Gd': 3,\n",
    "    'TA': 2,\n",
    "    'Fa': 1,\n",
    "    'Po': 0\n",
    "}\n",
    "df['HeatingQC'] = df['HeatingQC'].map(heatingqc_mapping)"
   ]
  },
  {
   "cell_type": "code",
   "execution_count": 525,
   "id": "a1aea94f-7fe5-4cec-80ed-595557579004",
   "metadata": {},
   "outputs": [
    {
     "name": "stdout",
     "output_type": "stream",
     "text": [
      "   MSSubClass  LotFrontage  LotArea  LotShape  LandContour  LandSlope  \\\n",
      "0          60         65.0     8450         4            1          3   \n",
      "1          20         80.0     9600         4            1          3   \n",
      "2          60         68.0    11250         3            1          3   \n",
      "3          70         60.0     9550         3            1          3   \n",
      "4          60         84.0    14260         3            1          3   \n",
      "\n",
      "   OverallQual  OverallCond  YearBuilt  YearRemodAdd  ...  Foundation_Stone  \\\n",
      "0            7            5       2003          2003  ...                 0   \n",
      "1            6            8       1976          1976  ...                 0   \n",
      "2            7            5       2001          2002  ...                 0   \n",
      "3            7            5       1915          1970  ...                 0   \n",
      "4            8            5       2000          2000  ...                 0   \n",
      "\n",
      "   Foundation_Wood  Heating_Floor  Heating_GasA  Heating_GasW  Heating_Grav  \\\n",
      "0                0              0             1             0             0   \n",
      "1                0              0             1             0             0   \n",
      "2                0              0             1             0             0   \n",
      "3                0              0             1             0             0   \n",
      "4                0              0             1             0             0   \n",
      "\n",
      "   Heating_OthW  Heating_Wall  CentralAir_N  CentralAir_Y  \n",
      "0             0             0             0             1  \n",
      "1             0             0             0             1  \n",
      "2             0             0             0             1  \n",
      "3             0             0             0             1  \n",
      "4             0             0             0             1  \n",
      "\n",
      "[5 rows x 184 columns]\n"
     ]
    }
   ],
   "source": [
    "# Appliquer One-Hot Encoding \n",
    "df = pd.get_dummies(df, columns=['CentralAir'], drop_first=False)\n",
    "\n",
    "# Convertir les valeurs booléennes en entiers (0 et 1)\n",
    "\n",
    "df = df.apply(lambda x: x.astype(int) if x.dtype == 'bool' else x)\n",
    "\n",
    "# Afficher le DataFrame\n",
    "print(df.head())"
   ]
  },
  {
   "cell_type": "code",
   "execution_count": 526,
   "id": "6f7a61f3-bde0-41cf-803e-fbf34bc72512",
   "metadata": {},
   "outputs": [
    {
     "name": "stdout",
     "output_type": "stream",
     "text": [
      "   MSSubClass  LotFrontage  LotArea  LotShape  LandContour  LandSlope  \\\n",
      "0          60         65.0     8450         4            1          3   \n",
      "1          20         80.0     9600         4            1          3   \n",
      "2          60         68.0    11250         3            1          3   \n",
      "3          70         60.0     9550         3            1          3   \n",
      "4          60         84.0    14260         3            1          3   \n",
      "\n",
      "   OverallQual  OverallCond  YearBuilt  YearRemodAdd  ...  Heating_Grav  \\\n",
      "0            7            5       2003          2003  ...             0   \n",
      "1            6            8       1976          1976  ...             0   \n",
      "2            7            5       2001          2002  ...             0   \n",
      "3            7            5       1915          1970  ...             0   \n",
      "4            8            5       2000          2000  ...             0   \n",
      "\n",
      "   Heating_OthW  Heating_Wall  CentralAir_N  CentralAir_Y  Electrical_FuseA  \\\n",
      "0             0             0             0             1                 0   \n",
      "1             0             0             0             1                 0   \n",
      "2             0             0             0             1                 0   \n",
      "3             0             0             0             1                 0   \n",
      "4             0             0             0             1                 0   \n",
      "\n",
      "   Electrical_FuseF  Electrical_FuseP  Electrical_Mix  Electrical_SBrkr  \n",
      "0                 0                 0               0                 1  \n",
      "1                 0                 0               0                 1  \n",
      "2                 0                 0               0                 1  \n",
      "3                 0                 0               0                 1  \n",
      "4                 0                 0               0                 1  \n",
      "\n",
      "[5 rows x 188 columns]\n"
     ]
    }
   ],
   "source": [
    "# Appliquer One-Hot Encoding \n",
    "df = pd.get_dummies(df, columns=['Electrical'], drop_first=False)\n",
    "\n",
    "# Convertir les valeurs booléennes en entiers (0 et 1)\n",
    "\n",
    "df = df.apply(lambda x: x.astype(int) if x.dtype == 'bool' else x)\n",
    "\n",
    "# Afficher le DataFrame\n",
    "print(df.head())"
   ]
  },
  {
   "cell_type": "code",
   "execution_count": 527,
   "id": "69871029-b06d-4c5f-8ff7-b3f7c5093929",
   "metadata": {},
   "outputs": [],
   "source": [
    "kitchenqual_mapping = {\n",
    "    'Ex': 4,\n",
    "    'Gd': 3,\n",
    "    'TA': 2,\n",
    "    'Fa': 1,\n",
    "    'Po': 0\n",
    "}\n",
    "df['KitchenQual'] = df['KitchenQual'].map(kitchenqual_mapping)"
   ]
  },
  {
   "cell_type": "code",
   "execution_count": 528,
   "id": "c437c9e2-de49-420c-9ac7-6bcc46c79e59",
   "metadata": {},
   "outputs": [],
   "source": [
    "functional_mapping = {\n",
    "    'Typ': 7,\n",
    "    'Min1': 6,\n",
    "    'Min2': 5,\n",
    "    'Mod': 4,\n",
    "    'Maj1': 3,\n",
    "    'Maj2': 2,\n",
    "    'Sev': 1,\n",
    "    'Sal': 0\n",
    "}\n",
    "df['Functional'] = df['Functional'].map(functional_mapping)"
   ]
  },
  {
   "cell_type": "code",
   "execution_count": 529,
   "id": "284978eb-89af-4410-9904-593950c27c42",
   "metadata": {},
   "outputs": [
    {
     "data": {
      "text/plain": [
       "0       3\n",
       "1       2\n",
       "2       2\n",
       "3       3\n",
       "4       2\n",
       "       ..\n",
       "2914    3\n",
       "2915    3\n",
       "2916    2\n",
       "2917    3\n",
       "2918    2\n",
       "Name: FireplaceQu, Length: 2919, dtype: int64"
      ]
     },
     "execution_count": 529,
     "metadata": {},
     "output_type": "execute_result"
    }
   ],
   "source": [
    "# Dictionnaire pour l'encodage ordinal\n",
    "fireplace_quality_map = {\n",
    "    'Ex': 4,  # Excellent\n",
    "    'Gd': 3,   # Good\n",
    "    'TA': 2,   # Average\n",
    "    'Fa': 1,   # Fair\n",
    "    'Po': 0,   # Poor\n",
    "}\n",
    "# Remplacement des valeurs dans la colonne FireplaceQu\n",
    "df['FireplaceQu'] = df['FireplaceQu'].map(fireplace_quality_map)\n",
    "# Affichage pour vérifier\n",
    "df['FireplaceQu']"
   ]
  },
  {
   "cell_type": "code",
   "execution_count": 530,
   "id": "37a287b3-a40a-4d56-bb4d-bdcbe20e32ee",
   "metadata": {},
   "outputs": [
    {
     "name": "stdout",
     "output_type": "stream",
     "text": [
      "   MSSubClass  LotFrontage  LotArea  LotShape  LandContour  LandSlope  \\\n",
      "0          60         65.0     8450         4            1          3   \n",
      "1          20         80.0     9600         4            1          3   \n",
      "2          60         68.0    11250         3            1          3   \n",
      "3          70         60.0     9550         3            1          3   \n",
      "4          60         84.0    14260         3            1          3   \n",
      "\n",
      "   OverallQual  OverallCond  YearBuilt  YearRemodAdd  ...  Electrical_FuseF  \\\n",
      "0            7            5       2003          2003  ...                 0   \n",
      "1            6            8       1976          1976  ...                 0   \n",
      "2            7            5       2001          2002  ...                 0   \n",
      "3            7            5       1915          1970  ...                 0   \n",
      "4            8            5       2000          2000  ...                 0   \n",
      "\n",
      "   Electrical_FuseP  Electrical_Mix  Electrical_SBrkr  GarageType_2Types  \\\n",
      "0                 0               0                 1                  0   \n",
      "1                 0               0                 1                  0   \n",
      "2                 0               0                 1                  0   \n",
      "3                 0               0                 1                  0   \n",
      "4                 0               0                 1                  0   \n",
      "\n",
      "   GarageType_Attchd  GarageType_Basment  GarageType_BuiltIn  \\\n",
      "0                  1                   0                   0   \n",
      "1                  1                   0                   0   \n",
      "2                  1                   0                   0   \n",
      "3                  0                   0                   0   \n",
      "4                  1                   0                   0   \n",
      "\n",
      "   GarageType_CarPort  GarageType_Detchd  \n",
      "0                   0                  0  \n",
      "1                   0                  0  \n",
      "2                   0                  0  \n",
      "3                   0                  1  \n",
      "4                   0                  0  \n",
      "\n",
      "[5 rows x 193 columns]\n"
     ]
    }
   ],
   "source": [
    "# Appliquer One-Hot Encoding \n",
    "df = pd.get_dummies(df, columns=['GarageType'], drop_first=False)\n",
    "\n",
    "# Convertir les valeurs booléennes en entiers (0 et 1)\n",
    "\n",
    "df = df.apply(lambda x: x.astype(int) if x.dtype == 'bool' else x)\n",
    "\n",
    "# Afficher le DataFrame\n",
    "print(df.head())"
   ]
  },
  {
   "cell_type": "code",
   "execution_count": 531,
   "id": "c83847e6-c477-4ba1-95b7-7ad164aadd59",
   "metadata": {},
   "outputs": [
    {
     "data": {
      "text/plain": [
       "0       2.0\n",
       "1       2.0\n",
       "2       2.0\n",
       "3       1.0\n",
       "4       2.0\n",
       "       ... \n",
       "2914    2.0\n",
       "2915    1.0\n",
       "2916    1.0\n",
       "2917    2.0\n",
       "2918    3.0\n",
       "Name: GarageFinish, Length: 2919, dtype: float64"
      ]
     },
     "execution_count": 531,
     "metadata": {},
     "output_type": "execute_result"
    }
   ],
   "source": [
    "garage_finish_map = {\n",
    "    'Fin': 3,   # Average\n",
    "    'RFn': 2,   # Fair\n",
    "    'Unf': 1,    # Poor\n",
    "    'NA' : 0,   # Absence\n",
    "}\n",
    "# Remplacement des valeurs dans la colonne GarageQual\n",
    "df['GarageFinish'] = df['GarageFinish'].map(garage_finish_map)\n",
    "\n",
    "df['GarageFinish'].fillna(df['GarageFinish'].median(), inplace=True)\n",
    "\n",
    "# Affichage pour vérifier\n",
    "df['GarageFinish']"
   ]
  },
  {
   "cell_type": "code",
   "execution_count": 532,
   "id": "339a68ca-80be-45fd-ab58-89d1ec24b07e",
   "metadata": {},
   "outputs": [
    {
     "data": {
      "text/plain": [
       "0       2\n",
       "1       2\n",
       "2       2\n",
       "3       2\n",
       "4       2\n",
       "       ..\n",
       "2914    2\n",
       "2915    2\n",
       "2916    2\n",
       "2917    2\n",
       "2918    2\n",
       "Name: GarageQual, Length: 2919, dtype: int64"
      ]
     },
     "execution_count": 532,
     "metadata": {},
     "output_type": "execute_result"
    }
   ],
   "source": [
    "Garage_quality_quality_map = {\n",
    "    'Ex': 4,  # Excellent\n",
    "    'Gd': 3,   # Good\n",
    "    'TA': 2,   # Average\n",
    "    'Fa': 1,   # Fair\n",
    "    'Po': 0,   # Poor\n",
    "}\n",
    "# Remplacement des valeurs dans la colonne FireplaceQu\n",
    "df['GarageQual'] = df['GarageQual'].map(Garage_quality_quality_map)\n",
    "\n",
    "\n",
    "# Affichage pour vérifier\n",
    "df['GarageQual']"
   ]
  },
  {
   "cell_type": "code",
   "execution_count": 533,
   "id": "a1510e34-0ebb-45ce-a3db-30d5d12f5f34",
   "metadata": {},
   "outputs": [
    {
     "data": {
      "text/plain": [
       "0       3\n",
       "1       3\n",
       "2       3\n",
       "3       3\n",
       "4       3\n",
       "       ..\n",
       "2914    3\n",
       "2915    3\n",
       "2916    3\n",
       "2917    3\n",
       "2918    3\n",
       "Name: GarageCond, Length: 2919, dtype: int64"
      ]
     },
     "execution_count": 533,
     "metadata": {},
     "output_type": "execute_result"
    }
   ],
   "source": [
    "garage_condition_map = {\n",
    "    'Ex': 5,  # Excellent\n",
    "    'Gd': 4,   # Good\n",
    "    'TA': 3,   # Average\n",
    "    'Fa': 2,   # Fair\n",
    "    'Po': 1,    # Poor\n",
    "    'NA' : 0,   # Absence\n",
    "}\n",
    "# Remplacement des valeurs dans la colonne \n",
    "df['GarageCond'] = df['GarageCond'].map(garage_condition_map)\n",
    "\n",
    "\n",
    "\n",
    "# Affichage pour vérifier\n",
    "df['GarageCond']"
   ]
  },
  {
   "cell_type": "code",
   "execution_count": 534,
   "id": "48e9419a-37a3-4c99-bfef-dba635d59b6b",
   "metadata": {},
   "outputs": [
    {
     "name": "stdout",
     "output_type": "stream",
     "text": [
      "   MSSubClass  LotFrontage  LotArea  LotShape  LandContour  LandSlope  \\\n",
      "0          60         65.0     8450         4            1          3   \n",
      "1          20         80.0     9600         4            1          3   \n",
      "2          60         68.0    11250         3            1          3   \n",
      "3          70         60.0     9550         3            1          3   \n",
      "4          60         84.0    14260         3            1          3   \n",
      "\n",
      "   OverallQual  OverallCond  YearBuilt  YearRemodAdd  ...  Electrical_SBrkr  \\\n",
      "0            7            5       2003          2003  ...                 1   \n",
      "1            6            8       1976          1976  ...                 1   \n",
      "2            7            5       2001          2002  ...                 1   \n",
      "3            7            5       1915          1970  ...                 1   \n",
      "4            8            5       2000          2000  ...                 1   \n",
      "\n",
      "   GarageType_2Types  GarageType_Attchd  GarageType_Basment  \\\n",
      "0                  0                  1                   0   \n",
      "1                  0                  1                   0   \n",
      "2                  0                  1                   0   \n",
      "3                  0                  0                   0   \n",
      "4                  0                  1                   0   \n",
      "\n",
      "   GarageType_BuiltIn  GarageType_CarPort  GarageType_Detchd  PavedDrive_N  \\\n",
      "0                   0                   0                  0             0   \n",
      "1                   0                   0                  0             0   \n",
      "2                   0                   0                  0             0   \n",
      "3                   0                   0                  1             0   \n",
      "4                   0                   0                  0             0   \n",
      "\n",
      "   PavedDrive_P  PavedDrive_Y  \n",
      "0             0             1  \n",
      "1             0             1  \n",
      "2             0             1  \n",
      "3             0             1  \n",
      "4             0             1  \n",
      "\n",
      "[5 rows x 195 columns]\n"
     ]
    }
   ],
   "source": [
    "# Appliquer One-Hot Encoding \n",
    "df = pd.get_dummies(df, columns=['PavedDrive'], drop_first=False)\n",
    "\n",
    "# Convertir les valeurs booléennes en entiers (0 et 1)\n",
    "\n",
    "df = df.apply(lambda x: x.astype(int) if x.dtype == 'bool' else x)\n",
    "\n",
    "# Afficher le DataFrame\n",
    "print(df.head())"
   ]
  },
  {
   "cell_type": "code",
   "execution_count": 535,
   "id": "89613d65-d27e-4397-bb98-e8743570e02b",
   "metadata": {},
   "outputs": [
    {
     "name": "stdout",
     "output_type": "stream",
     "text": [
      "   MSSubClass  LotFrontage  LotArea  LotShape  LandContour  LandSlope  \\\n",
      "0          60         65.0     8450         4            1          3   \n",
      "1          20         80.0     9600         4            1          3   \n",
      "2          60         68.0    11250         3            1          3   \n",
      "3          70         60.0     9550         3            1          3   \n",
      "4          60         84.0    14260         3            1          3   \n",
      "\n",
      "   OverallQual  OverallCond  YearBuilt  YearRemodAdd  ...  PavedDrive_Y  \\\n",
      "0            7            5       2003          2003  ...             1   \n",
      "1            6            8       1976          1976  ...             1   \n",
      "2            7            5       2001          2002  ...             1   \n",
      "3            7            5       1915          1970  ...             1   \n",
      "4            8            5       2000          2000  ...             1   \n",
      "\n",
      "   SaleType_COD  SaleType_CWD  SaleType_Con  SaleType_ConLD  SaleType_ConLI  \\\n",
      "0             0             0             0               0               0   \n",
      "1             0             0             0               0               0   \n",
      "2             0             0             0               0               0   \n",
      "3             0             0             0               0               0   \n",
      "4             0             0             0               0               0   \n",
      "\n",
      "   SaleType_ConLw  SaleType_New  SaleType_Oth  SaleType_WD  \n",
      "0               0             0             0            1  \n",
      "1               0             0             0            1  \n",
      "2               0             0             0            1  \n",
      "3               0             0             0            1  \n",
      "4               0             0             0            1  \n",
      "\n",
      "[5 rows x 203 columns]\n"
     ]
    }
   ],
   "source": [
    "# Appliquer One-Hot Encoding \n",
    "df = pd.get_dummies(df, columns=['SaleType'], drop_first=False)\n",
    "\n",
    "# Convertir les valeurs booléennes en entiers (0 et 1)\n",
    "\n",
    "df = df.apply(lambda x: x.astype(int) if x.dtype == 'bool' else x)\n",
    "\n",
    "# Afficher le DataFrame\n",
    "print(df.head())"
   ]
  },
  {
   "cell_type": "code",
   "execution_count": 536,
   "id": "e3d77860-4354-4055-8039-fba250d4c24c",
   "metadata": {},
   "outputs": [
    {
     "name": "stdout",
     "output_type": "stream",
     "text": [
      "   MSSubClass  LotFrontage  LotArea  LotShape  LandContour  LandSlope  \\\n",
      "0          60         65.0     8450         4            1          3   \n",
      "1          20         80.0     9600         4            1          3   \n",
      "2          60         68.0    11250         3            1          3   \n",
      "3          70         60.0     9550         3            1          3   \n",
      "4          60         84.0    14260         3            1          3   \n",
      "\n",
      "   OverallQual  OverallCond  YearBuilt  YearRemodAdd  ...  SaleType_ConLw  \\\n",
      "0            7            5       2003          2003  ...               0   \n",
      "1            6            8       1976          1976  ...               0   \n",
      "2            7            5       2001          2002  ...               0   \n",
      "3            7            5       1915          1970  ...               0   \n",
      "4            8            5       2000          2000  ...               0   \n",
      "\n",
      "   SaleType_New  SaleType_Oth  SaleType_WD  SaleCondition_Abnorml  \\\n",
      "0             0             0            1                      0   \n",
      "1             0             0            1                      0   \n",
      "2             0             0            1                      0   \n",
      "3             0             0            1                      1   \n",
      "4             0             0            1                      0   \n",
      "\n",
      "   SaleCondition_AdjLand  SaleCondition_Alloca  SaleCondition_Family  \\\n",
      "0                      0                     0                     0   \n",
      "1                      0                     0                     0   \n",
      "2                      0                     0                     0   \n",
      "3                      0                     0                     0   \n",
      "4                      0                     0                     0   \n",
      "\n",
      "   SaleCondition_Normal  SaleCondition_Partial  \n",
      "0                     1                      0  \n",
      "1                     1                      0  \n",
      "2                     1                      0  \n",
      "3                     0                      0  \n",
      "4                     1                      0  \n",
      "\n",
      "[5 rows x 208 columns]\n"
     ]
    }
   ],
   "source": [
    "# Appliquer One-Hot Encoding \n",
    "df = pd.get_dummies(df, columns=['SaleCondition'], drop_first=False)\n",
    "\n",
    "# Convertir les valeurs booléennes en entiers (0 et 1)\n",
    "\n",
    "df = df.apply(lambda x: x.astype(int) if x.dtype == 'bool' else x)\n",
    "\n",
    "# Afficher le DataFrame\n",
    "print(df.head())"
   ]
  },
  {
   "cell_type": "code",
   "execution_count": 537,
   "id": "96c31500-a6d4-4ce6-8c11-01d39c7a8b98",
   "metadata": {},
   "outputs": [
    {
     "name": "stdout",
     "output_type": "stream",
     "text": [
      "MSSubClass             0\n",
      "LotFrontage            0\n",
      "RoofMatl_WdShake       0\n",
      "RoofMatl_WdShngl       0\n",
      "Exterior1st_AsbShng    0\n",
      "Exterior1st_AsphShn    0\n",
      "Exterior1st_BrkComm    0\n",
      "Exterior1st_BrkFace    0\n",
      "Exterior1st_CBlock     0\n",
      "Exterior1st_CemntBd    0\n",
      "Exterior1st_HdBoard    0\n",
      "Exterior1st_ImStucc    0\n",
      "Exterior1st_MetalSd    0\n",
      "Exterior1st_Plywood    0\n",
      "Exterior1st_Stone      0\n",
      "Exterior1st_Stucco     0\n",
      "Exterior1st_VinylSd    0\n",
      "Exterior1st_Wd Sdng    0\n",
      "Exterior1st_WdShing    0\n",
      "Exterior2nd_AsbShng    0\n",
      "Exterior2nd_AsphShn    0\n",
      "Exterior2nd_Brk Cmn    0\n",
      "Exterior2nd_BrkFace    0\n",
      "Exterior2nd_CBlock     0\n",
      "Exterior2nd_CmentBd    0\n",
      "RoofMatl_Tar&Grv       0\n",
      "RoofMatl_Roll          0\n",
      "RoofMatl_Metal         0\n",
      "HouseStyle_2.5Unf      0\n",
      "Condition2_RRNn        0\n",
      "dtype: int64\n"
     ]
    }
   ],
   "source": [
    "print(df.isnull().sum().sort_values(ascending=False).head(30))"
   ]
  },
  {
   "cell_type": "code",
   "execution_count": 538,
   "id": "9456e4d8-cf3c-440c-bc7f-da98fdeb84c5",
   "metadata": {},
   "outputs": [
    {
     "name": "stdout",
     "output_type": "stream",
     "text": [
      "Index([], dtype='object')\n",
      "0\n"
     ]
    }
   ],
   "source": [
    "CatData = df.select_dtypes(include=['object', 'category'])\n",
    "print(CatData.columns)\n",
    "print(len(CatData.columns))"
   ]
  },
  {
   "cell_type": "code",
   "execution_count": 539,
   "id": "ec5a48b5-d3b7-4420-92dd-5330dc36bf21",
   "metadata": {},
   "outputs": [
    {
     "data": {
      "image/png": "[encoded data removed]",
      "text/plain": [
       "<Figure size 2000x1000 with 2 Axes>"
      ]
     },
     "metadata": {},
     "output_type": "display_data"
    }
   ],
   "source": [
    "import seaborn as sns\n",
    "import matplotlib.pyplot as plt\n",
    "\n",
    "# Calcul de la matrice de corrélation\n",
    "corr_matrix = df.corr()\n",
    "\n",
    "# Affichage avec une heatmap\n",
    "plt.figure(figsize=(20, 10))\n",
    "sns.heatmap(corr_matrix, annot=True, cmap='coolwarm', fmt=\".2f\", linewidths=0.5)\n",
    "plt.title(\"Matrice de Corrélation\")\n",
    "plt.show()\n",
    "\n"
   ]
  },
  {
   "cell_type": "code",
   "execution_count": 540,
   "id": "a71505ee-9f57-4ace-9c36-9c43f7cdebd8",
   "metadata": {
    "scrolled": true
   },
   "outputs": [
    {
     "name": "stdout",
     "output_type": "stream",
     "text": [
      "Paires de variables fortement corrélées (> 0.8 ou < -0.8) :\n",
      "MSSubClass ↔ BldgType_1Fam : -0.81\n",
      "BsmtFinType2 ↔ BsmtFinSF2 : 0.81\n",
      "TotalBsmtSF ↔ 1stFlrSF : 0.80\n",
      "2ndFlrSF ↔ HouseStyle_2Story : 0.81\n",
      "GrLivArea ↔ TotRmsAbvGrd : 0.81\n",
      "GarageCars ↔ GarageArea : 0.89\n",
      "MSZoning_FV ↔ Neighborhood_Somerst : 0.87\n",
      "MSZoning_RL ↔ MSZoning_RM : -0.80\n",
      "Street_Grvl ↔ Street_Pave : -1.00\n",
      "RoofStyle_Gable ↔ RoofStyle_Hip : -0.94\n",
      "Exterior1st_AsbShng ↔ Exterior2nd_AsbShng : 0.85\n",
      "Exterior1st_CemntBd ↔ Exterior2nd_CmentBd : 0.98\n",
      "Exterior1st_HdBoard ↔ Exterior2nd_HdBoard : 0.89\n",
      "Exterior1st_MetalSd ↔ Exterior2nd_MetalSd : 0.97\n",
      "Exterior1st_VinylSd ↔ Exterior2nd_VinylSd : 0.98\n",
      "Exterior1st_Wd Sdng ↔ Exterior2nd_Wd Sdng : 0.86\n",
      "CentralAir_N ↔ CentralAir_Y : -1.00\n",
      "Electrical_FuseA ↔ Electrical_SBrkr : -0.86\n",
      "GarageType_Attchd ↔ GarageType_Detchd : -0.81\n",
      "PavedDrive_N ↔ PavedDrive_Y : -0.87\n",
      "SaleType_New ↔ SaleCondition_Partial : 0.99\n"
     ]
    }
   ],
   "source": [
    "import pandas as pd\n",
    "\n",
    "# Calculer la matrice de corrélation\n",
    "corr_matrix = df.corr()\n",
    "\n",
    "# Trouver les paires avec une corrélation > 0.8 ou < -0.8\n",
    "high_corr_pairs = []\n",
    "\n",
    "for i in range(len(corr_matrix.columns)):\n",
    "    for j in range(i + 1, len(corr_matrix.columns)):  # Éviter les doublons\n",
    "        if abs(corr_matrix.iloc[i, j]) > 0.8:\n",
    "            high_corr_pairs.append((corr_matrix.index[i], corr_matrix.columns[j], corr_matrix.iloc[i, j]))\n",
    "\n",
    "# Afficher les paires de variables fortement corrélées\n",
    "print(\"Paires de variables fortement corrélées (> 0.8 ou < -0.8) :\")\n",
    "for var1, var2, corr in high_corr_pairs:\n",
    "    print(f\"{var1} ↔ {var2} : {corr:.2f}\")\n"
   ]
  },
  {
   "cell_type": "code",
   "execution_count": 541,
   "id": "f9eb7cea-63de-488c-9a7d-78d438132c03",
   "metadata": {},
   "outputs": [
    {
     "name": "stdout",
     "output_type": "stream",
     "text": [
      "Variables supprimées : {'1stFlrSF', 'MSZoning_RM', 'PavedDrive_Y', 'Exterior2nd_VinylSd', 'BldgType_1Fam', 'Exterior2nd_HdBoard', 'Electrical_SBrkr', 'Exterior2nd_MetalSd', 'TotRmsAbvGrd', 'GarageArea', 'HouseStyle_2Story', 'RoofStyle_Hip', 'Street_Pave', 'RoofMatl_Tar&Grv', 'GarageType_Detchd', 'Exterior2nd_CBlock', 'BsmtFinSF2', 'Neighborhood_Somerst', 'Exterior2nd_Wd Sdng', 'SaleCondition_Partial', 'Exterior2nd_CmentBd', 'CentralAir_Y', 'Exterior2nd_AsbShng'}\n",
      "Nouveau dataframe : (2919, 185)\n"
     ]
    }
   ],
   "source": [
    "\n",
    "import pandas as pd\n",
    "\n",
    "# Liste des paires de variables fortement corrélées (exemple tiré de ton résultat)\n",
    "high_corr_pairs = [\n",
    "    (\"MSSubClass\", \"BldgType_1Fam\"),\n",
    "    (\"BsmtFinType2\", \"BsmtFinSF2\"),\n",
    "    (\"TotalBsmtSF\", \"1stFlrSF\"),\n",
    "    (\"2ndFlrSF\", \"HouseStyle_2Story\"),\n",
    "    (\"GrLivArea\", \"TotRmsAbvGrd\"),\n",
    "    (\"GarageCars\", \"GarageArea\"),\n",
    "    (\"MSZoning_FV\", \"Neighborhood_Somerst\"),\n",
    "    (\"MSZoning_RL\", \"MSZoning_RM\"),\n",
    "    (\"Street_Grvl\", \"Street_Pave\"),\n",
    "    (\"RoofStyle_Flat\", \"RoofMatl_Tar&Grv\"),\n",
    "    (\"RoofStyle_Gable\", \"RoofStyle_Hip\"),\n",
    "    (\"Exterior1st_AsbShng\", \"Exterior2nd_AsbShng\"),\n",
    "    (\"Exterior1st_CBlock\", \"Exterior2nd_CBlock\"),\n",
    "    (\"Exterior1st_CemntBd\", \"Exterior2nd_CmentBd\"),\n",
    "    (\"Exterior1st_HdBoard\", \"Exterior2nd_HdBoard\"),\n",
    "    (\"Exterior1st_MetalSd\", \"Exterior2nd_MetalSd\"),\n",
    "    (\"Exterior1st_VinylSd\", \"Exterior2nd_VinylSd\"),\n",
    "    (\"Exterior1st_Wd Sdng\", \"Exterior2nd_Wd Sdng\"),\n",
    "    (\"CentralAir_N\", \"CentralAir_Y\"),\n",
    "    (\"Electrical_FuseA\", \"Electrical_SBrkr\"),\n",
    "    (\"GarageType_Attchd\", \"GarageType_Detchd\"),\n",
    "    (\"PavedDrive_N\", \"PavedDrive_Y\"),\n",
    "    (\"SaleType_New\", \"SaleCondition_Partial\")\n",
    "]\n",
    "\n",
    "# Supprimer la deuxième variable de chaque paire\n",
    "variables_to_drop = {var2 for var1, var2 in high_corr_pairs}  # Prend uniquement la 2e variable de chaque paire\n",
    "\n",
    "df = df.drop(columns=variables_to_drop, errors=\"ignore\")\n",
    "\n",
    "# Afficher les variables supprimées\n",
    "print(\"Variables supprimées :\", variables_to_drop)\n",
    "print(\"Nouveau dataframe :\", df.shape)\n"
   ]
  },
  {
   "cell_type": "code",
   "execution_count": 542,
   "id": "f758be58-2b7c-47d3-9e39-6efddff6c95a",
   "metadata": {},
   "outputs": [],
   "source": [
    "# Séparer à nouveau train et test après prétraitement\n",
    "train_processed = df[:len(train)]  # Prendre les premières lignes correspondant à train\n",
    "test_processed = df[len(train):]   # Prendre les lignes suivantes correspondant à test\n",
    "\n",
    "\n",
    "\n"
   ]
  },
  {
   "cell_type": "code",
   "execution_count": null,
   "id": "a39747d4-f1b8-426f-971b-abf1c3993f44",
   "metadata": {},
   "outputs": [
    {
     "name": "stdout",
     "output_type": "stream",
     "text": [
      "MSE (XGBoost): 562763273.1326143\n",
      "RMSE (XGBoost): 23722.6320869463\n",
      "R² (XGBoost): 0.9266311160788308\n"
     ]
    }
   ],
   "source": [
    "import pandas as pd\n",
    "import xgboost as xgb\n",
    "from sklearn.model_selection import train_test_split\n",
    "from sklearn.metrics import mean_squared_error, r2_score\n",
    "\n",
    "\n",
    "X = train_processed  # Features pour l'entraînement\n",
    "y = sale_price  # Cible (SalePrice) pour l'entraînement\n",
    "\n",
    "# Séparer les données en ensembles d'entraînement et de test (80% - 20%)\n",
    "X_train, X_test, y_train, y_test = train_test_split(X, y, test_size=0.2, random_state=42)\n",
    "\n",
    "# Initialisation du modèle XGBoost\n",
    "model = xgb.XGBRegressor(\n",
    "    objective=\"reg:squarederror\",  # Pour une tâche de régression\n",
    "    n_estimators=2000,  # Nombre d'arbres\n",
    "    learning_rate=0.05,  # Taux d'apprentissage\n",
    "    max_depth=6,  # Profondeur maximale de chaque arbre\n",
    "    subsample=0.8,  # Fraction des données utilisées pour chaque arbre\n",
    "    colsample_bytree=0.8,  # Fraction des caractéristiques utilisées pour chaque arbre\n",
    "    random_state=42\n",
    ")\n",
    "\n",
    "# Entraîner le modèle\n",
    "model.fit(X_train, y_train)\n",
    "\n",
    "# Prédictions sur l'ensemble de test\n",
    "y_pred = model.predict(X_test)\n",
    "\n",
    "# Évaluation du modèle\n",
    "mse = mean_squared_error(y_test, y_pred)\n",
    "rmse = mean_squared_error(y_test, y_pred, squared=False)  # racine de l'erreur quadratique moyenne\n",
    "r2 = r2_score(y_test, y_pred)\n",
    "\n",
    "# Affichage des résultats\n",
    "print(f\"MSE (XGBoost): {mse}\")\n",
    "print(f\"RMSE (XGBoost): {rmse}\")\n",
    "print(f\"R² (XGBoost): {r2}\")\n",
    "\n",
    "\n"
   ]
  },
  {
   "cell_type": "code",
   "execution_count": 548,
   "id": "5f76a61d-abf3-4d54-9db6-f61d83bde4b4",
   "metadata": {},
   "outputs": [],
   "source": [
    "# Prédiction sur le dataset de test (fichier test.csv de Kaggle)\n",
    "y_pred_test = model.predict(test_processed)\n",
    "\n",
    "# Préparer la soumission\n",
    "submission = pd.DataFrame({\n",
    "    'Id': test_ids,\n",
    "    'SalePrice': y_pred_test\n",
    "})\n",
    "submission.to_csv('submission4.csv', index=False)"
   ]
  },
  {
   "cell_type": "code",
   "execution_count": null,
   "id": "e21e134a-2c42-4ccc-9da8-7a7e61e79594",
   "metadata": {},
   "outputs": [],
   "source": []
  }
 ],
 "metadata": {
  "kernelspec": {
   "display_name": "Python 3 (ipykernel)",
   "language": "python",
   "name": "python3"
  },
  "language_info": {
   "codemirror_mode": {
    "name": "ipython",
    "version": 3
   },
   "file_extension": ".py",
   "mimetype": "text/x-python",
   "name": "python",
   "nbconvert_exporter": "python",
   "pygments_lexer": "ipython3",
   "version": "3.11.7"
  }
 },
 "nbformat": 4,
 "nbformat_minor": 5
}
