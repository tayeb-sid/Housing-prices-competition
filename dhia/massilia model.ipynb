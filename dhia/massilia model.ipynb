{
 "cells": [
  {
   "cell_type": "code",
   "execution_count": 1,
   "metadata": {},
   "outputs": [
    {
     "name": "stdout",
     "output_type": "stream",
     "text": [
      "MSE (XGBoost): 3128182272.0\n",
      "RMSE (XGBoost): 55930.155301053834\n",
      "R² (XGBoost): 0.33708614110946655\n"
     ]
    }
   ],
   "source": [
    "import pandas as pd\n",
    "import xgboost as xgb\n",
    "from sklearn.model_selection import train_test_split\n",
    "from sklearn.metrics import mean_squared_error, r2_score\n",
    "\n",
    "train = pd.read_csv(\"train_simp_fixedOrdinal_FE_newScaleCorr.csv\")\n",
    "test = pd.read_csv(\"test_simp_fixedOrdinal_FE_newScaleCorr.csv\")\n",
    "\n",
    "y = train[\"SalePrice\"] \n",
    "train = train.drop(columns=[\"SalePrice\"])\n",
    "X = train  # Features pour l'entraînement\n",
    "\n",
    "\n",
    "# Séparer les données en ensembles d'entraînement et de test (80% - 20%)\n",
    "X_train, X_test, y_train, y_test = train_test_split(X, y, test_size=0.2, random_state=42)\n",
    "\n",
    "# Initialisation du modèle XGBoost\n",
    "model = xgb.XGBRegressor(\n",
    "    objective=\"reg:squarederror\",  # Pour une tâche de régression\n",
    "    n_estimators=2000,  # Nombre d'arbres\n",
    "    learning_rate=0.05,  # Taux d'apprentissage\n",
    "    max_depth=6,  # Profondeur maximale de chaque arbre\n",
    "    subsample=0.8,  # Fraction des données utilisées pour chaque arbre\n",
    "    colsample_bytree=0.8,  # Fraction des caractéristiques utilisées pour chaque arbre\n",
    "    random_state=42\n",
    ")\n",
    "\n",
    "# Entraîner le modèle\n",
    "model.fit(X_train, y_train)\n",
    "\n",
    "# Prédictions sur l'ensemble de test\n",
    "y_pred = model.predict(X_test)\n",
    "\n",
    "# Évaluation du modèle\n",
    "mse = mean_squared_error(y_test, y_pred)\n",
    "# rmse = mean_squared_error(y_test, y_pred, squared=False)  # racine de l'erreur quadratique moyenne\n",
    "rmse = mse ** 0.5\n",
    "r2 = r2_score(y_test, y_pred)\n",
    "\n",
    "# Affichage des résultats\n",
    "print(f\"MSE (XGBoost): {mse}\")\n",
    "print(f\"RMSE (XGBoost): {rmse}\")\n",
    "print(f\"R² (XGBoost): {r2}\")\n"
   ]
  },
  {
   "cell_type": "code",
   "execution_count": 2,
   "metadata": {},
   "outputs": [],
   "source": [
    "# Prédiction sur le dataset de test (fichier test.csv de Kaggle)\n",
    "y_pred_test = model.predict(test)\n",
    "\n",
    "# Préparer la soumission\n",
    "submission = pd.DataFrame({\n",
    "    'Id': test['Id'],\n",
    "    'SalePrice': y_pred_test\n",
    "})\n",
    "submission.to_csv('submission_noscale_FE_newScaleCorr.csv', index=False)"
   ]
  }
 ],
 "metadata": {
  "kernelspec": {
   "display_name": "Python 3",
   "language": "python",
   "name": "python3"
  },
  "language_info": {
   "codemirror_mode": {
    "name": "ipython",
    "version": 3
   },
   "file_extension": ".py",
   "mimetype": "text/x-python",
   "name": "python",
   "nbconvert_exporter": "python",
   "pygments_lexer": "ipython3",
   "version": "3.11.4"
  }
 },
 "nbformat": 4,
 "nbformat_minor": 2
}
