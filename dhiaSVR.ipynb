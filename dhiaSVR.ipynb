{
 "cells": [
  {
   "cell_type": "code",
   "execution_count": 9,
   "metadata": {},
   "outputs": [],
   "source": [
    "from sklearn.svm import SVR\n",
    "from sklearn.model_selection import GridSearchCV, cross_val_score\n",
    "from sklearn.metrics import r2_score, mean_absolute_error, mean_squared_error\n",
    "import pandas as pd"
   ]
  },
  {
   "cell_type": "code",
   "execution_count": 10,
   "metadata": {},
   "outputs": [
    {
     "name": "stdout",
     "output_type": "stream",
     "text": [
      "Best Parameters Found: {'C': 10, 'epsilon': 0.1, 'kernel': 'linear'}\n",
      "Cross-Validation R² Score: 0.5912\n",
      "\n",
      "Model Performance on Training Set:\n",
      "Training R² Score: 0.6394\n",
      "Training MAE: 26544.85\n",
      "Training RMSE: 47717.63\n",
      "\n",
      "Model Performance on Test Set:\n",
      "Test R² Score: -4.0810\n",
      "Test MAE: 31204.53\n",
      "Test RMSE: 37221.11\n",
      "\n",
      "Generalization Gap: 4.7204 (Difference between Train & Test R²)\n",
      "Predictions saved to svr_simplified.csv\n"
     ]
    },
    {
     "name": "stderr",
     "output_type": "stream",
     "text": [
      "c:\\Users\\dhiaa\\AppData\\Local\\Programs\\Python\\Python311\\Lib\\site-packages\\sklearn\\metrics\\_regression.py:483: FutureWarning: 'squared' is deprecated in version 1.4 and will be removed in 1.6. To calculate the root mean squared error, use the function'root_mean_squared_error'.\n",
      "  warnings.warn(\n",
      "c:\\Users\\dhiaa\\AppData\\Local\\Programs\\Python\\Python311\\Lib\\site-packages\\sklearn\\metrics\\_regression.py:483: FutureWarning: 'squared' is deprecated in version 1.4 and will be removed in 1.6. To calculate the root mean squared error, use the function'root_mean_squared_error'.\n",
      "  warnings.warn(\n"
     ]
    }
   ],
   "source": [
    "# Load the Datasets\n",
    "train = pd.read_csv(\"train_simp.csv\")\n",
    "test = pd.read_csv(\"test_simp.csv\")\n",
    "sample_submission = pd.read_csv(\"home-data-for-ml-course/sample_submission.csv\")\n",
    "\n",
    "# Define Features (X) and Target (y)\n",
    "y_train = train[\"SalePrice\"]  # Target variable\n",
    "X_train = train.drop(columns=[\"SalePrice\"])  # Remove target from train data\n",
    "X_test = test.copy()  # Keep test dataset separate\n",
    "y_test = sample_submission[\"SalePrice\"]  # Ground Truth for Test Set\n",
    "\n",
    "# Hyperparameter Grid for SVM\n",
    "param_grid = {\n",
    "    \"C\": [0.1, 1, 10],\n",
    "    \"epsilon\": [0.01, 0.05, 0.1],  # Fine-tune epsilon\n",
    "    \"kernel\": [\"linear\", \"rbf\", \"poly\"]\n",
    "}\n",
    "\n",
    "# Perform Grid Search with Cross-Validation\n",
    "grid_search = GridSearchCV(\n",
    "    SVR(),\n",
    "    param_grid,\n",
    "    cv=5,  # 5-fold cross-validation\n",
    "    scoring=\"r2\",\n",
    "    n_jobs=-1\n",
    ")\n",
    "grid_search.fit(X_train, y_train)\n",
    "\n",
    "# Get best hyperparameters\n",
    "best_params = grid_search.best_params_\n",
    "print(\"Best Parameters Found:\", best_params)\n",
    "\n",
    "# Train Model with Best Parameters\n",
    "best_svm_model = SVR(\n",
    "    C=best_params[\"C\"],\n",
    "    epsilon=best_params[\"epsilon\"],\n",
    "    kernel=best_params[\"kernel\"]\n",
    ")\n",
    "best_svm_model.fit(X_train, y_train)\n",
    "\n",
    "# Cross-Validation Score\n",
    "cv_r2 = cross_val_score(best_svm_model, X_train, y_train, cv=5, scoring=\"r2\").mean()\n",
    "print(f\"Cross-Validation R² Score: {cv_r2:.4f}\")\n",
    "\n",
    "# Evaluate Model on Training Data\n",
    "y_train_pred = best_svm_model.predict(X_train)\n",
    "train_r2 = r2_score(y_train, y_train_pred)\n",
    "train_mae = mean_absolute_error(y_train, y_train_pred)\n",
    "train_rmse = mean_squared_error(y_train, y_train_pred, squared=False)\n",
    "\n",
    "print(\"\\nModel Performance on Training Set:\")\n",
    "print(f\"Training R² Score: {train_r2:.4f}\")\n",
    "print(f\"Training MAE: {train_mae:.2f}\")\n",
    "print(f\"Training RMSE: {train_rmse:.2f}\")\n",
    "\n",
    "# Evaluate Model on Test Set\n",
    "y_test_pred = best_svm_model.predict(X_test)\n",
    "test_r2 = r2_score(y_test, y_test_pred)\n",
    "test_mae = mean_absolute_error(y_test, y_test_pred)\n",
    "test_rmse = mean_squared_error(y_test, y_test_pred, squared=False)\n",
    "\n",
    "print(\"\\nModel Performance on Test Set:\")\n",
    "print(f\"Test R² Score: {test_r2:.4f}\")\n",
    "print(f\"Test MAE: {test_mae:.2f}\")\n",
    "print(f\"Test RMSE: {test_rmse:.2f}\")\n",
    "\n",
    "# Generalization Gap Check\n",
    "gap = abs(train_r2 - test_r2)\n",
    "print(f\"\\nGeneralization Gap: {gap:.4f} (Difference between Train & Test R²)\")\n",
    "\n",
    "# Save Predictions\n",
    "submission = pd.DataFrame({\"Id\": sample_submission[\"Id\"], \"SalePrice\": y_test_pred})\n",
    "submission.to_csv(\"svr_simplified.csv\", index=False)\n",
    "print(\"Predictions saved to svr_simplified.csv\")"
   ]
  }
 ],
 "metadata": {
  "kernelspec": {
   "display_name": "Python 3",
   "language": "python",
   "name": "python3"
  },
  "language_info": {
   "codemirror_mode": {
    "name": "ipython",
    "version": 3
   },
   "file_extension": ".py",
   "mimetype": "text/x-python",
   "name": "python",
   "nbconvert_exporter": "python",
   "pygments_lexer": "ipython3",
   "version": "3.11.4"
  }
 },
 "nbformat": 4,
 "nbformat_minor": 2
}
