{
 "cells": [
  {
   "cell_type": "markdown",
   "metadata": {},
   "source": [
    "#### Step 1. Data Preprocessing & Cleaning\n",
    "✔ Load the dataset\\\n",
    "✔ Identify and handle missing values (true missing vs. \"NA\" meaning absence)\\\n",
    "✔ Convert incorrect data types (e.g., numeric features stored as objects)\\\n",
    "✔ Handle outliers and anomalies"
   ]
  },
  {
   "cell_type": "code",
   "execution_count": 122,
   "metadata": {},
   "outputs": [],
   "source": [
    "import pandas as pd\n",
    "import numpy as np\n",
    "import matplotlib.pyplot as plt\n",
    "import seaborn as sns\n",
    "from sklearn.feature_selection import mutual_info_regression, mutual_info_classif\n",
    "from sklearn.preprocessing import PowerTransformer\n",
    "from sklearn.preprocessing import OrdinalEncoder\n",
    "from sklearn.preprocessing import StandardScaler\n",
    "from sklearn.preprocessing import OneHotEncoder\n",
    "from sklearn.decomposition import PCA\n"
   ]
  },
  {
   "cell_type": "code",
   "execution_count": 123,
   "metadata": {},
   "outputs": [],
   "source": [
    "train = pd.read_csv(\"home-data-for-ml-course\\\\train.csv\")\n",
    "test = pd.read_csv(\"home-data-for-ml-course\\\\test.csv\")\n",
    "train.columns = train.columns.str.strip()\n",
    "test.columns = test.columns.str.strip()"
   ]
  },
  {
   "cell_type": "markdown",
   "metadata": {},
   "source": [
    "### Categories"
   ]
  },
  {
   "cell_type": "code",
   "execution_count": 124,
   "metadata": {},
   "outputs": [],
   "source": [
    "#save the id\n",
    "train_ID = train[\"Id\"]\n",
    "test_ID  = test[\"Id\"]\n",
    "y = train.SalePrice\n",
    "\n",
    "#drop ID\n",
    "train.drop(\"Id\", axis = 1, inplace = True)\n",
    "test.drop(\"Id\", axis = 1, inplace = True)\n",
    "\n",
    "test[[\"LotFrontage\", \"MasVnrArea\",\"BsmtFinSF1\",\"BsmtFinSF2\",\"BsmtUnfSF\",\"TotalBsmtSF\",\"BsmtFullBath\",\"GarageCars\",\"BsmtHalfBath\",\"GarageYrBlt\"]] = test[[\"LotFrontage\", \"MasVnrArea\",\"BsmtFinSF1\",\"BsmtFinSF2\",\"BsmtUnfSF\",\"TotalBsmtSF\",\"BsmtFullBath\",\"GarageCars\",\"BsmtHalfBath\",\"GarageYrBlt\"]].apply(pd.to_numeric, errors=\"coerce\")\n",
    "train[[\"LotFrontage\", \"MasVnrArea\",\"BsmtFinSF1\",\"BsmtFinSF2\",\"BsmtUnfSF\",\"TotalBsmtSF\",\"BsmtFullBath\",\"GarageCars\",\"BsmtHalfBath\",\"GarageYrBlt\"]] = train[[\"LotFrontage\", \"MasVnrArea\",\"BsmtFinSF1\",\"BsmtFinSF2\",\"BsmtUnfSF\",\"TotalBsmtSF\",\"BsmtFullBath\",\"GarageCars\",\"BsmtHalfBath\",\"GarageYrBlt\"]].apply(pd.to_numeric, errors=\"coerce\")\n",
    "\n",
    "#group features for preprocessing purpose.\n",
    "train_categorical = [feature for feature in train.columns if train[feature].dtype == \"object\"] \n",
    "test_categorical = [feature for feature in test.columns if test[feature].dtype == \"object\"] \n",
    "\n",
    "train_nominal = [\"MSZoning\", \"Street\", \"Alley\", \"LandContour\", \"LotConfig\", \"Neighborhood\", \"Condition1\", \"Condition2\", \n",
    "                    \"BldgType\", \"HouseStyle\", \"RoofStyle\", \"RoofMatl\", \"Exterior1st\", \"Exterior2nd\", \"MasVnrType\", \"Foundation\", \"Heating\",\n",
    "                    \"CentralAir\", 'Electrical',\"GarageType\", \"MiscFeature\", \"SaleType\", \"SaleCondition\"]\n",
    "test_nominal = [\"MSZoning\", \"Street\", \"Alley\", \"LandContour\", \"LotConfig\", \"Neighborhood\", \"Condition1\", \"Condition2\", \n",
    "                    \"BldgType\", \"HouseStyle\", \"RoofStyle\", \"RoofMatl\", \"Exterior1st\", \"Exterior2nd\", \"MasVnrType\", \"Foundation\", \"Heating\",\n",
    "                    \"CentralAir\", 'Electrical',\"GarageType\", \"MiscFeature\", \"SaleType\", \"SaleCondition\"]\n",
    "\n",
    "train_ordinal = [ 'LotShape','Utilities','LandSlope','ExterQual','ExterCond','BsmtQual','BsmtCond','BsmtExposure','BsmtFinType1',\n",
    "                    'BsmtFinType2','HeatingQC','KitchenQual','Functional','FireplaceQu','GarageFinish','GarageQual',\n",
    "                    'GarageCond','PavedDrive','PoolQC','Fence']\n",
    "test_ordinal = [ 'LotShape','Utilities','LandSlope','ExterQual','ExterCond','BsmtQual','BsmtCond','BsmtExposure','BsmtFinType1',\n",
    "                    'BsmtFinType2','HeatingQC','KitchenQual','Functional','FireplaceQu','GarageFinish','GarageQual',\n",
    "                    'GarageCond','PavedDrive','PoolQC','Fence']\n",
    "\n",
    "train_numerical = [feature for feature in train.columns if feature not in train_categorical + ['SalePrice']]\n",
    "test_numerical = [feature for feature in test.columns if feature not in test_categorical]\n",
    "\n",
    "discrete_numerical_train = [ 'OverallQual','OverallCond','BsmtFullBath','BsmtHalfBath','FullBath','HalfBath','BedroomAbvGr','KitchenAbvGr','TotRmsAbvGrd','Fireplaces','GarageCars','MoSold', \"MSSubClass\"] \n",
    "discrete_numerical_test = [ 'OverallQual','OverallCond','BsmtFullBath','BsmtHalfBath','FullBath','HalfBath','BedroomAbvGr','KitchenAbvGr','TotRmsAbvGrd','Fireplaces','GarageCars','MoSold', \"MSSubClass\"] \n",
    "\n",
    "continuous_numerical_train = ['LotFrontage','LotArea','YearBuilt','YearRemodAdd','MasVnrArea','BsmtFinSF1','BsmtFinSF2',\n",
    "                                  'BsmtUnfSF','TotalBsmtSF','1stFlrSF','2ndFlrSF','LowQualFinSF','GrLivArea','GarageYrBlt',\n",
    "                                  'GarageArea','WoodDeckSF','OpenPorchSF','EnclosedPorch','3SsnPorch','ScreenPorch','PoolArea',\n",
    "                                  'MiscVal','YrSold']\n",
    "\n",
    "continuous_numerical_test = ['LotFrontage','LotArea','YearBuilt','YearRemodAdd','MasVnrArea','BsmtFinSF1','BsmtFinSF2',\n",
    "                                  'BsmtUnfSF','TotalBsmtSF','1stFlrSF','2ndFlrSF','LowQualFinSF','GrLivArea','GarageYrBlt',\n",
    "                                  'GarageArea','WoodDeckSF','OpenPorchSF','EnclosedPorch','3SsnPorch','ScreenPorch','PoolArea',\n",
    "                                  'MiscVal','YrSold']"
   ]
  },
  {
   "cell_type": "markdown",
   "metadata": {},
   "source": [
    "### KNN Imputer"
   ]
  },
  {
   "cell_type": "code",
   "execution_count": 125,
   "metadata": {},
   "outputs": [],
   "source": [
    "# from sklearn.impute import KNNImputer\n",
    "\n",
    "# # Initialize KNN Imputer (default K=5)\n",
    "# knn_imputer = KNNImputer(n_neighbors=5)\n",
    "\n",
    "# # Apply to numerical features\n",
    "# train[train_numerical] = knn_imputer.fit_transform(train[train_numerical])\n",
    "# test[test_numerical] = knn_imputer.transform(test[test_numerical])\n",
    "\n",
    "# print(\"✅ KNN Imputation applied successfully!\")"
   ]
  },
  {
   "cell_type": "markdown",
   "metadata": {},
   "source": [
    "### ML Imputer"
   ]
  },
  {
   "cell_type": "code",
   "execution_count": 126,
   "metadata": {},
   "outputs": [
    {
     "name": "stdout",
     "output_type": "stream",
     "text": [
      "✅ Iterative Imputation applied successfully!\n"
     ]
    }
   ],
   "source": [
    "from sklearn.experimental import enable_iterative_imputer\n",
    "from sklearn.impute import IterativeImputer\n",
    "\n",
    "iter_imputer = IterativeImputer(max_iter=10, random_state=42)  # Uses ML to predict missing values\n",
    "\n",
    "train[train_numerical] = iter_imputer.fit_transform(train[train_numerical])\n",
    "test[test_numerical] = iter_imputer.transform(test[test_numerical])\n",
    "\n",
    "print(\"✅ Iterative Imputation applied successfully!\")\n"
   ]
  },
  {
   "cell_type": "markdown",
   "metadata": {},
   "source": [
    "### Constant Value Imputation"
   ]
  },
  {
   "cell_type": "code",
   "execution_count": 127,
   "metadata": {},
   "outputs": [],
   "source": [
    "# # Fill Numerical Features with 0\n",
    "# train[train_numerical] = train[train_numerical].fillna(0)\n",
    "# test[test_numerical] = test[test_numerical].fillna(0)\n",
    "\n",
    "# # Fill Categorical Features with \"Do_not_have_this_feature\"\n",
    "# train[train_categorical] = train[train_categorical].fillna(\"Do_not_have_this_feature\")\n",
    "# test[test_categorical] = test[test_categorical].fillna(\"Do_not_have_this_feature\")\n",
    "\n",
    "# print(\"✅ Constant Value Imputation applied successfully!\")\n"
   ]
  },
  {
   "cell_type": "markdown",
   "metadata": {},
   "source": [
    "### Step 2.Exploratory Data Analysis (EDA)\n",
    "✔ Visualize target variable (SalePrice)\\\n",
    "Identify correlations between features and SalePrice\\\n",
    "Analyze categorical vs. numerical features\\\n",
    "Detect and handle outliers"
   ]
  },
  {
   "cell_type": "markdown",
   "metadata": {},
   "source": [
    "### Outliers"
   ]
  },
  {
   "cell_type": "code",
   "execution_count": 128,
   "metadata": {},
   "outputs": [],
   "source": [
    "# Remove outliers based on observations on scatter plots against SalePrice:\n",
    "train = train.drop(train['LotFrontage']\n",
    "                                     [train['LotFrontage']>200].index)\n",
    "train = train.drop(train['LotArea']\n",
    "                                     [train['LotArea']>100000].index)\n",
    "train = train.drop(train['BsmtFinSF1']\n",
    "                                     [train['BsmtFinSF1']>4000].index)\n",
    "train = train.drop(train['TotalBsmtSF']\n",
    "                                     [train['TotalBsmtSF']>6000].index)\n",
    "train = train.drop(train['1stFlrSF']\n",
    "                                     [train['1stFlrSF']>4000].index)\n",
    "train = train.drop(train.GrLivArea\n",
    "                                     [(train['GrLivArea']>4000) & \n",
    "                                      (y<300000)].index)\n",
    "train = train.drop(train.LowQualFinSF\n",
    "                                     [train['LowQualFinSF']>550].index)"
   ]
  },
  {
   "cell_type": "markdown",
   "metadata": {},
   "source": [
    "#### Numerical Features **MI**\n",
    " **No MI Features** : *3SsnPorch MoSol* \\\n",
    " **Very Low MI Features** : *MiscVal PoolArea* \\\n",
    " **Very High MI Features** : *OverallQual GrLivArea TotalBsmtSF\tGarageCars  GarageArea\tYearBuilt  1stFlrSF\t MSSubClass\tFullBath GarageYrBlt*"
   ]
  },
  {
   "cell_type": "code",
   "execution_count": 129,
   "metadata": {},
   "outputs": [],
   "source": [
    "# y = train.SalePrice\n",
    "# train_numerical = train.select_dtypes(include=[\"int64\", \"float64\"]).columns.drop(\"SalePrice\", errors=\"ignore\")\n",
    "# mutual_df = train[train_numerical]\n",
    "# mutual_infoN = mutual_info_regression(mutual_df.fillna(0), y, random_state=1)\n",
    "# mutual_infoN = pd.Series(mutual_infoN)\n",
    "# mutual_infoN.index = mutual_df.columns"
   ]
  },
  {
   "cell_type": "markdown",
   "metadata": {},
   "source": [
    "#### Categorical Features **MI**\n",
    " **No MI Features** : *RoofMatl Utilities Street PoolQC* \\\n",
    " **Very Low MI** : *Functional LandSlope\tCondition2\tMiscFeature* \\\n",
    " **Very High MI Features** : *Neighborhood ExterQual BsmtQual KitchenQual GarageFinish*"
   ]
  },
  {
   "cell_type": "code",
   "execution_count": 130,
   "metadata": {},
   "outputs": [],
   "source": [
    "# mutual_df_categorical = train[train_categorical].copy()\n",
    "# #categorical features must be encoded to get mutual information\n",
    "# for colname in mutual_df_categorical:\n",
    "#     mutual_df_categorical[colname], _ = mutual_df_categorical[colname].factorize()\n",
    "# mutual_infoC = mutual_info_regression(mutual_df_categorical.fillna(\"Do_not_have_feature\"), y, random_state=1)\n",
    "\n",
    "# mutual_infoC = pd.Series(mutual_infoC)\n",
    "# mutual_infoC.index = mutual_df_categorical.columns"
   ]
  },
  {
   "cell_type": "markdown",
   "metadata": {},
   "source": [
    "### Dropping Corr and MI features"
   ]
  },
  {
   "cell_type": "code",
   "execution_count": 131,
   "metadata": {},
   "outputs": [],
   "source": [
    "# #define threshold using\n",
    "# mi_thresholdN = 0.01  # Drop bottom 0.01 MI features\n",
    "\n",
    "# # identify low MI features\n",
    "# low_mi_featuresN = mutual_infoN[mutual_infoN < mi_thresholdN].index.tolist()\n",
    "\n",
    "# # drop them from the dataset\n",
    "# train.drop(columns=low_mi_featuresN, inplace=True)\n",
    "# test.drop(columns=low_mi_featuresN, inplace=True)\n",
    "\n",
    "\n",
    "\n",
    "# print(f\"Dropped {len(low_mi_featuresN)} numerical features with MI < {mi_thresholdN:.4f}\")\n",
    "# print(f\"Remaining TRAIN features: {train.shape[1]}\")"
   ]
  },
  {
   "cell_type": "code",
   "execution_count": 132,
   "metadata": {},
   "outputs": [],
   "source": [
    "# print(f\"Dropped {len(low_mi_featuresN)} numerical features with MI < {mi_thresholdN:.4f}\")\n",
    "# print(f\"Remaining TEST features: {test.shape[1]}\")"
   ]
  },
  {
   "cell_type": "code",
   "execution_count": 133,
   "metadata": {},
   "outputs": [],
   "source": [
    "# #define threshold\n",
    "# mi_thresholdC = 0.01\n",
    "\n",
    "# # identify low MI features\n",
    "# low_mi_featuresC = mutual_infoC[mutual_infoC < mi_thresholdC].index.tolist()\n",
    "\n",
    "# # drop them from the dataset\n",
    "# train.drop(columns=low_mi_featuresC, inplace=True)\n",
    "# test.drop(columns=low_mi_featuresC, inplace=True)\n",
    "\n",
    "# print(f\"Dropped {len(low_mi_featuresC)} numerical features with MI < {mi_thresholdC:.4f}\")\n",
    "# print(f\"Remaining TRAIN features: {train.shape[1]}\")"
   ]
  },
  {
   "cell_type": "code",
   "execution_count": 134,
   "metadata": {},
   "outputs": [],
   "source": [
    "# print(f\"Dropped {len(low_mi_featuresC)} numerical features with MI < {mi_thresholdC:.4f}\")\n",
    "# print(f\"Remaining TEST features: {test.shape[1]}\")"
   ]
  },
  {
   "cell_type": "code",
   "execution_count": 135,
   "metadata": {},
   "outputs": [],
   "source": [
    "# features_to_drop = [\"GarageArea\", \"TotRmsAbvGrd\", \"1stFlrSF\", \"GarageYrBlt\", \"HeatingQC\"]\n",
    "# train.drop(columns=features_to_drop, inplace=True)\n",
    "\n",
    "# print(f\"Dropped {len(features_to_drop)} highly correlated features from TRAIN: {features_to_drop}\")\n",
    "# train.shape"
   ]
  },
  {
   "cell_type": "code",
   "execution_count": 136,
   "metadata": {},
   "outputs": [],
   "source": [
    "# test.drop(columns=features_to_drop, inplace=True)\n",
    "\n",
    "# print(f\"Dropped {len(features_to_drop)} highly correlated features from TEST: {features_to_drop}\")\n",
    "# test.shape"
   ]
  },
  {
   "cell_type": "markdown",
   "metadata": {},
   "source": [
    "### Feature Update"
   ]
  },
  {
   "cell_type": "code",
   "execution_count": 137,
   "metadata": {},
   "outputs": [],
   "source": [
    "train_categorical = [feature for feature in train.columns if\n",
    "                    train[feature].dtype == \"object\"]\n",
    "\n",
    "train_ordinal = [ 'LotShape','Utilities','LandSlope','ExterQual','ExterCond','BsmtQual','BsmtCond','BsmtExposure','BsmtFinType1',\n",
    "                    'BsmtFinType2','HeatingQC','KitchenQual','Functional','FireplaceQu','GarageFinish','GarageQual',\n",
    "                    'GarageCond','PavedDrive','PoolQC','Fence']\n",
    "\n",
    "train_nominal = list(set(train_categorical) - set(train_ordinal)) \n",
    "train_numerical = list(set(train.columns) - set(train_categorical)) \n",
    "\n",
    "test_categorical = [feature for feature in test.columns if\n",
    "                    test[feature].dtype == \"object\"]\n",
    "\n",
    "test_ordinal = [ 'LotShape','Utilities','LandSlope','ExterQual','ExterCond','BsmtQual','BsmtCond','BsmtExposure','BsmtFinType1',\n",
    "                    'BsmtFinType2','HeatingQC','KitchenQual','Functional','FireplaceQu','GarageFinish','GarageQual',\n",
    "                    'GarageCond','PavedDrive','PoolQC','Fence']\n",
    "\n",
    "test_nominal = list(set(test_categorical) - set(test_ordinal)) \n",
    "test_numerical = list(set(test.columns) - set(test_categorical)) \n"
   ]
  },
  {
   "cell_type": "markdown",
   "metadata": {},
   "source": [
    "### Ordinal Encoding"
   ]
  },
  {
   "cell_type": "code",
   "execution_count": 138,
   "metadata": {},
   "outputs": [],
   "source": [
    "# Define column mappings\n",
    "GarageQual_map = {'Ex': 5, 'Gd': 4, 'TA': 3, 'Fa': 2, 'Po': 1, 'NA': 0}\n",
    "Fence_map = {'GdPrv': 4,'MnPrv': 3,'GdWo': 2, 'MnWw': 1,'NA': 0}\n",
    "GarageFinish_map = {'Fin': 3, 'RFn': 2, 'Unf': 1, 'NA': 0}\n",
    "KitchenQual_map = {'Ex': 4, 'Gd': 3, 'TA': 2, 'Fa': 1, 'Po': 0}\n",
    "GarageCond_map = {'Ex': 5, 'Gd': 4, 'TA': 3, 'Fa': 2, 'Po': 1, 'NA': 0}\n",
    "HeatingQC_map = {'Ex': 4, 'Gd': 3, 'TA': 2, 'Fa': 1, 'Po': 0}\n",
    "ExterQual_map = {'Ex': 4, 'Gd': 3, 'TA': 2, 'Fa': 1, 'Po': 0}\n",
    "BsmtCond_map = {'Ex': 5, 'Gd': 4, 'TA': 3, 'Fa': 2, 'Po': 1, 'NA': 0}\n",
    "LandSlope_map = {'Gtl': 2, 'Mod': 1, 'Sev': 0}\n",
    "ExterCond_map = {'Ex': 4, 'Gd': 3, 'TA': 2, 'Fa': 1, 'Po': 0}\n",
    "BsmtExposure_map = {'Gd': 4, 'Av': 3, 'Mn': 2, 'No': 1, 'NA': 0}\n",
    "PavedDrive_map = {'Y': 2, 'P': 1, 'N': 0}\n",
    "BsmtQual_map = {'Ex': 5, 'Gd': 4, 'TA': 3, 'Fa': 2, 'Po': 1, 'NA': 0}\n",
    "LotShape_map = {'Reg': 3, 'IR1': 2, 'IR2': 1, 'IR3': 0}\n",
    "BsmtFinType2_map = {'GLQ': 6,'ALQ': 5,'BLQ': 4,'Rec': 3,'LwQ': 2,'Unf': 1, 'NA': 0}\n",
    "BsmtFinType1_map = {'GLQ': 6,'ALQ': 5,'BLQ': 4,'Rec': 3,'LwQ': 2,'Unf': 1, 'NA': 0}\n",
    "FireplaceQu_map = {'Ex': 5, 'Gd': 4, 'TA': 3, 'Fa': 2, 'Po': 1, 'NA': 0}\n",
    "Utilities_map = {\"AllPub\":3, \"NoSewr\":2, \"NoSeWa\":1,  \"ELO\":0}\n",
    "Functional_map = {'Typ': 7,'Min1': 6,'Min2': 5,'Mod': 4,'Maj1': 3,'Maj2': 2, 'Sev': 1 , 'Sal': 0}\n",
    "PoolQC_map = {'Ex': 5, 'Gd': 4, 'TA': 3, 'Fa': 2, 'Po': 1, 'NA': 0}"
   ]
  },
  {
   "cell_type": "code",
   "execution_count": 139,
   "metadata": {},
   "outputs": [],
   "source": [
    "# garage_finish_map = {\n",
    "#     'Fin': 3,   # Finished\n",
    "#     'RFn': 2,   # Rough Finished\n",
    "#     'Unf': 1,   # Unfinished\n",
    "# }\n",
    "\n",
    "# # Map values, missing values (NaN) remain NaN\n",
    "# train['GarageFinish'] = train['GarageFinish'].map(garage_finish_map)\n",
    "\n",
    "# # Replace NaN with the encoded value for \"NA\"\n",
    "# train['GarageFinish'].fillna(0, inplace=True)\n",
    "\n",
    "# # Check the results\n",
    "# train['GarageFinish']\n"
   ]
  },
  {
   "cell_type": "code",
   "execution_count": 140,
   "metadata": {},
   "outputs": [
    {
     "name": "stdout",
     "output_type": "stream",
     "text": [
      "✅ Ordinal encoding applied successfully!\n"
     ]
    }
   ],
   "source": [
    "# ✅ Define ordinal mapping correctly\n",
    "ordinal_mapping = {\n",
    "    \"GarageQual\" : {'Ex': 5, 'Gd': 4, 'TA': 3, 'Fa': 2, 'Po': 1, 'NA': 0},\n",
    "    \"Fence\" : {'GdPrv': 4,'MnPrv': 3,'GdWo': 2, 'MnWw': 1,'NA': 0},\n",
    "    \"GarageFinish\" : {'Fin': 3, 'RFn': 2, 'Unf': 1, 'NA': 0},\n",
    "    \"KitchenQual\": {'Ex': 4, 'Gd': 3, 'TA': 2, 'Fa': 1, 'Po': 0},\n",
    "    \"GarageCond\" : {'Ex': 5, 'Gd': 4, 'TA': 3, 'Fa': 2, 'Po': 1, 'NA': 0},\n",
    "    \"HeatingQC\" : {'Ex': 4, 'Gd': 3, 'TA': 2, 'Fa': 1, 'Po': 0},\n",
    "    \"ExterQual\" : {'Ex': 4, 'Gd': 3, 'TA': 2, 'Fa': 1, 'Po': 0},\n",
    "    \"BsmtCond\": {'Ex': 5, 'Gd': 4, 'TA': 3, 'Fa': 2, 'Po': 1, 'NA': 0},\n",
    "    \"LandSlope\": {'Gtl': 2, 'Mod': 1, 'Sev': 0},\n",
    "    \"ExterCond\" : {'Ex': 4, 'Gd': 3, 'TA': 2, 'Fa': 1, 'Po': 0},\n",
    "    \"BsmtExposure\" : {'Gd': 4, 'Av': 3, 'Mn': 2, 'No': 1, 'NA': 0},\n",
    "    \"PavedDrive\":  {'Y': 2, 'P': 1, 'N': 0},\n",
    "    \"BsmtQual\" : {'Ex': 5, 'Gd': 4, 'TA': 3, 'Fa': 2, 'Po': 1, 'NA': 0},\n",
    "    \"LotShape\" : {'Reg': 3, 'IR1': 2, 'IR2': 1, 'IR3': 0},\n",
    "    \"BsmtFinType2\" : {'GLQ': 6,'ALQ': 5,'BLQ': 4,'Rec': 3,'LwQ': 2,'Unf': 1, 'NA': 0},\n",
    "    \"BsmtFinType1\" : {'GLQ': 6,'ALQ': 5,'BLQ': 4,'Rec': 3,'LwQ': 2,'Unf': 1, 'NA': 0},\n",
    "    \"FireplaceQu\" : {'Ex': 5, 'Gd': 4, 'TA': 3, 'Fa': 2, 'Po': 1, 'NA': 0},\n",
    "    \"Utilities\" : {\"AllPub\":3, \"NoSewr\":2, \"NoSeWa\":1,  \"ELO\":0},\n",
    "    \"Functional\" : {'Typ': 7,'Min1': 6,'Min2': 5,'Mod': 4,'Maj1': 3,'Maj2': 2, 'Sev': 1 , 'Sal': 0},\n",
    "    \"PoolQC\" : {'Ex': 5, 'Gd': 4, 'TA': 3, 'Fa': 2, 'Po': 1, 'NA': 0}\n",
    "}\n",
    "\n",
    "# ✅ Extract the ordinal feature names\n",
    "ordinal_cols = list(ordinal_mapping.keys())\n",
    "\n",
    "# ✅ Ensure missing values in ordinal features are replaced with \"NA\" before encoding\n",
    "for col in ordinal_cols:\n",
    "    if col in train.columns:\n",
    "        train[col] = train[col].fillna(\"NA\")\n",
    "    if col in test.columns:\n",
    "        test[col] = test[col].fillna(\"NA\")\n",
    "\n",
    "# ✅ Create an OrdinalEncoder with the correct category order\n",
    "encoder = OrdinalEncoder(\n",
    "    categories=[list(ordinal_mapping[col].keys()) for col in ordinal_cols],\n",
    "    handle_unknown=\"use_encoded_value\",  # Avoid errors for unseen categories\n",
    "    unknown_value=-1  # Assign unknown categories as -1\n",
    ")\n",
    "\n",
    "# ✅ Apply ordinal encoding to both datasets\n",
    "train[ordinal_cols] = encoder.fit_transform(train[ordinal_cols])\n",
    "test[ordinal_cols] = encoder.transform(test[ordinal_cols])\n",
    "\n",
    "print(\"✅ Ordinal encoding applied successfully!\")\n",
    "train.replace(-1, 0, inplace=True)"
   ]
  },
  {
   "cell_type": "markdown",
   "metadata": {},
   "source": [
    "### One Hot Encoding"
   ]
  },
  {
   "cell_type": "code",
   "execution_count": 141,
   "metadata": {},
   "outputs": [
    {
     "name": "stdout",
     "output_type": "stream",
     "text": [
      "train & Test now have the same OHE features using `OneHotEncoder()`\n",
      "New shape of TEST dataset: (1459, 226)\n",
      "New shape of TRAIN dataset: (1452, 227)\n"
     ]
    }
   ],
   "source": [
    "encoder = OneHotEncoder(handle_unknown='ignore', sparse_output=False)\n",
    "# Fit on train data, then transform both train & test\n",
    "train_encoded = encoder.fit_transform(train[train_nominal])\n",
    "test_encoded = encoder.transform(test[test_nominal])\n",
    "\n",
    "# Convert back to DataFrame\n",
    "train_encoded = pd.DataFrame(train_encoded, columns=encoder.get_feature_names_out(train_nominal), index=train.index)\n",
    "test_encoded = pd.DataFrame(test_encoded, columns=encoder.get_feature_names_out(test_nominal), index=test.index)\n",
    "\n",
    "# Drop original categorical features and replace with OHE\n",
    "train = train.drop(columns=train_nominal).join(train_encoded)\n",
    "test = test.drop(columns=test_nominal).join(test_encoded)\n",
    "\n",
    "print(\"train & Test now have the same OHE features using `OneHotEncoder()`\")\n",
    "print(\"New shape of TEST dataset:\", test.shape)\n",
    "print(\"New shape of TRAIN dataset:\", train.shape)"
   ]
  },
  {
   "cell_type": "code",
   "execution_count": 142,
   "metadata": {},
   "outputs": [
    {
     "name": "stdout",
     "output_type": "stream",
     "text": [
      "🛑 Features in test but NOT in train: set()\n"
     ]
    }
   ],
   "source": [
    "extra_test_features = set(test.columns) - set(train.columns)\n",
    "print(\"🛑 Features in test but NOT in train:\", extra_test_features)"
   ]
  },
  {
   "cell_type": "code",
   "execution_count": 143,
   "metadata": {},
   "outputs": [
    {
     "name": "stdout",
     "output_type": "stream",
     "text": [
      "✅ Updated numerical features:\n",
      " ['MSSubClass', 'LotFrontage', 'LotArea', 'OverallQual', 'OverallCond', 'YearBuilt', 'YearRemodAdd', 'MasVnrArea', 'BsmtFinSF1', 'BsmtFinSF2', 'BsmtUnfSF', 'TotalBsmtSF', '1stFlrSF', '2ndFlrSF', 'LowQualFinSF', 'GrLivArea', 'BsmtFullBath', 'BsmtHalfBath', 'FullBath', 'HalfBath', 'BedroomAbvGr', 'KitchenAbvGr', 'TotRmsAbvGrd', 'Fireplaces', 'GarageYrBlt', 'GarageCars', 'GarageArea', 'WoodDeckSF', 'OpenPorchSF', 'EnclosedPorch', '3SsnPorch', 'ScreenPorch', 'PoolArea', 'MiscVal', 'MoSold', 'YrSold', 'SalePrice']\n"
     ]
    }
   ],
   "source": [
    "# Identify all numerical features after encoding\n",
    "train_numerical = train.select_dtypes(include=['int64', 'float64']).columns.tolist()\n",
    "\n",
    "# Exclude ordinal features (since they were manually mapped but remain categorical)\n",
    "train_numerical = [col for col in train_numerical if col not in ordinal_mapping.keys()]\n",
    "train_numerical = [col for col in train_numerical if \"_\" not in col]\n",
    "\n",
    "print(\"✅ Updated numerical features:\\n\", train_numerical)\n"
   ]
  },
  {
   "cell_type": "code",
   "execution_count": 144,
   "metadata": {},
   "outputs": [
    {
     "name": "stdout",
     "output_type": "stream",
     "text": [
      "✅ Updated numerical features:\n",
      " ['MSSubClass', 'LotFrontage', 'LotArea', 'OverallQual', 'OverallCond', 'YearBuilt', 'YearRemodAdd', 'MasVnrArea', 'BsmtFinSF1', 'BsmtFinSF2', 'BsmtUnfSF', 'TotalBsmtSF', '1stFlrSF', '2ndFlrSF', 'LowQualFinSF', 'GrLivArea', 'BsmtFullBath', 'BsmtHalfBath', 'FullBath', 'HalfBath', 'BedroomAbvGr', 'KitchenAbvGr', 'TotRmsAbvGrd', 'Fireplaces', 'GarageYrBlt', 'GarageCars', 'GarageArea', 'WoodDeckSF', 'OpenPorchSF', 'EnclosedPorch', '3SsnPorch', 'ScreenPorch', 'PoolArea', 'MiscVal', 'MoSold', 'YrSold']\n"
     ]
    }
   ],
   "source": [
    "# Identify all numerical features after encoding\n",
    "test_numerical = test.select_dtypes(include=['int64', 'float64']).columns.tolist()\n",
    "\n",
    "# Exclude ordinal features (since they were manually mapped but remain categorical)\n",
    "test_numerical = [col for col in test_numerical if col not in ordinal_mapping.keys()]\n",
    "test_numerical = [col for col in test_numerical if \"_\" not in col]\n",
    "\n",
    "print(\"✅ Updated numerical features:\\n\", test_numerical)"
   ]
  },
  {
   "cell_type": "markdown",
   "metadata": {},
   "source": [
    "### Skewness"
   ]
  },
  {
   "cell_type": "code",
   "execution_count": 145,
   "metadata": {},
   "outputs": [],
   "source": [
    "# # Compute skewness for each numerical feature\n",
    "# skewness = train[train_numerical].apply(lambda x: x.skew()).sort_values(ascending=False)\n",
    "\n",
    "# # Set threshold for skewness\n",
    "# skew_threshold = 0.75\n",
    "\n",
    "# # Get highly skewed features\n",
    "# highly_skewed = skewness[(skewness > skew_threshold) & (skewness.index != \"SalePrice\")]\n",
    "# print(f\"🔍 Found {len(highly_skewed)} highly skewed features:\\n\", highly_skewed)\n",
    "\n",
    "# # Apply Yeo-Johnson transformation\n",
    "# pt = PowerTransformer(method=\"yeo-johnson\")\n",
    "# train[highly_skewed.index] = pt.fit_transform(train[highly_skewed.index])\n",
    "\n",
    "# print(\"✅ Yeo-Johnson transformation applied successfully!\")\n"
   ]
  },
  {
   "cell_type": "code",
   "execution_count": 146,
   "metadata": {},
   "outputs": [],
   "source": [
    "# # Check skewness after transformation\n",
    "# new_skewness = train[highly_skewed.index].apply(lambda x: x.skew())\n",
    "# print(\"📉 Skewness after transformation:\\n\", new_skewness)\n"
   ]
  },
  {
   "cell_type": "markdown",
   "metadata": {},
   "source": [
    "### Scaling"
   ]
  },
  {
   "cell_type": "code",
   "execution_count": 147,
   "metadata": {},
   "outputs": [
    {
     "name": "stdout",
     "output_type": "stream",
     "text": [
      "standardization applied.\n"
     ]
    }
   ],
   "source": [
    "scaler = StandardScaler()\n",
    "\n",
    "numerical_features = [col for col in train_numerical if col != \"SalePrice\"]\n",
    "\n",
    "train[numerical_features] = scaler.fit_transform(train[numerical_features])\n",
    "test[test_numerical] = scaler.fit_transform(test[test_numerical])\n",
    "\n",
    "print(\"standardization applied.\")"
   ]
  },
  {
   "cell_type": "code",
   "execution_count": 148,
   "metadata": {},
   "outputs": [],
   "source": [
    "# train_categorical = [col for col in train_categorical if col in train.columns]\n",
    "# test_categorical = [col for col in test_categorical if col in test.columns]\n",
    "\n",
    "# # Strip spaces from categorical columns\n",
    "# train[train_categorical] = train[train_categorical].apply(lambda x: x.str.strip() if x.dtype == \"object\" else x)\n",
    "# test[test_categorical] = test[test_categorical].apply(lambda x: x.str.strip() if x.dtype == \"object\" else x)\n",
    "\n",
    "# # Convert categorical columns (One-Hot Encoded) to integer type\n",
    "# train[train_categorical] = train[train_categorical].fillna(0).astype(int)\n",
    "# test[test_categorical] = test[test_categorical].fillna(0).astype(int)\n",
    "\n",
    "# print(\"fixed trailing spaces & converted categorical features to integers successfully!\")\n"
   ]
  },
  {
   "cell_type": "code",
   "execution_count": 149,
   "metadata": {},
   "outputs": [
    {
     "data": {
      "text/plain": [
       "(1459, 226)"
      ]
     },
     "execution_count": 149,
     "metadata": {},
     "output_type": "execute_result"
    }
   ],
   "source": [
    "test.shape"
   ]
  },
  {
   "cell_type": "code",
   "execution_count": 150,
   "metadata": {},
   "outputs": [
    {
     "data": {
      "text/plain": [
       "(1452, 227)"
      ]
     },
     "execution_count": 150,
     "metadata": {},
     "output_type": "execute_result"
    }
   ],
   "source": [
    "train.shape"
   ]
  },
  {
   "cell_type": "markdown",
   "metadata": {},
   "source": [
    "### PCA "
   ]
  },
  {
   "cell_type": "code",
   "execution_count": 151,
   "metadata": {},
   "outputs": [
    {
     "name": "stdout",
     "output_type": "stream",
     "text": [
      "✅ PCA completed! New train shape: (1452, 76), test shape: (1459, 75)\n"
     ]
    }
   ],
   "source": [
    "train = train.fillna(0)\n",
    "test = test.fillna(0)\n",
    "\n",
    "#extract target before applying PCA\n",
    "y_train = train[\"SalePrice\"]  \n",
    "X_train = train.drop(columns=[\"SalePrice\"])  \n",
    "X_test = test.copy()  \n",
    "\n",
    "#apply PCA (Retain 98% variance)\n",
    "pca = PCA(n_components=0.98)  \n",
    "X_train_pca = pca.fit_transform(X_train)  \n",
    "X_test_pca = pca.transform(X_test)  \n",
    "\n",
    "#convert PCA output back to DataFrame\n",
    "pca_columns = [f\"PCA_{i+1}\" for i in range(X_train_pca.shape[1])]\n",
    "X_train_pca = pd.DataFrame(X_train_pca, index=X_train.index, columns=pca_columns)\n",
    "X_test_pca = pd.DataFrame(X_test_pca, index=X_test.index, columns=pca_columns)\n",
    "\n",
    "#reattach `SalePrice` to `train_pca`\n",
    "X_train_pca[\"SalePrice\"] = y_train.values  \n",
    "\n",
    "# #save processed datasets\n",
    "# X_train_pca.to_csv(\"train_pca.csv\", index=False)\n",
    "# X_test_pca.to_csv(\"test_pca.csv\", index=False)\n",
    "train = X_train_pca\n",
    "test = X_test_pca\n",
    "print(f\"✅ PCA completed! New train shape: {X_train_pca.shape}, test shape: {X_test_pca.shape}\")"
   ]
  },
  {
   "cell_type": "markdown",
   "metadata": {},
   "source": [
    "### Exporting "
   ]
  },
  {
   "cell_type": "code",
   "execution_count": 152,
   "metadata": {},
   "outputs": [],
   "source": [
    "# train.insert(0, \"Id\", train_ID)\n",
    "# test.insert(0, \"Id\", test_ID)\n",
    "# train.columns = train.columns.str.strip()\n",
    "# test.columns = test.columns.str.strip()\n",
    "# # #save processed datasets\n",
    "# train.to_csv(\"train_simp_NODROP.csv\", index=False)\n",
    "# test.to_csv(\"test_simp_NODROP.csv\", index=False)"
   ]
  },
  {
   "cell_type": "code",
   "execution_count": 153,
   "metadata": {},
   "outputs": [
    {
     "data": {
      "text/plain": [
       "Index(['PCA_1', 'PCA_2', 'PCA_3', 'PCA_4', 'PCA_5', 'PCA_6', 'PCA_7', 'PCA_8',\n",
       "       'PCA_9', 'PCA_10', 'PCA_11', 'PCA_12', 'PCA_13', 'PCA_14', 'PCA_15',\n",
       "       'PCA_16', 'PCA_17', 'PCA_18', 'PCA_19', 'PCA_20', 'PCA_21', 'PCA_22',\n",
       "       'PCA_23', 'PCA_24', 'PCA_25', 'PCA_26', 'PCA_27', 'PCA_28', 'PCA_29',\n",
       "       'PCA_30', 'PCA_31', 'PCA_32', 'PCA_33', 'PCA_34', 'PCA_35', 'PCA_36',\n",
       "       'PCA_37', 'PCA_38', 'PCA_39', 'PCA_40', 'PCA_41', 'PCA_42', 'PCA_43',\n",
       "       'PCA_44', 'PCA_45', 'PCA_46', 'PCA_47', 'PCA_48', 'PCA_49', 'PCA_50',\n",
       "       'PCA_51', 'PCA_52', 'PCA_53', 'PCA_54', 'PCA_55', 'PCA_56', 'PCA_57',\n",
       "       'PCA_58', 'PCA_59', 'PCA_60', 'PCA_61', 'PCA_62', 'PCA_63', 'PCA_64',\n",
       "       'PCA_65', 'PCA_66', 'PCA_67', 'PCA_68', 'PCA_69', 'PCA_70', 'PCA_71',\n",
       "       'PCA_72', 'PCA_73', 'PCA_74', 'PCA_75', 'SalePrice'],\n",
       "      dtype='object')"
      ]
     },
     "execution_count": 153,
     "metadata": {},
     "output_type": "execute_result"
    }
   ],
   "source": [
    "train.columns"
   ]
  },
  {
   "cell_type": "code",
   "execution_count": 154,
   "metadata": {},
   "outputs": [
    {
     "data": {
      "text/plain": [
       "Index(['PCA_1', 'PCA_2', 'PCA_3', 'PCA_4', 'PCA_5', 'PCA_6', 'PCA_7', 'PCA_8',\n",
       "       'PCA_9', 'PCA_10', 'PCA_11', 'PCA_12', 'PCA_13', 'PCA_14', 'PCA_15',\n",
       "       'PCA_16', 'PCA_17', 'PCA_18', 'PCA_19', 'PCA_20', 'PCA_21', 'PCA_22',\n",
       "       'PCA_23', 'PCA_24', 'PCA_25', 'PCA_26', 'PCA_27', 'PCA_28', 'PCA_29',\n",
       "       'PCA_30', 'PCA_31', 'PCA_32', 'PCA_33', 'PCA_34', 'PCA_35', 'PCA_36',\n",
       "       'PCA_37', 'PCA_38', 'PCA_39', 'PCA_40', 'PCA_41', 'PCA_42', 'PCA_43',\n",
       "       'PCA_44', 'PCA_45', 'PCA_46', 'PCA_47', 'PCA_48', 'PCA_49', 'PCA_50',\n",
       "       'PCA_51', 'PCA_52', 'PCA_53', 'PCA_54', 'PCA_55', 'PCA_56', 'PCA_57',\n",
       "       'PCA_58', 'PCA_59', 'PCA_60', 'PCA_61', 'PCA_62', 'PCA_63', 'PCA_64',\n",
       "       'PCA_65', 'PCA_66', 'PCA_67', 'PCA_68', 'PCA_69', 'PCA_70', 'PCA_71',\n",
       "       'PCA_72', 'PCA_73', 'PCA_74', 'PCA_75'],\n",
       "      dtype='object')"
      ]
     },
     "execution_count": 154,
     "metadata": {},
     "output_type": "execute_result"
    }
   ],
   "source": [
    "test.columns"
   ]
  },
  {
   "cell_type": "code",
   "execution_count": 155,
   "metadata": {},
   "outputs": [
    {
     "data": {
      "text/plain": [
       "0"
      ]
     },
     "execution_count": 155,
     "metadata": {},
     "output_type": "execute_result"
    }
   ],
   "source": [
    "train.isnull().sum().sum()"
   ]
  }
 ],
 "metadata": {
  "kernelspec": {
   "display_name": "Python 3",
   "language": "python",
   "name": "python3"
  },
  "language_info": {
   "codemirror_mode": {
    "name": "ipython",
    "version": 3
   },
   "file_extension": ".py",
   "mimetype": "text/x-python",
   "name": "python",
   "nbconvert_exporter": "python",
   "pygments_lexer": "ipython3",
   "version": "3.11.4"
  }
 },
 "nbformat": 4,
 "nbformat_minor": 2
}
