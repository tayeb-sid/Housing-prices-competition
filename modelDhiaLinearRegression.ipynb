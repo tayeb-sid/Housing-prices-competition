{
 "cells": [
  {
   "cell_type": "code",
   "execution_count": 1,
   "metadata": {},
   "outputs": [],
   "source": [
    "from sklearn.linear_model import LinearRegression\n",
    "from sklearn.metrics import mean_absolute_error, mean_squared_error, r2_score\n",
    "import pandas as pd\n",
    "import numpy as np\n",
    "import matplotlib.pyplot as plt\n",
    "import seaborn as sns"
   ]
  },
  {
   "cell_type": "code",
   "execution_count": 2,
   "metadata": {},
   "outputs": [
    {
     "name": "stdout",
     "output_type": "stream",
     "text": [
      "Linear Regression Results:\n",
      "MAE: 16904.03\n",
      "RMSE: 25222.85\n",
      "R² Score: 0.8993\n"
     ]
    },
    {
     "name": "stderr",
     "output_type": "stream",
     "text": [
      "c:\\Users\\dhiaa\\AppData\\Local\\Programs\\Python\\Python311\\Lib\\site-packages\\sklearn\\metrics\\_regression.py:483: FutureWarning: 'squared' is deprecated in version 1.4 and will be removed in 1.6. To calculate the root mean squared error, use the function'root_mean_squared_error'.\n",
      "  warnings.warn(\n"
     ]
    }
   ],
   "source": [
    "#load the Datasets\n",
    "train = pd.read_csv(\"dhiaTrainNotSkewed.csv\")\n",
    "test = pd.read_csv(\"dhiaTestNotSkewed.csv\")\n",
    "sample_submission = pd.read_csv(\"home-data-for-ml-course\\sample_submission.csv\")\n",
    "\n",
    "#define Features (X) and Target (y)\n",
    "y_train = train[\"SalePrice\"]  # Target variable\n",
    "X_train = train.drop(columns=[\"SalePrice\"])  # Remove target from train data\n",
    "\n",
    "#define Features & Target\n",
    "y_train = train[\"SalePrice\"]\n",
    "X_train = train.drop(columns=[\"SalePrice\"])\n",
    "X_test = test.copy()\n",
    "\n",
    "#train Linear Regression Model\n",
    "lr_model = LinearRegression()\n",
    "lr_model.fit(X_train, y_train)\n",
    "\n",
    "#make Predictions\n",
    "y_train_pred = lr_model.predict(X_train)\n",
    "y_test_pred = lr_model.predict(X_test)\n",
    "\n",
    "#evaluate Model\n",
    "mae = mean_absolute_error(y_train, y_train_pred)\n",
    "rmse = mean_squared_error(y_train, y_train_pred, squared=False)\n",
    "r2 = r2_score(y_train, y_train_pred)\n",
    "\n",
    "print(f\"Linear Regression Results:\")\n",
    "print(f\"MAE: {mae:.2f}\")\n",
    "print(f\"RMSE: {rmse:.2f}\")\n",
    "print(f\"R² Score: {r2:.4f}\")"
   ]
  }
 ],
 "metadata": {
  "kernelspec": {
   "display_name": ".venv",
   "language": "python",
   "name": "python3"
  },
  "language_info": {
   "codemirror_mode": {
    "name": "ipython",
    "version": 3
   },
   "file_extension": ".py",
   "mimetype": "text/x-python",
   "name": "python",
   "nbconvert_exporter": "python",
   "pygments_lexer": "ipython3",
   "version": "3.13.2"
  }
 },
 "nbformat": 4,
 "nbformat_minor": 2
}
