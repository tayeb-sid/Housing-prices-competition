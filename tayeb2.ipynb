{
 "cells": [
  {
   "cell_type": "code",
   "execution_count": 1070,
   "metadata": {},
   "outputs": [],
   "source": [
    "import pandas as pd\n"
   ]
  },
  {
   "cell_type": "markdown",
   "metadata": {},
   "source": [
    "Chargement des données"
   ]
  },
  {
   "cell_type": "code",
   "execution_count": 1071,
   "metadata": {},
   "outputs": [
    {
     "name": "stdout",
     "output_type": "stream",
     "text": [
      "(1460, 81)\n",
      "(1459, 80)\n"
     ]
    }
   ],
   "source": [
    "train = pd.read_csv(\"home-data-for-ml-course\\\\train.csv\")\n",
    "test = pd.read_csv(\"home-data-for-ml-course\\\\test.csv\")\n",
    "train.columns = train.columns.str.strip()\n",
    "test.columns = test.columns.str.strip()\n",
    "print(train.shape)\n",
    "print(test.shape)\n"
   ]
  },
  {
   "cell_type": "code",
   "execution_count": 1072,
   "metadata": {},
   "outputs": [
    {
     "name": "stdout",
     "output_type": "stream",
     "text": [
      "(2919, 79)\n"
     ]
    }
   ],
   "source": [
    "sale_price_df= train[\"SalePrice\"]\n",
    "train=train.drop(columns=\"SalePrice\")\n",
    "data= pd.concat([train,test],axis=0,ignore_index=True)\n",
    "id_df= data[\"Id\"]\n",
    "data= data.drop(columns=\"Id\")\n",
    "print(data.shape)"
   ]
  },
  {
   "cell_type": "markdown",
   "metadata": {},
   "source": [
    "Separation des colonnes selon leurs type"
   ]
  },
  {
   "cell_type": "code",
   "execution_count": 1073,
   "metadata": {},
   "outputs": [],
   "source": [
    "data[[\"LotFrontage\", \"MasVnrArea\", \"GarageYrBlt\"]] = data[[\"LotFrontage\", \"MasVnrArea\", \"GarageYrBlt\"]].apply(pd.to_numeric, errors=\"coerce\")\n",
    "\n",
    "data_categorical_cols = [feature for feature in data.columns if data[feature].dtype == \"object\"] \n",
    "\n",
    "data_nominal_cols = [\"MSZoning\", \"Street\", \"Alley\", \"LandContour\", \"LotConfig\", \"Neighborhood\", \"Condition1\", \"Condition2\", \n",
    "                    \"BldgType\", \"HouseStyle\", \"RoofStyle\", \"RoofMatl\", \"Exterior1st\", \"Exterior2nd\", \"MasVnrType\", \"Foundation\", \"Heating\",\n",
    "                    \"CentralAir\", 'Electrical',\"GarageType\", \"MiscFeature\", \"SaleType\", \"SaleCondition\"]\n",
    "\n",
    "data_ordinal_cols = [ 'LotShape','Utilities','LandSlope','ExterQual','ExterCond','BsmtQual','BsmtCond','BsmtExposure','BsmtFinType1',\n",
    "                    'BsmtFinType2','HeatingQC','KitchenQual','Functional','FireplaceQu','GarageFinish','GarageQual',\n",
    "                    'GarageCond','PavedDrive','PoolQC','Fence']\n",
    "\n",
    "data_numerical_cols = [feature for feature in data.columns if feature not in data_categorical_cols]\n",
    "\n",
    "data_discrete_numerical_cols = [ 'OverallQual','OverallCond','BsmtFullBath','BsmtHalfBath',\n",
    "  'FullBath','HalfBath','BedroomAbvGr','KitchenAbvGr','TotRmsAbvGrd','Fireplaces','GarageCars','MoSold', \"MSSubClass\"] \n",
    "\n",
    "data_continuous_numerical_cols = ['LotFrontage','LotArea','YearBuilt','YearRemodAdd','MasVnrArea','BsmtFinSF1','BsmtFinSF2',\n",
    "                                  'BsmtUnfSF','TotalBsmtSF','1stFlrSF','2ndFlrSF','LowQualFinSF','GrLivArea','GarageYrBlt',\n",
    "                                  'GarageArea','WoodDeckSF','OpenPorchSF','EnclosedPorch','3SsnPorch','ScreenPorch','PoolArea',\n",
    "                                  'MiscVal','YrSold','SalePrice']"
   ]
  },
  {
   "cell_type": "markdown",
   "metadata": {},
   "source": [
    "Preprocessing"
   ]
  },
  {
   "cell_type": "markdown",
   "metadata": {},
   "source": [
    "Missing values"
   ]
  },
  {
   "cell_type": "code",
   "execution_count": 1074,
   "metadata": {},
   "outputs": [
    {
     "name": "stdout",
     "output_type": "stream",
     "text": [
      "numerical before:  678\n",
      "numerical after:  0\n"
     ]
    }
   ],
   "source": [
    "from sklearn.impute import SimpleImputer\n",
    "print(\"numerical before: \",data[data_numerical_cols].isnull().sum().sum())\n",
    "imputer = SimpleImputer(strategy='most_frequent')\n",
    "data[data_numerical_cols]=pd.DataFrame(imputer.fit_transform(data[data_numerical_cols]),columns=data_numerical_cols)\n",
    "print(\"numerical after: \",data[data_numerical_cols].isnull().sum().sum())\n"
   ]
  },
  {
   "cell_type": "code",
   "execution_count": 1075,
   "metadata": {},
   "outputs": [
    {
     "name": "stdout",
     "output_type": "stream",
     "text": [
      "categorical before:  7548\n",
      "categorical after:  0\n",
      "0 No null values left\n"
     ]
    }
   ],
   "source": [
    "print(\"categorical before: \",data[data_categorical_cols].isnull().sum().sum())\n",
    "data[data_categorical_cols]=data[data_categorical_cols].fillna(\"NA\")\n",
    "print(\"categorical after: \",data[data_categorical_cols].isnull().sum().sum())\n",
    "\n",
    "print(data.isnull().sum().sum(),\"No null values left\")"
   ]
  },
  {
   "cell_type": "markdown",
   "metadata": {},
   "source": [
    "Encoding "
   ]
  },
  {
   "cell_type": "markdown",
   "metadata": {},
   "source": [
    "Ordinal features"
   ]
  },
  {
   "cell_type": "code",
   "execution_count": 1076,
   "metadata": {},
   "outputs": [
    {
     "name": "stdout",
     "output_type": "stream",
     "text": [
      "making sure the mapping contains all the ordinal features\n",
      "True\n"
     ]
    }
   ],
   "source": [
    "ordinal_mapping = {\n",
    "    \"LotShape\": {\"IR3\": 1, \"IR2\": 2, \"IR1\": 3, \"Reg\": 4},\n",
    "    \"Utilities\": {\"ELO\": 1, \"NoSeWa\": 2, \"NoSewr\": 3, \"AllPub\": 4},\n",
    "    \"LandSlope\": {\"Sev\": 1, \"Mod\": 2, \"Gtl\": 3},\n",
    "    \"ExterQual\": {\"Po\": 1, \"Fa\": 2, \"TA\": 3, \"Gd\": 4, \"Ex\": 5},\n",
    "    \"ExterCond\": {\"Po\": 1, \"Fa\": 2, \"TA\": 3, \"Gd\": 4, \"Ex\": 5},\n",
    "    \"BsmtQual\": {\"NA\": 0, \"Po\": 1, \"Fa\": 2, \"TA\": 3, \"Gd\": 4, \"Ex\": 5},\n",
    "    \"BsmtCond\": {\"NA\": 0, \"Po\": 1, \"Fa\": 2, \"TA\": 3, \"Gd\": 4, \"Ex\": 5},\n",
    "    \"BsmtExposure\": {\"NA\": 0, \"No\": 1, \"Mn\": 2, \"Av\": 3, \"Gd\": 4},\n",
    "    \"BsmtFinType1\": {\"NA\": 0, \"Unf\": 1, \"LwQ\": 2, \"Rec\": 3, \"BLQ\": 4, \"ALQ\": 5, \"GLQ\": 6},\n",
    "    \"BsmtFinType2\": {\"NA\": 0, \"Unf\": 1, \"LwQ\": 2, \"Rec\": 3, \"BLQ\": 4, \"ALQ\": 5, \"GLQ\": 6},\n",
    "    \"HeatingQC\": {\"Po\": 1, \"Fa\": 2, \"TA\": 3, \"Gd\": 4, \"Ex\": 5},\n",
    "    \"KitchenQual\": {\"Po\": 1, \"Fa\": 2, \"TA\": 3, \"Gd\": 4, \"Ex\": 5},\n",
    "    \"Functional\": {\"Sal\": 1, \"Sev\": 2, \"Maj2\": 3, \"Maj1\": 4, \"Mod\": 5, \"Min2\": 6, \"Min1\": 7, \"Typ\": 8},\n",
    "    \"FireplaceQu\": {\"NA\": 0, \"Po\": 1, \"Fa\": 2, \"TA\": 3, \"Gd\": 4, \"Ex\": 5},\n",
    "    \"GarageFinish\": {\"NA\": 0, \"Unf\": 1, \"RFn\": 2, \"Fin\": 3},\n",
    "    \"GarageQual\": {\"NA\": 0, \"Po\": 1, \"Fa\": 2, \"TA\": 3, \"Gd\": 4, \"Ex\": 5},\n",
    "    \"GarageCond\": {\"NA\": 0, \"Po\": 1, \"Fa\": 2, \"TA\": 3, \"Gd\": 4, \"Ex\": 5},\n",
    "    \"PavedDrive\": {\"N\": 1, \"P\": 2, \"Y\": 3},\n",
    "    \"PoolQC\": {\"NA\": 0, \"Fa\": 1, \"TA\": 2, \"Gd\": 3, \"Ex\": 4},\n",
    "    \"Fence\": {\"NA\": 0, \"MnWw\": 1, \"GdWo\": 2, \"MnPrv\": 3, \"GdPrv\": 4}\n",
    "}\n",
    "ordinal_mapping = {col: ordinal_mapping[col] for col in data_ordinal_cols}\n",
    "print('making sure the mapping contains all the ordinal features')\n",
    "print(set(ordinal_mapping.keys())==set(data_ordinal_cols))\n",
    "\n",
    "for col in ordinal_mapping.keys():\n",
    "    if col in data.columns:\n",
    "        data[col] = data[col].astype(str).str.strip()"
   ]
  },
  {
   "cell_type": "code",
   "execution_count": 1077,
   "metadata": {},
   "outputs": [],
   "source": [
    "from sklearn.preprocessing import OrdinalEncoder\n",
    "categories = [list(ordinal_mapping[col].keys()) for col in data_ordinal_cols]\n",
    "ordinal_encoder = OrdinalEncoder(categories=categories,handle_unknown=\"use_encoded_value\", unknown_value=-1)\n",
    "data[data_ordinal_cols] = ordinal_encoder.fit_transform(data[data_ordinal_cols])\n"
   ]
  },
  {
   "cell_type": "markdown",
   "metadata": {},
   "source": [
    "Nominal Features"
   ]
  },
  {
   "cell_type": "code",
   "execution_count": 1078,
   "metadata": {},
   "outputs": [],
   "source": [
    "from sklearn.preprocessing import LabelEncoder\n",
    "\n",
    "label_encoder = LabelEncoder()\n",
    "\n",
    "data[data_nominal_cols]= data[data_nominal_cols].apply(label_encoder.fit_transform)"
   ]
  },
  {
   "cell_type": "markdown",
   "metadata": {},
   "source": [
    "Matrice de Correleation"
   ]
  },
  {
   "cell_type": "code",
   "execution_count": 1079,
   "metadata": {},
   "outputs": [],
   "source": [
    "corr_threashold=0.75"
   ]
  },
  {
   "cell_type": "code",
   "execution_count": 1080,
   "metadata": {},
   "outputs": [
    {
     "name": "stdout",
     "output_type": "stream",
     "text": [
      "[('TotalBsmtSF', '1stFlrSF'), ('1stFlrSF', 'TotalBsmtSF')]\n",
      "[('GrLivArea', 'TotRmsAbvGrd'), ('TotRmsAbvGrd', 'GrLivArea')]\n",
      "[('GarageCars', 'GarageArea'), ('GarageArea', 'GarageCars')]\n"
     ]
    }
   ],
   "source": [
    "import numpy as np\n",
    "corr_matrix= data[data_numerical_cols].corr()\n",
    "\n",
    "high_corr_pairs = corr_matrix.abs() >= corr_threashold\n",
    "np.fill_diagonal(high_corr_pairs.values, False)\n",
    "high_corr_features = high_corr_pairs.stack()\n",
    "high_corr_feature_names = high_corr_features[high_corr_features].index.tolist()\n",
    "for i in range(0, len(high_corr_feature_names), 2):\n",
    "    pair = high_corr_feature_names[i:i+2]\n",
    "    print(pair)"
   ]
  },
  {
   "cell_type": "code",
   "execution_count": 1081,
   "metadata": {},
   "outputs": [
    {
     "name": "stdout",
     "output_type": "stream",
     "text": [
      "before:  (2919, 79)\n",
      "after:  (2919, 75)\n"
     ]
    }
   ],
   "source": [
    "# dropping highly correlated features\n",
    "cols_to_drop=['GarageYrBlt','TotalBsmtSF','GarageCars','TotRmsAbvGrd']\n",
    "print(\"before: \",data.shape)\n",
    "data.drop(columns=cols_to_drop,inplace=True)\n",
    "print(\"after: \",data.shape)\n"
   ]
  },
  {
   "cell_type": "markdown",
   "metadata": {},
   "source": [
    "Mutual Information"
   ]
  },
  {
   "cell_type": "code",
   "execution_count": null,
   "metadata": {},
   "outputs": [],
   "source": [
    "mi_threashold=0.1"
   ]
  },
  {
   "cell_type": "code",
   "execution_count": 1083,
   "metadata": {},
   "outputs": [
    {
     "name": "stdout",
     "output_type": "stream",
     "text": [
      "Features with mutual information less than  0.2\n",
      "['Foundation', 'HeatingQC', 'LotFrontage', 'Fireplaces', 'Exterior2nd', 'OpenPorchSF', 'LotArea', 'BsmtFinType1', 'MSZoning', 'BsmtFinSF1', 'Exterior1st', 'BsmtUnfSF', 'OverallCond', 'MasVnrType', 'LotShape', 'WoodDeckSF', 'BsmtExposure', 'HouseStyle', 'HalfBath', 'MasVnrArea', 'GarageCond', 'CentralAir', 'SaleType', 'GarageQual', 'BedroomAbvGr', 'Electrical', 'SaleCondition', 'BsmtCond', 'PavedDrive', 'ScreenPorch', 'BldgType', 'Fence', 'ExterCond', 'Alley', 'Functional', 'EnclosedPorch', 'BsmtFinType2', 'BsmtFullBath', 'LotConfig', 'KitchenAbvGr', 'Condition1', 'BsmtHalfBath', 'LandContour', 'RoofStyle', 'Heating', 'RoofMatl', 'LandSlope', 'Street', 'LowQualFinSF', 'PoolArea', 'BsmtFinSF2', '3SsnPorch', 'PoolQC', 'MiscFeature', 'MiscVal', 'MoSold', 'YrSold', 'Condition2', 'Utilities']\n"
     ]
    }
   ],
   "source": [
    "from sklearn.feature_selection import mutual_info_regression\n",
    "mi = mutual_info_regression(data.iloc[0:1460,:], sale_price_df)\n",
    "mi_series = pd.Series(mi, index=data.columns)\n",
    "mi_series = mi_series.sort_values(ascending=False)\n",
    "\n",
    "cols_to_drop = mi_series[mi_series < mi_threashold].index.tolist()\n",
    "\n",
    "print(\"Features with mutual information less than \",mi_threashold)\n",
    "print(cols_to_drop)\n"
   ]
  },
  {
   "cell_type": "code",
   "execution_count": 1084,
   "metadata": {},
   "outputs": [
    {
     "data": {
      "text/plain": [
       "(2919, 16)"
      ]
     },
     "execution_count": 1084,
     "metadata": {},
     "output_type": "execute_result"
    }
   ],
   "source": [
    "# dropping low mi features\n",
    "data.drop(columns=cols_to_drop,inplace=True)\n",
    "data.shape\n"
   ]
  },
  {
   "cell_type": "markdown",
   "metadata": {},
   "source": [
    "Scalling Data"
   ]
  },
  {
   "cell_type": "code",
   "execution_count": 1085,
   "metadata": {},
   "outputs": [
    {
     "data": {
      "text/html": [
       "<div>\n",
       "<style scoped>\n",
       "    .dataframe tbody tr th:only-of-type {\n",
       "        vertical-align: middle;\n",
       "    }\n",
       "\n",
       "    .dataframe tbody tr th {\n",
       "        vertical-align: top;\n",
       "    }\n",
       "\n",
       "    .dataframe thead th {\n",
       "        text-align: right;\n",
       "    }\n",
       "</style>\n",
       "<table border=\"1\" class=\"dataframe\">\n",
       "  <thead>\n",
       "    <tr style=\"text-align: right;\">\n",
       "      <th></th>\n",
       "      <th>MSSubClass</th>\n",
       "      <th>Neighborhood</th>\n",
       "      <th>OverallQual</th>\n",
       "      <th>YearBuilt</th>\n",
       "      <th>YearRemodAdd</th>\n",
       "      <th>ExterQual</th>\n",
       "      <th>BsmtQual</th>\n",
       "      <th>1stFlrSF</th>\n",
       "      <th>2ndFlrSF</th>\n",
       "      <th>GrLivArea</th>\n",
       "      <th>FullBath</th>\n",
       "      <th>KitchenQual</th>\n",
       "      <th>FireplaceQu</th>\n",
       "      <th>GarageType</th>\n",
       "      <th>GarageFinish</th>\n",
       "      <th>GarageArea</th>\n",
       "    </tr>\n",
       "  </thead>\n",
       "  <tbody>\n",
       "    <tr>\n",
       "      <th>0</th>\n",
       "      <td>0.067331</td>\n",
       "      <td>-1.207040</td>\n",
       "      <td>0.646183</td>\n",
       "      <td>1.046258</td>\n",
       "      <td>0.896833</td>\n",
       "      <td>1.039805</td>\n",
       "      <td>0.577094</td>\n",
       "      <td>-0.773861</td>\n",
       "      <td>1.207379</td>\n",
       "      <td>0.413547</td>\n",
       "      <td>0.781366</td>\n",
       "      <td>0.737021</td>\n",
       "      <td>-0.978830</td>\n",
       "      <td>-0.633105</td>\n",
       "      <td>0.316551</td>\n",
       "      <td>0.349364</td>\n",
       "    </tr>\n",
       "    <tr>\n",
       "      <th>1</th>\n",
       "      <td>-0.873616</td>\n",
       "      <td>1.983868</td>\n",
       "      <td>-0.063185</td>\n",
       "      <td>0.154764</td>\n",
       "      <td>-0.395604</td>\n",
       "      <td>-0.683756</td>\n",
       "      <td>0.577094</td>\n",
       "      <td>0.261075</td>\n",
       "      <td>-0.785025</td>\n",
       "      <td>-0.471891</td>\n",
       "      <td>0.781366</td>\n",
       "      <td>-0.766379</td>\n",
       "      <td>0.682014</td>\n",
       "      <td>-0.633105</td>\n",
       "      <td>0.316551</td>\n",
       "      <td>-0.058991</td>\n",
       "    </tr>\n",
       "    <tr>\n",
       "      <th>2</th>\n",
       "      <td>0.067331</td>\n",
       "      <td>-1.207040</td>\n",
       "      <td>0.646183</td>\n",
       "      <td>0.980221</td>\n",
       "      <td>0.848965</td>\n",
       "      <td>1.039805</td>\n",
       "      <td>0.577094</td>\n",
       "      <td>-0.610718</td>\n",
       "      <td>1.235375</td>\n",
       "      <td>0.563755</td>\n",
       "      <td>0.781366</td>\n",
       "      <td>0.737021</td>\n",
       "      <td>0.682014</td>\n",
       "      <td>-0.633105</td>\n",
       "      <td>0.316551</td>\n",
       "      <td>0.627787</td>\n",
       "    </tr>\n",
       "    <tr>\n",
       "      <th>3</th>\n",
       "      <td>0.302568</td>\n",
       "      <td>-1.039098</td>\n",
       "      <td>0.646183</td>\n",
       "      <td>-1.859351</td>\n",
       "      <td>-0.682812</td>\n",
       "      <td>-0.683756</td>\n",
       "      <td>-0.527521</td>\n",
       "      <td>-0.506205</td>\n",
       "      <td>0.978742</td>\n",
       "      <td>0.427382</td>\n",
       "      <td>-1.027363</td>\n",
       "      <td>0.737021</td>\n",
       "      <td>1.235629</td>\n",
       "      <td>1.419410</td>\n",
       "      <td>-0.798060</td>\n",
       "      <td>0.785561</td>\n",
       "    </tr>\n",
       "    <tr>\n",
       "      <th>4</th>\n",
       "      <td>0.067331</td>\n",
       "      <td>0.472385</td>\n",
       "      <td>1.355551</td>\n",
       "      <td>0.947203</td>\n",
       "      <td>0.753229</td>\n",
       "      <td>1.039805</td>\n",
       "      <td>0.577094</td>\n",
       "      <td>-0.037170</td>\n",
       "      <td>1.671651</td>\n",
       "      <td>1.378042</td>\n",
       "      <td>0.781366</td>\n",
       "      <td>0.737021</td>\n",
       "      <td>0.682014</td>\n",
       "      <td>-0.633105</td>\n",
       "      <td>0.316551</td>\n",
       "      <td>1.685798</td>\n",
       "    </tr>\n",
       "  </tbody>\n",
       "</table>\n",
       "</div>"
      ],
      "text/plain": [
       "   MSSubClass  Neighborhood  OverallQual  YearBuilt  YearRemodAdd  ExterQual  \\\n",
       "0    0.067331     -1.207040     0.646183   1.046258      0.896833   1.039805   \n",
       "1   -0.873616      1.983868    -0.063185   0.154764     -0.395604  -0.683756   \n",
       "2    0.067331     -1.207040     0.646183   0.980221      0.848965   1.039805   \n",
       "3    0.302568     -1.039098     0.646183  -1.859351     -0.682812  -0.683756   \n",
       "4    0.067331      0.472385     1.355551   0.947203      0.753229   1.039805   \n",
       "\n",
       "   BsmtQual  1stFlrSF  2ndFlrSF  GrLivArea  FullBath  KitchenQual  \\\n",
       "0  0.577094 -0.773861  1.207379   0.413547  0.781366     0.737021   \n",
       "1  0.577094  0.261075 -0.785025  -0.471891  0.781366    -0.766379   \n",
       "2  0.577094 -0.610718  1.235375   0.563755  0.781366     0.737021   \n",
       "3 -0.527521 -0.506205  0.978742   0.427382 -1.027363     0.737021   \n",
       "4  0.577094 -0.037170  1.671651   1.378042  0.781366     0.737021   \n",
       "\n",
       "   FireplaceQu  GarageType  GarageFinish  GarageArea  \n",
       "0    -0.978830   -0.633105      0.316551    0.349364  \n",
       "1     0.682014   -0.633105      0.316551   -0.058991  \n",
       "2     0.682014   -0.633105      0.316551    0.627787  \n",
       "3     1.235629    1.419410     -0.798060    0.785561  \n",
       "4     0.682014   -0.633105      0.316551    1.685798  "
      ]
     },
     "execution_count": 1085,
     "metadata": {},
     "output_type": "execute_result"
    }
   ],
   "source": [
    "from sklearn.preprocessing import StandardScaler\n",
    "scaler = StandardScaler()\n",
    "data = pd.DataFrame(scaler.fit_transform(data),columns=data.columns)\n",
    "data.head()\n"
   ]
  },
  {
   "cell_type": "code",
   "execution_count": 1086,
   "metadata": {},
   "outputs": [],
   "source": [
    "sale_price_df.to_csv(\"Y_train.csv\",index=False)\n",
    "data.to_csv(\"tayeb_data.csv\",index=False)"
   ]
  }
 ],
 "metadata": {
  "kernelspec": {
   "display_name": "Python 3",
   "language": "python",
   "name": "python3"
  },
  "language_info": {
   "codemirror_mode": {
    "name": "ipython",
    "version": 3
   },
   "file_extension": ".py",
   "mimetype": "text/x-python",
   "name": "python",
   "nbconvert_exporter": "python",
   "pygments_lexer": "ipython3",
   "version": "3.10.0"
  }
 },
 "nbformat": 4,
 "nbformat_minor": 2
}
