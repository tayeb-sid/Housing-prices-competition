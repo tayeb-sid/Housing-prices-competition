{
 "cells": [
  {
   "cell_type": "code",
   "execution_count": 1,
   "metadata": {},
   "outputs": [],
   "source": [
    "from sklearn.ensemble import RandomForestRegressor\n",
    "from sklearn.model_selection import GridSearchCV\n",
    "from sklearn.metrics import mean_absolute_error, mean_squared_error, r2_score\n",
    "import pandas as pd\n",
    "import numpy as np\n",
    "import matplotlib.pyplot as plt\n",
    "import seaborn as sns\n",
    "from sklearn.model_selection import train_test_split\n",
    "from sklearn.model_selection import RandomizedSearchCV\n",
    "import joblib\n"
   ]
  },
  {
   "cell_type": "code",
   "execution_count": null,
   "metadata": {},
   "outputs": [
    {
     "name": "stdout",
     "output_type": "stream",
     "text": [
      "Best Parameters Found: {'max_depth': 15, 'min_samples_split': 5, 'n_estimators': 100}\n",
      "\n",
      " Model Performance on Training Set:\n",
      " Training R² Score: 0.9760\n",
      " Training MAE: 6997.50\n",
      " Training RMSE: 12290.69\n",
      " Training RMSLE: 0.0672\n",
      "\n",
      " Predictions saved to submission_final_billal.csv \n"
     ]
    },
    {
     "data": {
      "text/plain": [
       "['best_model.pkl']"
      ]
     },
     "execution_count": 2,
     "metadata": {},
     "output_type": "execute_result"
    }
   ],
   "source": [
    "import pandas as pd\n",
    "import numpy as np\n",
    "from sklearn.model_selection import GridSearchCV, cross_val_score\n",
    "from sklearn.ensemble import RandomForestRegressor\n",
    "from sklearn.metrics import mean_squared_log_error, r2_score, mean_absolute_error, mean_squared_error\n",
    "import joblib\n",
    "\n",
    "# Load the datasets\n",
    "train = pd.read_csv(\"../Housing-prices-competition/final_data.csv\")\n",
    "test = pd.read_csv(\"../Housing-prices-competition/final_test_data.csv\")\n",
    "sample_submission = pd.read_csv(\"../Housing-prices-competition/home-data-for-ml-course/sample_submission.csv\")\n",
    "\n",
    "# Define Features (X) and Target (y)\n",
    "y_train = train[\"SalePrice\"]\n",
    "X_train = train.drop(columns=[\"SalePrice\"])\n",
    "X_test = test.copy()\n",
    "\n",
    "# Log transformation of target variable\n",
    "y_train_log = np.log1p(y_train)\n",
    "\n",
    "# Define hyperparameter grid\n",
    "param_grid = {\n",
    "    \"n_estimators\": [100, 300, 500, 700],\n",
    "    \"max_depth\": [10, 20, 30, None],\n",
    "    \"min_samples_split\": [2, 5, 10],\n",
    "    \"min_samples_leaf\": [1, 2, 4],\n",
    "    \"max_features\": [\"sqrt\", \"log2\"],\n",
    "    \"bootstrap\": [True, False]\n",
    "}\n",
    "\n",
    "# Perform Grid Search\n",
    "grid_search = GridSearchCV(\n",
    "    RandomForestRegressor(random_state=42),\n",
    "    param_grid,\n",
    "    cv=5,\n",
    "    scoring=\"neg_mean_squared_log_error\",\n",
    "    n_jobs=-1\n",
    ")\n",
    "\n",
    "grid_search.fit(X_train, y_train_log)\n",
    "\n",
    "# Get best hyperparameters\n",
    "best_params = grid_search.best_params_\n",
    "print(\"Best Parameters Found:\", best_params)\n",
    "\n",
    "# Train model with best hyperparameters\n",
    "best_rf_model = RandomForestRegressor(\n",
    "    n_estimators=best_params[\"n_estimators\"],\n",
    "    max_depth=best_params[\"max_depth\"],\n",
    "    min_samples_split=best_params[\"min_samples_split\"],\n",
    "    min_samples_leaf=best_params[\"min_samples_leaf\"],\n",
    "    max_features=best_params[\"max_features\"],\n",
    "    bootstrap=best_params[\"bootstrap\"],\n",
    "    random_state=42\n",
    ")\n",
    "\n",
    "best_rf_model.fit(X_train, y_train_log)\n",
    "\n",
    "# Evaluate model on training data\n",
    "y_train_pred_log = best_rf_model.predict(X_train)\n",
    "y_train_pred = np.expm1(y_train_pred_log)\n",
    "\n",
    "train_r2 = r2_score(y_train, y_train_pred)\n",
    "train_mae = mean_absolute_error(y_train, y_train_pred)\n",
    "train_rmse = np.sqrt(mean_squared_error(y_train, y_train_pred))\n",
    "train_rmsle = np.sqrt(mean_squared_log_error(y_train, np.maximum(y_train_pred, 0)))\n",
    "\n",
    "print(\"\\nModel Performance on Training Set:\")\n",
    "print(f\"Training R² Score: {train_r2:.4f}\")\n",
    "print(f\"Training MAE: {train_mae:.2f}\")\n",
    "print(f\"Training RMSE: {train_rmse:.2f}\")\n",
    "print(f\"Training RMSLE: {train_rmsle:.4f}\")\n",
    "\n",
    "# Cross-validation RMSLE\n",
    "cv_scores = cross_val_score(best_rf_model, X_train, y_train_log, cv=5, scoring='neg_mean_squared_log_error')\n",
    "cv_rmsle = np.sqrt(-cv_scores)\n",
    "print(f\"Cross-Validation RMSLE: {cv_rmsle.mean():.4f}\")\n",
    "\n",
    "# Make predictions on test set\n",
    "y_test_pred_log = best_rf_model.predict(X_test)\n",
    "y_test_pred = np.expm1(y_test_pred_log)\n",
    "\n",
    "# Prepare submission file\n",
    "submission = pd.DataFrame({\"Id\": sample_submission[\"Id\"], \"SalePrice\": y_test_pred})\n",
    "submission.to_csv(\"submission_final_billal.csv\", index=False)\n",
    "print(\"\\nPredictions saved to submission_final_billal.csv\")\n",
    "\n",
    "# Save the trained model\n",
    "joblib.dump(best_rf_model, 'best_model.pkl')\n"
   ]
  }
 ],
 "metadata": {
  "kernelspec": {
   "display_name": ".venv",
   "language": "python",
   "name": "python3"
  },
  "language_info": {
   "codemirror_mode": {
    "name": "ipython",
    "version": 3
   },
   "file_extension": ".py",
   "mimetype": "text/x-python",
   "name": "python",
   "nbconvert_exporter": "python",
   "pygments_lexer": "ipython3",
   "version": "3.13.2"
  }
 },
 "nbformat": 4,
 "nbformat_minor": 2
}
