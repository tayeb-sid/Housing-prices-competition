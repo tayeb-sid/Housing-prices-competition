{
 "cells": [
  {
   "cell_type": "code",
   "execution_count": 5,
   "metadata": {},
   "outputs": [],
   "source": [
    "import pandas as pd\n",
    "import numpy as np\n",
    "from sklearn.ensemble import RandomForestRegressor\n",
    "from sklearn.model_selection import GridSearchCV\n",
    "from sklearn.metrics import mean_absolute_error, mean_squared_error, r2_score\n"
   ]
  },
  {
   "cell_type": "code",
   "execution_count": 6,
   "metadata": {},
   "outputs": [
    {
     "name": "stdout",
     "output_type": "stream",
     "text": [
      "✅ Meilleurs paramètres trouvés: {'max_depth': 15, 'min_samples_split': 2, 'n_estimators': 100}\n",
      "\n",
      "📊 Performance du modèle sur le training set:\n",
      "📈 Training R² Score: 0.9779\n",
      "📉 Training MAE: 6659.84\n",
      "📉 Training RMSE: 11816.23\n",
      "\n",
      "📁 Prédictions enregistrées dans submission_final_data.csv ✅\n"
     ]
    }
   ],
   "source": [
    "\n",
    "# 🔹 1️⃣ Chargement des données déjà transformées (avec ACP appliqué)\n",
    "train = pd.read_csv(\"./final_data.csv\")\n",
    "test = pd.read_csv(\"./final_test_data.csv\")\n",
    "sample_submission = pd.read_csv(\"../Housing-prices-competition/home-data-for-ml-course/sample_submission.csv\")\n",
    "\n",
    "# 🔹 2️⃣ Définition des features et de la target\n",
    "y_train = train[\"SalePrice\"]  # Variable cible\n",
    "X_train = train.drop(columns=[\"SalePrice\"])  # Features après ACP\n",
    "\n",
    "X_test = test.copy()  # Test après ACP\n",
    "\n",
    "# 🔹 3️⃣ Définition de la grille de recherche pour GridSearchCV\n",
    "param_grid = {\n",
    "    \"n_estimators\": [100, 200, 300],\n",
    "    \"max_depth\": [5, 10, 15],\n",
    "    \"min_samples_split\": [2, 5, 10]\n",
    "}\n",
    "\n",
    "# 🔹 4️⃣ Recherche des meilleurs hyperparamètres\n",
    "grid_search = GridSearchCV(\n",
    "    RandomForestRegressor(random_state=42),\n",
    "    param_grid,\n",
    "    cv=3,\n",
    "    scoring=\"r2\",\n",
    "    n_jobs=-1\n",
    ")\n",
    "grid_search.fit(X_train, y_train)\n",
    "\n",
    "# 🔹 5️⃣ Récupération des meilleurs paramètres\n",
    "best_params = grid_search.best_params_\n",
    "print(\"✅ Meilleurs paramètres trouvés:\", best_params)\n",
    "\n",
    "# 🔹 6️⃣ Entraînement du modèle avec les meilleurs hyperparamètres\n",
    "best_rf_model = RandomForestRegressor(\n",
    "    n_estimators=best_params[\"n_estimators\"],\n",
    "    max_depth=best_params[\"max_depth\"],\n",
    "    min_samples_split=best_params[\"min_samples_split\"],\n",
    "    random_state=42\n",
    ")\n",
    "best_rf_model.fit(X_train, y_train)\n",
    "\n",
    "# 🔹 7️⃣ Évaluation du modèle sur les données d'entraînement\n",
    "y_train_pred = best_rf_model.predict(X_train)\n",
    "\n",
    "# Calcul des métriques\n",
    "train_r2 = r2_score(y_train, y_train_pred)\n",
    "train_mae = mean_absolute_error(y_train, y_train_pred)\n",
    "train_rmse = np.sqrt(mean_squared_error(y_train, y_train_pred))\n",
    "\n",
    "# 🔹 8️⃣ Affichage des performances du modèle\n",
    "print(\"\\n📊 Performance du modèle sur le training set:\")\n",
    "print(f\"📈 Training R² Score: {train_r2:.4f}\")\n",
    "print(f\"📉 Training MAE: {train_mae:.2f}\")\n",
    "print(f\"📉 Training RMSE: {train_rmse:.2f}\")\n",
    "\n",
    "# 🔹 9️⃣ Prédictions sur les données test\n",
    "y_test_pred = best_rf_model.predict(X_test)\n",
    "\n",
    "# 🔹 🔟 Création du fichier de soumission\n",
    "submission = pd.DataFrame({\"Id\": sample_submission[\"Id\"], \"SalePrice\": y_test_pred})\n",
    "submission.to_csv(\"submission_final_data.csv\", index=False)\n",
    "print(\"\\n📁 Prédictions enregistrées dans submission_final_data.csv ✅\")\n"
   ]
  }
 ],
 "metadata": {
  "kernelspec": {
   "display_name": ".venv",
   "language": "python",
   "name": "python3"
  },
  "language_info": {
   "codemirror_mode": {
    "name": "ipython",
    "version": 3
   },
   "file_extension": ".py",
   "mimetype": "text/x-python",
   "name": "python",
   "nbconvert_exporter": "python",
   "pygments_lexer": "ipython3",
   "version": "3.13.2"
  }
 },
 "nbformat": 4,
 "nbformat_minor": 2
}
