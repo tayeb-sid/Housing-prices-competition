{
  "cells": [
    {
      "cell_type": "code",
      "execution_count": 1,
      "metadata": {
        "id": "uOxYTQbc0EDk"
      },
      "outputs": [],
      "source": [
        "import pandas as pd\n",
        "import numpy as np\n",
        "from sklearn.model_selection import train_test_split, RandomizedSearchCV\n",
        "from sklearn.ensemble import RandomForestRegressor\n",
        "from sklearn.metrics import mean_squared_error"
      ]
    },
    {
      "cell_type": "code",
      "execution_count": 2,
      "metadata": {
        "id": "Knh_RuH70Nij"
      },
      "outputs": [],
      "source": [
        "# Load the training data\n",
        "train_df = pd.read_csv('train.csv')"
      ]
    },
    {
      "cell_type": "code",
      "execution_count": 3,
      "metadata": {
        "id": "RiqIcUVg0PpD"
      },
      "outputs": [],
      "source": [
        "train_data, val_data = train_test_split(train_df, test_size=0.2, random_state=42)"
      ]
    },
    {
      "cell_type": "code",
      "execution_count": 4,
      "metadata": {
        "id": "2H592fCT0Rl7"
      },
      "outputs": [],
      "source": [
        "def preprocess_data(df, is_train=True):\n",
        "    \"\"\"\n",
        "    Preprocess the dataframe:\n",
        "      - Drop the 'Id' column if present.\n",
        "      - For training data, separate out the target variable ('SalePrice').\n",
        "      - Create missing indicators and fill missing values with meaningful values.\n",
        "      - For specific categorical features where missing implies absence, fill with 'None'.\n",
        "      - For specific numeric features where missing implies absence, fill with 0.\n",
        "      - For other numeric features, fill missing with median.\n",
        "      - For remaining categorical features, fill missing with mode.\n",
        "      - One-hot encode categorical features.\n",
        "    \"\"\"\n",
        "    df = df.copy()\n",
        "\n",
        "    # Drop the 'Id' column if it exists\n",
        "    if 'Id' in df.columns:\n",
        "        df.drop('Id', axis=1, inplace=True)\n",
        "\n",
        "    # If training data, separate out the target variable\n",
        "    if is_train:\n",
        "        y = df['SalePrice']\n",
        "        df.drop('SalePrice', axis=1, inplace=True)\n",
        "\n",
        "    # Dictionaries for known columns where missing implies absence\n",
        "    missing_cat_dict = {\n",
        "        'Alley': 'None',\n",
        "        'PoolQC': 'None',\n",
        "        'Fence': 'None',\n",
        "        'MiscFeature': 'None',\n",
        "        'GarageType': 'None',\n",
        "        'GarageFinish': 'None',\n",
        "        'GarageQual': 'None',\n",
        "        'GarageCond': 'None',\n",
        "        'BsmtQual': 'None',\n",
        "        'BsmtCond': 'None',\n",
        "        'BsmtExposure': 'None',\n",
        "        'BsmtFinType1': 'None',\n",
        "        'BsmtFinType2': 'None'\n",
        "    }\n",
        "\n",
        "    missing_num_dict = {\n",
        "        'GarageYrBlt': 0,\n",
        "        'MasVnrArea': 0,\n",
        "        'BsmtFinSF1': 0,\n",
        "        'BsmtFinSF2': 0,\n",
        "        'BsmtUnfSF': 0,\n",
        "        'TotalBsmtSF': 0,\n",
        "        'BsmtFullBath': 0,\n",
        "        'BsmtHalfBath': 0\n",
        "    }\n",
        "\n",
        "    # Process categorical columns with known missing value meaning\n",
        "    for col, fill_value in missing_cat_dict.items():\n",
        "        if col in df.columns:\n",
        "            # Create a missing indicator\n",
        "            df[col + '_missing'] = df[col].isnull().astype(int)\n",
        "            df[col].fillna(fill_value, inplace=True)\n",
        "\n",
        "    # Process numeric columns with known missing value meaning\n",
        "    for col, fill_value in missing_num_dict.items():\n",
        "        if col in df.columns:\n",
        "            df[col + '_missing'] = df[col].isnull().astype(int)\n",
        "            df[col].fillna(fill_value, inplace=True)\n",
        "\n",
        "    # For remaining columns, fill missing values:\n",
        "    # - For numeric columns, use the median.\n",
        "    # - For categorical columns, use the mode.\n",
        "    for col in df.columns:\n",
        "        # Skip if already processed in our dictionaries\n",
        "        if col in missing_cat_dict or col in missing_num_dict or col.endswith('_missing'):\n",
        "            continue\n",
        "\n",
        "        if df[col].dtype in ['float64', 'int64']:\n",
        "            df[col].fillna(df[col].median(), inplace=True)\n",
        "        else:\n",
        "            df[col].fillna(df[col].mode()[0], inplace=True)\n",
        "\n",
        "    # One-hot encode categorical variables (including our new indicator columns will remain numeric)\n",
        "    df = pd.get_dummies(df, drop_first=True)\n",
        "\n",
        "    if is_train:\n",
        "        return df, y\n",
        "    else:\n",
        "        return df"
      ]
    },
    {
      "cell_type": "code",
      "execution_count": 5,
      "metadata": {
        "colab": {
          "base_uri": "https://localhost:8080/"
        },
        "id": "O60Lp3gA0WCt",
        "outputId": "371b4e05-0194-4f72-cb7d-035ddcd75ee4"
      },
      "outputs": [
        {
          "name": "stderr",
          "output_type": "stream",
          "text": [
            "<ipython-input-4-efcdde2499d7>:57: FutureWarning: A value is trying to be set on a copy of a DataFrame or Series through chained assignment using an inplace method.\n",
            "The behavior will change in pandas 3.0. This inplace method will never work because the intermediate object on which we are setting values always behaves as a copy.\n",
            "\n",
            "For example, when doing 'df[col].method(value, inplace=True)', try using 'df.method({col: value}, inplace=True)' or df[col] = df[col].method(value) instead, to perform the operation inplace on the original object.\n",
            "\n",
            "\n",
            "  df[col].fillna(fill_value, inplace=True)\n",
            "<ipython-input-4-efcdde2499d7>:57: FutureWarning: A value is trying to be set on a copy of a DataFrame or Series through chained assignment using an inplace method.\n",
            "The behavior will change in pandas 3.0. This inplace method will never work because the intermediate object on which we are setting values always behaves as a copy.\n",
            "\n",
            "For example, when doing 'df[col].method(value, inplace=True)', try using 'df.method({col: value}, inplace=True)' or df[col] = df[col].method(value) instead, to perform the operation inplace on the original object.\n",
            "\n",
            "\n",
            "  df[col].fillna(fill_value, inplace=True)\n",
            "<ipython-input-4-efcdde2499d7>:57: FutureWarning: A value is trying to be set on a copy of a DataFrame or Series through chained assignment using an inplace method.\n",
            "The behavior will change in pandas 3.0. This inplace method will never work because the intermediate object on which we are setting values always behaves as a copy.\n",
            "\n",
            "For example, when doing 'df[col].method(value, inplace=True)', try using 'df.method({col: value}, inplace=True)' or df[col] = df[col].method(value) instead, to perform the operation inplace on the original object.\n",
            "\n",
            "\n",
            "  df[col].fillna(fill_value, inplace=True)\n",
            "<ipython-input-4-efcdde2499d7>:57: FutureWarning: A value is trying to be set on a copy of a DataFrame or Series through chained assignment using an inplace method.\n",
            "The behavior will change in pandas 3.0. This inplace method will never work because the intermediate object on which we are setting values always behaves as a copy.\n",
            "\n",
            "For example, when doing 'df[col].method(value, inplace=True)', try using 'df.method({col: value}, inplace=True)' or df[col] = df[col].method(value) instead, to perform the operation inplace on the original object.\n",
            "\n",
            "\n",
            "  df[col].fillna(fill_value, inplace=True)\n",
            "<ipython-input-4-efcdde2499d7>:57: FutureWarning: A value is trying to be set on a copy of a DataFrame or Series through chained assignment using an inplace method.\n",
            "The behavior will change in pandas 3.0. This inplace method will never work because the intermediate object on which we are setting values always behaves as a copy.\n",
            "\n",
            "For example, when doing 'df[col].method(value, inplace=True)', try using 'df.method({col: value}, inplace=True)' or df[col] = df[col].method(value) instead, to perform the operation inplace on the original object.\n",
            "\n",
            "\n",
            "  df[col].fillna(fill_value, inplace=True)\n",
            "<ipython-input-4-efcdde2499d7>:57: FutureWarning: A value is trying to be set on a copy of a DataFrame or Series through chained assignment using an inplace method.\n",
            "The behavior will change in pandas 3.0. This inplace method will never work because the intermediate object on which we are setting values always behaves as a copy.\n",
            "\n",
            "For example, when doing 'df[col].method(value, inplace=True)', try using 'df.method({col: value}, inplace=True)' or df[col] = df[col].method(value) instead, to perform the operation inplace on the original object.\n",
            "\n",
            "\n",
            "  df[col].fillna(fill_value, inplace=True)\n",
            "<ipython-input-4-efcdde2499d7>:57: FutureWarning: A value is trying to be set on a copy of a DataFrame or Series through chained assignment using an inplace method.\n",
            "The behavior will change in pandas 3.0. This inplace method will never work because the intermediate object on which we are setting values always behaves as a copy.\n",
            "\n",
            "For example, when doing 'df[col].method(value, inplace=True)', try using 'df.method({col: value}, inplace=True)' or df[col] = df[col].method(value) instead, to perform the operation inplace on the original object.\n",
            "\n",
            "\n",
            "  df[col].fillna(fill_value, inplace=True)\n",
            "<ipython-input-4-efcdde2499d7>:57: FutureWarning: A value is trying to be set on a copy of a DataFrame or Series through chained assignment using an inplace method.\n",
            "The behavior will change in pandas 3.0. This inplace method will never work because the intermediate object on which we are setting values always behaves as a copy.\n",
            "\n",
            "For example, when doing 'df[col].method(value, inplace=True)', try using 'df.method({col: value}, inplace=True)' or df[col] = df[col].method(value) instead, to perform the operation inplace on the original object.\n",
            "\n",
            "\n",
            "  df[col].fillna(fill_value, inplace=True)\n",
            "<ipython-input-4-efcdde2499d7>:57: FutureWarning: A value is trying to be set on a copy of a DataFrame or Series through chained assignment using an inplace method.\n",
            "The behavior will change in pandas 3.0. This inplace method will never work because the intermediate object on which we are setting values always behaves as a copy.\n",
            "\n",
            "For example, when doing 'df[col].method(value, inplace=True)', try using 'df.method({col: value}, inplace=True)' or df[col] = df[col].method(value) instead, to perform the operation inplace on the original object.\n",
            "\n",
            "\n",
            "  df[col].fillna(fill_value, inplace=True)\n",
            "<ipython-input-4-efcdde2499d7>:57: FutureWarning: A value is trying to be set on a copy of a DataFrame or Series through chained assignment using an inplace method.\n",
            "The behavior will change in pandas 3.0. This inplace method will never work because the intermediate object on which we are setting values always behaves as a copy.\n",
            "\n",
            "For example, when doing 'df[col].method(value, inplace=True)', try using 'df.method({col: value}, inplace=True)' or df[col] = df[col].method(value) instead, to perform the operation inplace on the original object.\n",
            "\n",
            "\n",
            "  df[col].fillna(fill_value, inplace=True)\n",
            "<ipython-input-4-efcdde2499d7>:57: FutureWarning: A value is trying to be set on a copy of a DataFrame or Series through chained assignment using an inplace method.\n",
            "The behavior will change in pandas 3.0. This inplace method will never work because the intermediate object on which we are setting values always behaves as a copy.\n",
            "\n",
            "For example, when doing 'df[col].method(value, inplace=True)', try using 'df.method({col: value}, inplace=True)' or df[col] = df[col].method(value) instead, to perform the operation inplace on the original object.\n",
            "\n",
            "\n",
            "  df[col].fillna(fill_value, inplace=True)\n",
            "<ipython-input-4-efcdde2499d7>:57: FutureWarning: A value is trying to be set on a copy of a DataFrame or Series through chained assignment using an inplace method.\n",
            "The behavior will change in pandas 3.0. This inplace method will never work because the intermediate object on which we are setting values always behaves as a copy.\n",
            "\n",
            "For example, when doing 'df[col].method(value, inplace=True)', try using 'df.method({col: value}, inplace=True)' or df[col] = df[col].method(value) instead, to perform the operation inplace on the original object.\n",
            "\n",
            "\n",
            "  df[col].fillna(fill_value, inplace=True)\n",
            "<ipython-input-4-efcdde2499d7>:57: FutureWarning: A value is trying to be set on a copy of a DataFrame or Series through chained assignment using an inplace method.\n",
            "The behavior will change in pandas 3.0. This inplace method will never work because the intermediate object on which we are setting values always behaves as a copy.\n",
            "\n",
            "For example, when doing 'df[col].method(value, inplace=True)', try using 'df.method({col: value}, inplace=True)' or df[col] = df[col].method(value) instead, to perform the operation inplace on the original object.\n",
            "\n",
            "\n",
            "  df[col].fillna(fill_value, inplace=True)\n",
            "<ipython-input-4-efcdde2499d7>:63: FutureWarning: A value is trying to be set on a copy of a DataFrame or Series through chained assignment using an inplace method.\n",
            "The behavior will change in pandas 3.0. This inplace method will never work because the intermediate object on which we are setting values always behaves as a copy.\n",
            "\n",
            "For example, when doing 'df[col].method(value, inplace=True)', try using 'df.method({col: value}, inplace=True)' or df[col] = df[col].method(value) instead, to perform the operation inplace on the original object.\n",
            "\n",
            "\n",
            "  df[col].fillna(fill_value, inplace=True)\n",
            "<ipython-input-4-efcdde2499d7>:63: FutureWarning: A value is trying to be set on a copy of a DataFrame or Series through chained assignment using an inplace method.\n",
            "The behavior will change in pandas 3.0. This inplace method will never work because the intermediate object on which we are setting values always behaves as a copy.\n",
            "\n",
            "For example, when doing 'df[col].method(value, inplace=True)', try using 'df.method({col: value}, inplace=True)' or df[col] = df[col].method(value) instead, to perform the operation inplace on the original object.\n",
            "\n",
            "\n",
            "  df[col].fillna(fill_value, inplace=True)\n",
            "<ipython-input-4-efcdde2499d7>:63: FutureWarning: A value is trying to be set on a copy of a DataFrame or Series through chained assignment using an inplace method.\n",
            "The behavior will change in pandas 3.0. This inplace method will never work because the intermediate object on which we are setting values always behaves as a copy.\n",
            "\n",
            "For example, when doing 'df[col].method(value, inplace=True)', try using 'df.method({col: value}, inplace=True)' or df[col] = df[col].method(value) instead, to perform the operation inplace on the original object.\n",
            "\n",
            "\n",
            "  df[col].fillna(fill_value, inplace=True)\n",
            "<ipython-input-4-efcdde2499d7>:63: FutureWarning: A value is trying to be set on a copy of a DataFrame or Series through chained assignment using an inplace method.\n",
            "The behavior will change in pandas 3.0. This inplace method will never work because the intermediate object on which we are setting values always behaves as a copy.\n",
            "\n",
            "For example, when doing 'df[col].method(value, inplace=True)', try using 'df.method({col: value}, inplace=True)' or df[col] = df[col].method(value) instead, to perform the operation inplace on the original object.\n",
            "\n",
            "\n",
            "  df[col].fillna(fill_value, inplace=True)\n",
            "<ipython-input-4-efcdde2499d7>:63: FutureWarning: A value is trying to be set on a copy of a DataFrame or Series through chained assignment using an inplace method.\n",
            "The behavior will change in pandas 3.0. This inplace method will never work because the intermediate object on which we are setting values always behaves as a copy.\n",
            "\n",
            "For example, when doing 'df[col].method(value, inplace=True)', try using 'df.method({col: value}, inplace=True)' or df[col] = df[col].method(value) instead, to perform the operation inplace on the original object.\n",
            "\n",
            "\n",
            "  df[col].fillna(fill_value, inplace=True)\n",
            "<ipython-input-4-efcdde2499d7>:63: FutureWarning: A value is trying to be set on a copy of a DataFrame or Series through chained assignment using an inplace method.\n",
            "The behavior will change in pandas 3.0. This inplace method will never work because the intermediate object on which we are setting values always behaves as a copy.\n",
            "\n",
            "For example, when doing 'df[col].method(value, inplace=True)', try using 'df.method({col: value}, inplace=True)' or df[col] = df[col].method(value) instead, to perform the operation inplace on the original object.\n",
            "\n",
            "\n",
            "  df[col].fillna(fill_value, inplace=True)\n",
            "<ipython-input-4-efcdde2499d7>:63: FutureWarning: A value is trying to be set on a copy of a DataFrame or Series through chained assignment using an inplace method.\n",
            "The behavior will change in pandas 3.0. This inplace method will never work because the intermediate object on which we are setting values always behaves as a copy.\n",
            "\n",
            "For example, when doing 'df[col].method(value, inplace=True)', try using 'df.method({col: value}, inplace=True)' or df[col] = df[col].method(value) instead, to perform the operation inplace on the original object.\n",
            "\n",
            "\n",
            "  df[col].fillna(fill_value, inplace=True)\n",
            "<ipython-input-4-efcdde2499d7>:63: FutureWarning: A value is trying to be set on a copy of a DataFrame or Series through chained assignment using an inplace method.\n",
            "The behavior will change in pandas 3.0. This inplace method will never work because the intermediate object on which we are setting values always behaves as a copy.\n",
            "\n",
            "For example, when doing 'df[col].method(value, inplace=True)', try using 'df.method({col: value}, inplace=True)' or df[col] = df[col].method(value) instead, to perform the operation inplace on the original object.\n",
            "\n",
            "\n",
            "  df[col].fillna(fill_value, inplace=True)\n",
            "<ipython-input-4-efcdde2499d7>:74: FutureWarning: A value is trying to be set on a copy of a DataFrame or Series through chained assignment using an inplace method.\n",
            "The behavior will change in pandas 3.0. This inplace method will never work because the intermediate object on which we are setting values always behaves as a copy.\n",
            "\n",
            "For example, when doing 'df[col].method(value, inplace=True)', try using 'df.method({col: value}, inplace=True)' or df[col] = df[col].method(value) instead, to perform the operation inplace on the original object.\n",
            "\n",
            "\n",
            "  df[col].fillna(df[col].median(), inplace=True)\n",
            "<ipython-input-4-efcdde2499d7>:76: FutureWarning: A value is trying to be set on a copy of a DataFrame or Series through chained assignment using an inplace method.\n",
            "The behavior will change in pandas 3.0. This inplace method will never work because the intermediate object on which we are setting values always behaves as a copy.\n",
            "\n",
            "For example, when doing 'df[col].method(value, inplace=True)', try using 'df.method({col: value}, inplace=True)' or df[col] = df[col].method(value) instead, to perform the operation inplace on the original object.\n",
            "\n",
            "\n",
            "  df[col].fillna(df[col].mode()[0], inplace=True)\n",
            "<ipython-input-4-efcdde2499d7>:57: FutureWarning: A value is trying to be set on a copy of a DataFrame or Series through chained assignment using an inplace method.\n",
            "The behavior will change in pandas 3.0. This inplace method will never work because the intermediate object on which we are setting values always behaves as a copy.\n",
            "\n",
            "For example, when doing 'df[col].method(value, inplace=True)', try using 'df.method({col: value}, inplace=True)' or df[col] = df[col].method(value) instead, to perform the operation inplace on the original object.\n",
            "\n",
            "\n",
            "  df[col].fillna(fill_value, inplace=True)\n",
            "<ipython-input-4-efcdde2499d7>:57: FutureWarning: A value is trying to be set on a copy of a DataFrame or Series through chained assignment using an inplace method.\n",
            "The behavior will change in pandas 3.0. This inplace method will never work because the intermediate object on which we are setting values always behaves as a copy.\n",
            "\n",
            "For example, when doing 'df[col].method(value, inplace=True)', try using 'df.method({col: value}, inplace=True)' or df[col] = df[col].method(value) instead, to perform the operation inplace on the original object.\n",
            "\n",
            "\n",
            "  df[col].fillna(fill_value, inplace=True)\n",
            "<ipython-input-4-efcdde2499d7>:57: FutureWarning: A value is trying to be set on a copy of a DataFrame or Series through chained assignment using an inplace method.\n",
            "The behavior will change in pandas 3.0. This inplace method will never work because the intermediate object on which we are setting values always behaves as a copy.\n",
            "\n",
            "For example, when doing 'df[col].method(value, inplace=True)', try using 'df.method({col: value}, inplace=True)' or df[col] = df[col].method(value) instead, to perform the operation inplace on the original object.\n",
            "\n",
            "\n",
            "  df[col].fillna(fill_value, inplace=True)\n",
            "<ipython-input-4-efcdde2499d7>:57: FutureWarning: A value is trying to be set on a copy of a DataFrame or Series through chained assignment using an inplace method.\n",
            "The behavior will change in pandas 3.0. This inplace method will never work because the intermediate object on which we are setting values always behaves as a copy.\n",
            "\n",
            "For example, when doing 'df[col].method(value, inplace=True)', try using 'df.method({col: value}, inplace=True)' or df[col] = df[col].method(value) instead, to perform the operation inplace on the original object.\n",
            "\n",
            "\n",
            "  df[col].fillna(fill_value, inplace=True)\n",
            "<ipython-input-4-efcdde2499d7>:57: FutureWarning: A value is trying to be set on a copy of a DataFrame or Series through chained assignment using an inplace method.\n",
            "The behavior will change in pandas 3.0. This inplace method will never work because the intermediate object on which we are setting values always behaves as a copy.\n",
            "\n",
            "For example, when doing 'df[col].method(value, inplace=True)', try using 'df.method({col: value}, inplace=True)' or df[col] = df[col].method(value) instead, to perform the operation inplace on the original object.\n",
            "\n",
            "\n",
            "  df[col].fillna(fill_value, inplace=True)\n",
            "<ipython-input-4-efcdde2499d7>:57: FutureWarning: A value is trying to be set on a copy of a DataFrame or Series through chained assignment using an inplace method.\n",
            "The behavior will change in pandas 3.0. This inplace method will never work because the intermediate object on which we are setting values always behaves as a copy.\n",
            "\n",
            "For example, when doing 'df[col].method(value, inplace=True)', try using 'df.method({col: value}, inplace=True)' or df[col] = df[col].method(value) instead, to perform the operation inplace on the original object.\n",
            "\n",
            "\n",
            "  df[col].fillna(fill_value, inplace=True)\n",
            "<ipython-input-4-efcdde2499d7>:57: FutureWarning: A value is trying to be set on a copy of a DataFrame or Series through chained assignment using an inplace method.\n",
            "The behavior will change in pandas 3.0. This inplace method will never work because the intermediate object on which we are setting values always behaves as a copy.\n",
            "\n",
            "For example, when doing 'df[col].method(value, inplace=True)', try using 'df.method({col: value}, inplace=True)' or df[col] = df[col].method(value) instead, to perform the operation inplace on the original object.\n",
            "\n",
            "\n",
            "  df[col].fillna(fill_value, inplace=True)\n",
            "<ipython-input-4-efcdde2499d7>:57: FutureWarning: A value is trying to be set on a copy of a DataFrame or Series through chained assignment using an inplace method.\n",
            "The behavior will change in pandas 3.0. This inplace method will never work because the intermediate object on which we are setting values always behaves as a copy.\n",
            "\n",
            "For example, when doing 'df[col].method(value, inplace=True)', try using 'df.method({col: value}, inplace=True)' or df[col] = df[col].method(value) instead, to perform the operation inplace on the original object.\n",
            "\n",
            "\n",
            "  df[col].fillna(fill_value, inplace=True)\n",
            "<ipython-input-4-efcdde2499d7>:57: FutureWarning: A value is trying to be set on a copy of a DataFrame or Series through chained assignment using an inplace method.\n",
            "The behavior will change in pandas 3.0. This inplace method will never work because the intermediate object on which we are setting values always behaves as a copy.\n",
            "\n",
            "For example, when doing 'df[col].method(value, inplace=True)', try using 'df.method({col: value}, inplace=True)' or df[col] = df[col].method(value) instead, to perform the operation inplace on the original object.\n",
            "\n",
            "\n",
            "  df[col].fillna(fill_value, inplace=True)\n",
            "<ipython-input-4-efcdde2499d7>:57: FutureWarning: A value is trying to be set on a copy of a DataFrame or Series through chained assignment using an inplace method.\n",
            "The behavior will change in pandas 3.0. This inplace method will never work because the intermediate object on which we are setting values always behaves as a copy.\n",
            "\n",
            "For example, when doing 'df[col].method(value, inplace=True)', try using 'df.method({col: value}, inplace=True)' or df[col] = df[col].method(value) instead, to perform the operation inplace on the original object.\n",
            "\n",
            "\n",
            "  df[col].fillna(fill_value, inplace=True)\n",
            "<ipython-input-4-efcdde2499d7>:57: FutureWarning: A value is trying to be set on a copy of a DataFrame or Series through chained assignment using an inplace method.\n",
            "The behavior will change in pandas 3.0. This inplace method will never work because the intermediate object on which we are setting values always behaves as a copy.\n",
            "\n",
            "For example, when doing 'df[col].method(value, inplace=True)', try using 'df.method({col: value}, inplace=True)' or df[col] = df[col].method(value) instead, to perform the operation inplace on the original object.\n",
            "\n",
            "\n",
            "  df[col].fillna(fill_value, inplace=True)\n",
            "<ipython-input-4-efcdde2499d7>:57: FutureWarning: A value is trying to be set on a copy of a DataFrame or Series through chained assignment using an inplace method.\n",
            "The behavior will change in pandas 3.0. This inplace method will never work because the intermediate object on which we are setting values always behaves as a copy.\n",
            "\n",
            "For example, when doing 'df[col].method(value, inplace=True)', try using 'df.method({col: value}, inplace=True)' or df[col] = df[col].method(value) instead, to perform the operation inplace on the original object.\n",
            "\n",
            "\n",
            "  df[col].fillna(fill_value, inplace=True)\n",
            "<ipython-input-4-efcdde2499d7>:57: FutureWarning: A value is trying to be set on a copy of a DataFrame or Series through chained assignment using an inplace method.\n",
            "The behavior will change in pandas 3.0. This inplace method will never work because the intermediate object on which we are setting values always behaves as a copy.\n",
            "\n",
            "For example, when doing 'df[col].method(value, inplace=True)', try using 'df.method({col: value}, inplace=True)' or df[col] = df[col].method(value) instead, to perform the operation inplace on the original object.\n",
            "\n",
            "\n",
            "  df[col].fillna(fill_value, inplace=True)\n",
            "<ipython-input-4-efcdde2499d7>:63: FutureWarning: A value is trying to be set on a copy of a DataFrame or Series through chained assignment using an inplace method.\n",
            "The behavior will change in pandas 3.0. This inplace method will never work because the intermediate object on which we are setting values always behaves as a copy.\n",
            "\n",
            "For example, when doing 'df[col].method(value, inplace=True)', try using 'df.method({col: value}, inplace=True)' or df[col] = df[col].method(value) instead, to perform the operation inplace on the original object.\n",
            "\n",
            "\n",
            "  df[col].fillna(fill_value, inplace=True)\n",
            "<ipython-input-4-efcdde2499d7>:63: FutureWarning: A value is trying to be set on a copy of a DataFrame or Series through chained assignment using an inplace method.\n",
            "The behavior will change in pandas 3.0. This inplace method will never work because the intermediate object on which we are setting values always behaves as a copy.\n",
            "\n",
            "For example, when doing 'df[col].method(value, inplace=True)', try using 'df.method({col: value}, inplace=True)' or df[col] = df[col].method(value) instead, to perform the operation inplace on the original object.\n",
            "\n",
            "\n",
            "  df[col].fillna(fill_value, inplace=True)\n",
            "<ipython-input-4-efcdde2499d7>:63: FutureWarning: A value is trying to be set on a copy of a DataFrame or Series through chained assignment using an inplace method.\n",
            "The behavior will change in pandas 3.0. This inplace method will never work because the intermediate object on which we are setting values always behaves as a copy.\n",
            "\n",
            "For example, when doing 'df[col].method(value, inplace=True)', try using 'df.method({col: value}, inplace=True)' or df[col] = df[col].method(value) instead, to perform the operation inplace on the original object.\n",
            "\n",
            "\n",
            "  df[col].fillna(fill_value, inplace=True)\n",
            "<ipython-input-4-efcdde2499d7>:63: FutureWarning: A value is trying to be set on a copy of a DataFrame or Series through chained assignment using an inplace method.\n",
            "The behavior will change in pandas 3.0. This inplace method will never work because the intermediate object on which we are setting values always behaves as a copy.\n",
            "\n",
            "For example, when doing 'df[col].method(value, inplace=True)', try using 'df.method({col: value}, inplace=True)' or df[col] = df[col].method(value) instead, to perform the operation inplace on the original object.\n",
            "\n",
            "\n",
            "  df[col].fillna(fill_value, inplace=True)\n",
            "<ipython-input-4-efcdde2499d7>:63: FutureWarning: A value is trying to be set on a copy of a DataFrame or Series through chained assignment using an inplace method.\n",
            "The behavior will change in pandas 3.0. This inplace method will never work because the intermediate object on which we are setting values always behaves as a copy.\n",
            "\n",
            "For example, when doing 'df[col].method(value, inplace=True)', try using 'df.method({col: value}, inplace=True)' or df[col] = df[col].method(value) instead, to perform the operation inplace on the original object.\n",
            "\n",
            "\n",
            "  df[col].fillna(fill_value, inplace=True)\n",
            "<ipython-input-4-efcdde2499d7>:63: FutureWarning: A value is trying to be set on a copy of a DataFrame or Series through chained assignment using an inplace method.\n",
            "The behavior will change in pandas 3.0. This inplace method will never work because the intermediate object on which we are setting values always behaves as a copy.\n",
            "\n",
            "For example, when doing 'df[col].method(value, inplace=True)', try using 'df.method({col: value}, inplace=True)' or df[col] = df[col].method(value) instead, to perform the operation inplace on the original object.\n",
            "\n",
            "\n",
            "  df[col].fillna(fill_value, inplace=True)\n",
            "<ipython-input-4-efcdde2499d7>:63: FutureWarning: A value is trying to be set on a copy of a DataFrame or Series through chained assignment using an inplace method.\n",
            "The behavior will change in pandas 3.0. This inplace method will never work because the intermediate object on which we are setting values always behaves as a copy.\n",
            "\n",
            "For example, when doing 'df[col].method(value, inplace=True)', try using 'df.method({col: value}, inplace=True)' or df[col] = df[col].method(value) instead, to perform the operation inplace on the original object.\n",
            "\n",
            "\n",
            "  df[col].fillna(fill_value, inplace=True)\n",
            "<ipython-input-4-efcdde2499d7>:63: FutureWarning: A value is trying to be set on a copy of a DataFrame or Series through chained assignment using an inplace method.\n",
            "The behavior will change in pandas 3.0. This inplace method will never work because the intermediate object on which we are setting values always behaves as a copy.\n",
            "\n",
            "For example, when doing 'df[col].method(value, inplace=True)', try using 'df.method({col: value}, inplace=True)' or df[col] = df[col].method(value) instead, to perform the operation inplace on the original object.\n",
            "\n",
            "\n",
            "  df[col].fillna(fill_value, inplace=True)\n",
            "<ipython-input-4-efcdde2499d7>:74: FutureWarning: A value is trying to be set on a copy of a DataFrame or Series through chained assignment using an inplace method.\n",
            "The behavior will change in pandas 3.0. This inplace method will never work because the intermediate object on which we are setting values always behaves as a copy.\n",
            "\n",
            "For example, when doing 'df[col].method(value, inplace=True)', try using 'df.method({col: value}, inplace=True)' or df[col] = df[col].method(value) instead, to perform the operation inplace on the original object.\n",
            "\n",
            "\n",
            "  df[col].fillna(df[col].median(), inplace=True)\n",
            "<ipython-input-4-efcdde2499d7>:76: FutureWarning: A value is trying to be set on a copy of a DataFrame or Series through chained assignment using an inplace method.\n",
            "The behavior will change in pandas 3.0. This inplace method will never work because the intermediate object on which we are setting values always behaves as a copy.\n",
            "\n",
            "For example, when doing 'df[col].method(value, inplace=True)', try using 'df.method({col: value}, inplace=True)' or df[col] = df[col].method(value) instead, to perform the operation inplace on the original object.\n",
            "\n",
            "\n",
            "  df[col].fillna(df[col].mode()[0], inplace=True)\n"
          ]
        }
      ],
      "source": [
        "# Preprocess training and validation data separately\n",
        "X_train, y_train = preprocess_data(train_data, is_train=True)\n",
        "X_val, y_val = preprocess_data(val_data, is_train=True)\n",
        "\n",
        "# Ensure training and validation sets have the same features (columns)\n",
        "X_train, X_val = X_train.align(X_val, join='left', axis=1, fill_value=0)"
      ]
    },
    {
      "cell_type": "code",
      "execution_count": 6,
      "metadata": {
        "id": "CkhP-cd50ePh"
      },
      "outputs": [],
      "source": [
        "param_grid = {\n",
        "    'n_estimators': [300, 400, 500, 600],\n",
        "    'max_depth': [None, 10, 20, 30, 40, 50],\n",
        "    'min_samples_split': [2, 5, 10],\n",
        "    'min_samples_leaf': [1, 2, 4],\n",
        "    'bootstrap': [True, False]\n",
        "}"
      ]
    },
    {
      "cell_type": "code",
      "execution_count": 7,
      "metadata": {
        "id": "n2XfpcEt0jaI"
      },
      "outputs": [],
      "source": [
        "# Initialize the RandomForestRegressor\n",
        "rf = RandomForestRegressor(random_state=42)"
      ]
    },
    {
      "cell_type": "code",
      "execution_count": 8,
      "metadata": {
        "id": "_15wKXRa0k_l"
      },
      "outputs": [],
      "source": [
        "random_search = RandomizedSearchCV(estimator=rf,\n",
        "                                   param_distributions=param_grid,\n",
        "                                   n_iter=50,\n",
        "                                   cv=3,\n",
        "                                   scoring='neg_root_mean_squared_error',\n",
        "                                   random_state=42,\n",
        "                                   n_jobs=-1,\n",
        "                                   verbose=1)"
      ]
    },
    {
      "cell_type": "code",
      "execution_count": null,
      "metadata": {
        "colab": {
          "base_uri": "https://localhost:8080/"
        },
        "id": "ndTtGo9t0nLJ",
        "outputId": "6b33b813-27e3-4008-a8b0-83618ca978e7"
      },
      "outputs": [
        {
          "name": "stdout",
          "output_type": "stream",
          "text": [
            "Fitting 3 folds for each of 50 candidates, totalling 150 fits\n"
          ]
        }
      ],
      "source": [
        "random_search.fit(X_train, y_train)"
      ]
    },
    {
      "cell_type": "code",
      "execution_count": null,
      "metadata": {
        "id": "n7piG8HN0qP3"
      },
      "outputs": [],
      "source": [
        "# Get the best parameters and model\n",
        "best_params = random_search.best_params_\n",
        "best_model = random_search.best_estimator_"
      ]
    },
    {
      "cell_type": "code",
      "execution_count": null,
      "metadata": {
        "id": "m07qGKf00vls"
      },
      "outputs": [],
      "source": [
        "# Evaluate on the validation set\n",
        "val_predictions = best_model.predict(X_val)\n",
        "rmse_val = np.sqrt(mean_squared_error(y_val, val_predictions))\n",
        "print(\"Best Parameters:\", best_params)\n",
        "print(\"Validation RMSE:\", rmse_val)"
      ]
    },
    {
      "cell_type": "code",
      "execution_count": null,
      "metadata": {
        "id": "LwerNpgi0xfT"
      },
      "outputs": [],
      "source": [
        "# Combine training and validation sets for final training\n",
        "X_full = pd.concat([X_train, X_val])\n",
        "y_full = pd.concat([y_train, y_val])"
      ]
    },
    {
      "cell_type": "code",
      "execution_count": null,
      "metadata": {
        "id": "S003mpr40zV4"
      },
      "outputs": [],
      "source": [
        "# Train a final RandomForestRegressor using the best parameters\n",
        "final_model = RandomForestRegressor(**best_params, random_state=42)\n",
        "final_model.fit(X_full, y_full)"
      ]
    },
    {
      "cell_type": "code",
      "execution_count": null,
      "metadata": {
        "id": "j1NncNor06_j"
      },
      "outputs": [],
      "source": [
        "# Load and preprocess the test data\n",
        "test_df = pd.read_csv('test.csv')"
      ]
    },
    {
      "cell_type": "code",
      "execution_count": null,
      "metadata": {
        "id": "ewUSwFpu0z7B"
      },
      "outputs": [],
      "source": [
        "# Save the Ids for the submission file\n",
        "test_ids = test_df['Id'].copy()"
      ]
    },
    {
      "cell_type": "code",
      "execution_count": null,
      "metadata": {
        "id": "jkbfF3SD040x"
      },
      "outputs": [],
      "source": [
        "X_test = preprocess_data(test_df, is_train=False)\n",
        "# Align test set features with training features\n",
        "X_test = X_test.reindex(columns=X_full.columns, fill_value=0)"
      ]
    },
    {
      "cell_type": "code",
      "execution_count": null,
      "metadata": {
        "id": "acNZNivA1DSW"
      },
      "outputs": [],
      "source": [
        "# Generate predictions for the test set\n",
        "test_predictions = final_model.predict(X_test)"
      ]
    },
    {
      "cell_type": "code",
      "execution_count": null,
      "metadata": {
        "id": "I5rKJpnv1Go_"
      },
      "outputs": [],
      "source": [
        "# Create a submission dataframe (assuming the sample_submission.csv expects 'Id' and 'SalePrice')\n",
        "submission = pd.DataFrame({'Id': test_ids, 'SalePrice': test_predictions})\n",
        "submission.to_csv('submission.csv', index=False)\n",
        "\n",
        "print(\"Submission file 'submission.csv' created successfully!\")"
      ]
    },
    {
      "cell_type": "code",
      "execution_count": null,
      "metadata": {
        "id": "jzQq8gcd_nMz"
      },
      "outputs": [],
      "source": [
        "import xgboost as xgb"
      ]
    },
    {
      "cell_type": "code",
      "execution_count": null,
      "metadata": {
        "id": "rLlvXvo2_nhK"
      },
      "outputs": [],
      "source": [
        "param_grid = {\n",
        "    'n_estimators': [100, 200, 300, 400],\n",
        "    'max_depth': [3, 4, 5, 6, 7],\n",
        "    'learning_rate': [0.01, 0.05, 0.1, 0.2],\n",
        "    'subsample': [0.6, 0.8, 1.0],\n",
        "    'colsample_bytree': [0.6, 0.8, 1.0]\n",
        "}"
      ]
    },
    {
      "cell_type": "code",
      "execution_count": null,
      "metadata": {
        "id": "L3p-H43F_tRy"
      },
      "outputs": [],
      "source": [
        "# Initialize the XGBRegressor\n",
        "xgb_reg = xgb.XGBRegressor(objective='reg:squarederror', random_state=42)\n",
        "\n",
        "# Set up RandomizedSearchCV using negative RMSE as the scoring metric\n",
        "random_search = RandomizedSearchCV(estimator=xgb_reg,\n",
        "                                   param_distributions=param_grid,\n",
        "                                   n_iter=50,\n",
        "                                   cv=3,\n",
        "                                   scoring='neg_root_mean_squared_error',\n",
        "                                   random_state=42,\n",
        "                                   n_jobs=-1,\n",
        "                                   verbose=1)"
      ]
    },
    {
      "cell_type": "code",
      "execution_count": null,
      "metadata": {
        "id": "Wl4k0SQx_v8Q"
      },
      "outputs": [],
      "source": [
        "# Fit the random search model on the training data\n",
        "random_search.fit(X_train, y_train)"
      ]
    },
    {
      "cell_type": "code",
      "execution_count": null,
      "metadata": {
        "id": "nS0I6KU6_1WS"
      },
      "outputs": [],
      "source": [
        "# Get the best parameters and model\n",
        "best_params = random_search.best_params_\n",
        "best_model = random_search.best_estimator_"
      ]
    },
    {
      "cell_type": "code",
      "execution_count": null,
      "metadata": {
        "id": "JO-29nMV_6Cn"
      },
      "outputs": [],
      "source": [
        "# Evaluate on the validation set\n",
        "val_predictions = best_model.predict(X_val)\n",
        "rmse_val = np.sqrt(mean_squared_error(y_val, val_predictions))\n",
        "print(\"Best Parameters:\", best_params)\n",
        "print(\"Validation RMSE:\", rmse_val)"
      ]
    },
    {
      "cell_type": "code",
      "execution_count": null,
      "metadata": {
        "id": "bZH9ZQKv__hV"
      },
      "outputs": [],
      "source": [
        "# Combine training and validation sets for final training\n",
        "X_full = pd.concat([X_train, X_val])\n",
        "y_full = pd.concat([y_train, y_val])\n",
        "\n",
        "# Train the final XGBRegressor using the best parameters\n",
        "final_model = xgb.XGBRegressor(**best_params, objective='reg:squarederror', random_state=42)\n",
        "final_model.fit(X_full, y_full)\n",
        "\n",
        "# Load and preprocess the test data\n",
        "test_df = pd.read_csv('test.csv')\n",
        "# Save the Ids for the submission file\n",
        "test_ids = test_df['Id'].copy()"
      ]
    },
    {
      "cell_type": "code",
      "execution_count": null,
      "metadata": {
        "id": "03lznPvxABZ8"
      },
      "outputs": [],
      "source": [
        "X_test = preprocess_data(test_df, is_train=False)\n",
        "# Align test set features with training features\n",
        "X_test = X_test.reindex(columns=X_full.columns, fill_value=0)"
      ]
    },
    {
      "cell_type": "code",
      "execution_count": null,
      "metadata": {
        "id": "yy24YaH1ABwf"
      },
      "outputs": [],
      "source": [
        "# Generate predictions for the test set\n",
        "test_predictions = final_model.predict(X_test)"
      ]
    },
    {
      "cell_type": "code",
      "execution_count": null,
      "metadata": {
        "id": "wZnwvXWKAEsh"
      },
      "outputs": [],
      "source": [
        "# Create a submission dataframe (assumes sample_submission.csv expects 'Id' and 'SalePrice')\n",
        "submission = pd.DataFrame({'Id': test_ids, 'SalePrice': test_predictions})\n",
        "submission.to_csv('submission_XGBoost.csv', index=False)\n",
        "\n",
        "print(\"Submission file 'submission_XGBoost.csv' created successfully!\")"
      ]
    }
  ],
  "metadata": {
    "colab": {
      "provenance": []
    },
    "kernelspec": {
      "display_name": "Python 3",
      "name": "python3"
    },
    "language_info": {
      "name": "python"
    }
  },
  "nbformat": 4,
  "nbformat_minor": 0
}
