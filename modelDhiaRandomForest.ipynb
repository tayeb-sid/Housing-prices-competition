{
 "cells": [
  {
   "cell_type": "code",
   "execution_count": 1,
   "metadata": {},
   "outputs": [],
   "source": [
    "from sklearn.ensemble import RandomForestRegressor\n",
    "from sklearn.model_selection import GridSearchCV\n",
    "from sklearn.metrics import mean_absolute_error, mean_squared_error, r2_score\n",
    "import pandas as pd\n",
    "import numpy as np\n",
    "import matplotlib.pyplot as plt\n",
    "import seaborn as sns"
   ]
  },
  {
   "cell_type": "code",
   "execution_count": null,
   "metadata": {},
   "outputs": [
    {
     "name": "stdout",
     "output_type": "stream",
     "text": [
      "✅ Best Parameters Found: {'max_depth': 10, 'min_samples_split': 5, 'n_estimators': 300}\n",
      "\n",
      "📊 Model Performance on Training Set:\n",
      "📈 Training R² Score: 0.9711\n",
      "📉 Training MAE: 8348.64\n",
      "📉 Training RMSE: 13501.78\n",
      "\n",
      "📁 Predictions saved to submission_dhia_notSkewed_PCA.csv ✅\n"
     ]
    },
    {
     "name": "stderr",
     "output_type": "stream",
     "text": [
      "c:\\Users\\dhiaa\\AppData\\Local\\Programs\\Python\\Python311\\Lib\\site-packages\\sklearn\\metrics\\_regression.py:483: FutureWarning: 'squared' is deprecated in version 1.4 and will be removed in 1.6. To calculate the root mean squared error, use the function'root_mean_squared_error'.\n",
      "  warnings.warn(\n"
     ]
    }
   ],
   "source": [
    "#load the Datasets\n",
    "train = pd.read_csv(\"final_data.csv\")\n",
    "test = pd.read_csv(\"final_test_data.csv\")\n",
    "sample_submission = pd.read_csv(\"home-data-for-ml-course\\sample_submission.csv\")\n",
    "\n",
    "#define Features (X) and Target (y)\n",
    "y_train = train[\"SalePrice\"]  # Target variable\n",
    "X_train = train.drop(columns=[\"SalePrice\"])  # Remove target from train data\n",
    "\n",
    "X_test = test.copy()  # Keep test dataset separate\n",
    "\n",
    "#Define Hyperparameter Grid for GridSearchCV\n",
    "param_grid = {\n",
    "    \"n_estimators\": [100, 200, 300],\n",
    "    \"max_depth\": [5, 10, 15],\n",
    "    \"min_samples_split\": [2, 5, 10]\n",
    "}\n",
    "\n",
    "#Perform Grid Search to Find Best Hyperparameters\n",
    "grid_search = GridSearchCV(\n",
    "    RandomForestRegressor(random_state=42),\n",
    "    param_grid,\n",
    "    cv=3,\n",
    "    scoring=\"r2\",\n",
    "    n_jobs=-1\n",
    ")\n",
    "grid_search.fit(X_train, y_train)\n",
    "\n",
    "#Get Best Hyperparameters\n",
    "best_params = grid_search.best_params_\n",
    "print(\"Best Parameters Found:\", best_params)\n",
    "\n",
    "#Train Model with Best Parameters\n",
    "best_rf_model = RandomForestRegressor(\n",
    "    n_estimators=best_params[\"n_estimators\"],\n",
    "    max_depth=best_params[\"max_depth\"],\n",
    "    min_samples_split=best_params[\"min_samples_split\"],\n",
    "    random_state=42\n",
    ")\n",
    "best_rf_model.fit(X_train, y_train)\n",
    "\n",
    "#Evaluate Model on Training Data\n",
    "y_train_pred = best_rf_model.predict(X_train)\n",
    "\n",
    "#Compute Metrics\n",
    "train_r2 = r2_score(y_train, y_train_pred)\n",
    "train_mae = mean_absolute_error(y_train, y_train_pred)\n",
    "train_rmse = mean_squared_error(y_train, y_train_pred, squared=False)\n",
    "\n",
    "#Display Model Performance\n",
    "print(\"\\n Model Performance on Training Set:\")\n",
    "print(f\" Training R² Score: {train_r2:.4f}\")\n",
    "print(f\" Training MAE: {train_mae:.2f}\")\n",
    "print(f\" Training RMSE: {train_rmse:.2f}\")\n",
    "\n",
    "#Make Predictions on Test Set\n",
    "y_test_pred = best_rf_model.predict(X_test)\n",
    "\n",
    "#Prepare Submission File\n",
    "submission = pd.DataFrame({\"Id\": sample_submission[\"Id\"], \"SalePrice\": y_test_pred})\n",
    "submission.to_csv(\"submission_final_data_bilel.csv\", index=False)\n",
    "print(\"\\n Predictions saved to submission_dhia_notSkewed_PCA.csv \")"
   ]
  }
 ],
 "metadata": {
  "kernelspec": {
   "display_name": "Python 3",
   "language": "python",
   "name": "python3"
  },
  "language_info": {
   "codemirror_mode": {
    "name": "ipython",
    "version": 3
   },
   "file_extension": ".py",
   "mimetype": "text/x-python",
   "name": "python",
   "nbconvert_exporter": "python",
   "pygments_lexer": "ipython3",
   "version": "3.11.4"
  }
 },
 "nbformat": 4,
 "nbformat_minor": 2
}
